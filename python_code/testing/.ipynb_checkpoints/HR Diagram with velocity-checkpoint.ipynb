{
 "metadata": {
  "name": "",
  "signature": "sha256:85a014b7dd74b1d7ae2c27155c2bb5f698da07aa529698586027b72b47f91225"
 },
 "nbformat": 3,
 "nbformat_minor": 0,
 "worksheets": [
  {
   "cells": [
    {
     "cell_type": "code",
     "collapsed": false,
     "input": [
      "import pandas as pd\n",
      "import matplotlib.pyplot as plt\n",
      "%matplotlib inline\n",
      "import numpy as np \n",
      "import glob "
     ],
     "language": "python",
     "metadata": {},
     "outputs": [],
     "prompt_number": 1
    },
    {
     "cell_type": "heading",
     "level": 1,
     "metadata": {},
     "source": [
      "Select data for making HR diagram "
     ]
    },
    {
     "cell_type": "code",
     "collapsed": false,
     "input": [],
     "language": "python",
     "metadata": {},
     "outputs": [],
     "prompt_number": 2
    },
    {
     "cell_type": "code",
     "collapsed": false,
     "input": [
      "data_dir='/users/bhastings/internship/data/MW/'\n",
      "file_ext= '.dat2'\n",
      "t_val=5e6 # age of model to choose \n",
      "\n",
      "#########################################################\n",
      "#REMEMBER TO REMOVE LIMIT FROM 0 TO 10!!!!!!!!!!!!!!!!!!!!\n",
      "data_files=sorted(glob.glob(data_dir +'*'+ file_ext))\n",
      "\n",
      "print 'There are ', len(data_files), file_ext, ' files', '\\nin directory ', data_dir\n",
      "\n",
      "\n",
      "#create dataframe to store values for making hr diagram\n",
      "wanted_cols=['1:t[s]', '2:M/Msun', '3:Teff[K]', '4:log(L/Lsun)', '8:v_crit[km/s]', '9:v_surf[km/s]']\n",
      "HR_data= pd.DataFrame(columns=wanted_cols)\n",
      "HR_data.head()\n",
      "\n",
      "\n",
      "for f in data_files:\n",
      "    #print f\n",
      "    if \"-0\" in str(f): # if file is for NON rotating star, remove vrot and crit vel from col names \n",
      "        col_names= ['1:t[s]', '2:M/Msun', '3:Teff[K]', '4:log(L/Lsun)', '5:R/Rsun', '6:log(Mdot)[Msun/yr]', '7:logg[cgs]', \n",
      "                    '10:P[days]', '11:H', '12:He', '13:Li', '14:Be', '15:B', '16:C', '17:N', '18:O', \n",
      "                '19:F', '20:Ne', '21:Na', '22:Mg', '23:Al', '24:Si', '25:Fe', '26:H_massfr', '27:He_massfr']\n",
      "    else: \n",
      "        col_names= ['1:t[s]', '2:M/Msun', '3:Teff[K]', '4:log(L/Lsun)', '5:R/Rsun', '6:log(Mdot)[Msun/yr]', '7:logg[cgs]', '8:v_crit[km/s]', \n",
      "                '9:v_surf[km/s]', '10:P[days]', '11:H', '12:He', '13:Li', '14:Be', '15:B', '16:C', '17:N', '18:O', \n",
      "                '19:F', '20:Ne', '21:Na', '22:Mg', '23:Al', '24:Si', '25:Fe', '26:H_massfr', '27:He_massfr']\n",
      "\n",
      "    dat= pd.read_csv(f, delim_whitespace=True,comment='#', names=col_names, usecols=wanted_cols)\n",
      "    #select data based on some criterea\n",
      "    dat= dat.iloc[0]#dat.iloc[dat['1:t[s]'].sub(t_val).abs().sort_values().index[0]]\n",
      "    #print dat\n",
      "    HR_data=HR_data.append(dat)\n",
      "\n",
      "\n",
      "\n",
      "HR_data['v/v_crit']= HR_data['9:v_surf[km/s]']/HR_data['8:v_crit[km/s]']\n",
      "\n",
      "HR_data.head()"
     ],
     "language": "python",
     "metadata": {},
     "outputs": [
      {
       "output_type": "stream",
       "stream": "stdout",
       "text": [
        "There are  206 .dat2  files \n",
        "in directory  /users/bhastings/internship/data/MW/\n"
       ]
      },
      {
       "html": [
        "<div style=\"max-width:1500px;overflow:auto;\">\n",
        "<table border=\"1\" class=\"dataframe\">\n",
        "  <thead>\n",
        "    <tr style=\"text-align: right;\">\n",
        "      <th></th>\n",
        "      <th>1:t[s]</th>\n",
        "      <th>2:M/Msun</th>\n",
        "      <th>3:Teff[K]</th>\n",
        "      <th>4:log(L/Lsun)</th>\n",
        "      <th>8:v_crit[km/s]</th>\n",
        "      <th>9:v_surf[km/s]</th>\n",
        "      <th>v/v_crit</th>\n",
        "    </tr>\n",
        "  </thead>\n",
        "  <tbody>\n",
        "    <tr>\n",
        "      <th>0</th>\n",
        "      <td>0</td>\n",
        "      <td>9.999780</td>\n",
        "      <td>25923.13157</td>\n",
        "      <td>3.736137</td>\n",
        "      <td>NaN</td>\n",
        "      <td>NaN</td>\n",
        "      <td>NaN</td>\n",
        "    </tr>\n",
        "    <tr>\n",
        "      <th>0</th>\n",
        "      <td>0</td>\n",
        "      <td>9.999725</td>\n",
        "      <td>25754.84094</td>\n",
        "      <td>3.736243</td>\n",
        "      <td>712.263</td>\n",
        "      <td>113.377210</td>\n",
        "      <td>0.159179</td>\n",
        "    </tr>\n",
        "    <tr>\n",
        "      <th>0</th>\n",
        "      <td>0</td>\n",
        "      <td>9.999765</td>\n",
        "      <td>25653.61126</td>\n",
        "      <td>3.730736</td>\n",
        "      <td>711.781</td>\n",
        "      <td>170.495589</td>\n",
        "      <td>0.239534</td>\n",
        "    </tr>\n",
        "    <tr>\n",
        "      <th>0</th>\n",
        "      <td>0</td>\n",
        "      <td>9.999704</td>\n",
        "      <td>25323.94772</td>\n",
        "      <td>3.728090</td>\n",
        "      <td>703.732</td>\n",
        "      <td>225.855491</td>\n",
        "      <td>0.320940</td>\n",
        "    </tr>\n",
        "    <tr>\n",
        "      <th>0</th>\n",
        "      <td>0</td>\n",
        "      <td>9.999650</td>\n",
        "      <td>24937.59907</td>\n",
        "      <td>3.723835</td>\n",
        "      <td>694.740</td>\n",
        "      <td>280.546683</td>\n",
        "      <td>0.403815</td>\n",
        "    </tr>\n",
        "  </tbody>\n",
        "</table>\n",
        "</div>"
       ],
       "metadata": {},
       "output_type": "pyout",
       "prompt_number": 2,
       "text": [
        "   1:t[s]  2:M/Msun    3:Teff[K]  4:log(L/Lsun)  8:v_crit[km/s]  \\\n",
        "0       0  9.999780  25923.13157       3.736137             NaN   \n",
        "0       0  9.999725  25754.84094       3.736243         712.263   \n",
        "0       0  9.999765  25653.61126       3.730736         711.781   \n",
        "0       0  9.999704  25323.94772       3.728090         703.732   \n",
        "0       0  9.999650  24937.59907       3.723835         694.740   \n",
        "\n",
        "   9:v_surf[km/s]  v/v_crit  \n",
        "0             NaN       NaN  \n",
        "0      113.377210  0.159179  \n",
        "0      170.495589  0.239534  \n",
        "0      225.855491  0.320940  \n",
        "0      280.546683  0.403815  "
       ]
      }
     ],
     "prompt_number": 2
    },
    {
     "cell_type": "markdown",
     "metadata": {},
     "source": [
      "## make HR diagram ##"
     ]
    },
    {
     "cell_type": "code",
     "collapsed": false,
     "input": [
      "plt.figure(figsize=(10,8))\n",
      "\n",
      "plt.title(\"HR Diagram\")\n",
      "plt.xlabel(r'$Log (T_{eff}/K)$', size=16)\n",
      "plt.ylabel(r'$ Log (L/L_\\odot)$',size=16)\n",
      "\n",
      "plt.scatter(np.log10(HR_data['3:Teff[K]']), HR_data['4:log(L/Lsun)'], c=HR_data['v/v_crit'], cmap='viridis' )\n",
      "\n",
      "plt.gca().invert_xaxis() # invert xaxis \n",
      "#plt.colorbar(label='V_surf', rotation=270) #show colourbar \n",
      "\n",
      "\n",
      "\n",
      "cbar = plt.colorbar()\n",
      "#cbar.ax.set_yticklabels(['0','1','2','>3'])\n",
      "cbar.set_label(r'$\\frac{V}{V_{crit}}$', rotation=0, size=24, labelpad=40, y=0.5)\n",
      "\n",
      "\n",
      "\n",
      "\n",
      "plt.show()\n"
     ],
     "language": "python",
     "metadata": {},
     "outputs": [
      {
       "metadata": {},
       "output_type": "display_data",
       "png": "[encoded data removed]",
       "text": [
        "<matplotlib.figure.Figure at 0x7f754fc7fe10>"
       ]
      }
     ],
     "prompt_number": 3
    },
    {
     "cell_type": "code",
     "collapsed": false,
     "input": [
      "plt.hist(HR_data['1:t[s]'], bins=50)\n",
      "plt.show()"
     ],
     "language": "python",
     "metadata": {},
     "outputs": []
    },
    {
     "cell_type": "code",
     "collapsed": false,
     "input": [],
     "language": "python",
     "metadata": {},
     "outputs": []
    },
    {
     "cell_type": "markdown",
     "metadata": {},
     "source": [
      "## pick out one model to investigate ##"
     ]
    },
    {
     "cell_type": "code",
     "collapsed": false,
     "input": [
      "data_dir='/users/bhastings/internship/data/MW/'\n",
      "file_ext= '.dat2'\n",
      "\n",
      "#########################################################\n",
      "#REMEMBER TO REMOVE LIMIT FROM 0 TO 10!!!!!!!!!!!!!!!!!!!!\n",
      "data_files=glob.glob(data_dir +'*'+ file_ext)[105:120]\n",
      "\n",
      "print 'There are ', len(data_files), file_ext, ' files', '\\nin directory ', data_dir\n",
      "f=data_files[0]\n",
      "\n",
      "print f\n",
      "if \"-0\" in str(f): # if file is for NON rotating star, remove vrot and crit vel from col names \n",
      "    col_names= ['1:t[s]', '2:M/Msun', '3:Teff[K]', '4:log(L/Lsun)', '5:R/Rsun', '6:log(Mdot)[Msun/yr]', '7:logg[cgs]', \n",
      "                '10:P[days]', '11:H', '12:He', '13:Li', '14:Be', '15:B', '16:C', '17:N', '18:O', \n",
      "            '19:F', '20:Ne', '21:Na', '22:Mg', '23:Al', '24:Si', '25:Fe', '26:H_massfr', '27:He_massfr']\n",
      "else: \n",
      "    col_names= ['1:t[s]', '2:M/Msun', '3:Teff[K]', '4:log(L/Lsun)', '5:R/Rsun', '6:log(Mdot)[Msun/yr]', '7:logg[cgs]', '8:v_crit[km/s]', \n",
      "            '9:v_surf[km/s]', '10:P[days]', '11:H', '12:He', '13:Li', '14:Be', '15:B', '16:C', '17:N', '18:O', \n",
      "            '19:F', '20:Ne', '21:Na', '22:Mg', '23:Al', '24:Si', '25:Fe', '26:H_massfr', '27:He_massfr']\n",
      "\n",
      "dat_test= pd.read_csv(f, delim_whitespace=True,comment='#', names=col_names)\n",
      "#select 1st row of data ---> later change to find ZAMS \n",
      "#dat= dat.iloc[0]\n",
      "print dat_test.head()\n",
      "\n",
      "plt.plot( np.log10(dat_test['1:t[s]']),dat_test['26:H_massfr'])"
     ],
     "language": "python",
     "metadata": {},
     "outputs": [
      {
       "output_type": "stream",
       "stream": "stdout",
       "text": [
        "There are  15 .dat2  files \n",
        "in directory  /users/bhastings/internship/data/MW/\n",
        "/users/bhastings/internship/data/MW/f35-150.mw.dat2\n",
        "    1:t[s]   2:M/Msun    3:Teff[K]  4:log(L/Lsun)  5:R/Rsun  \\\n",
        "0      0.0  34.942720  42331.62091       5.213884   7.51979   \n",
        "1  20124.7  34.935953  42289.37265       5.214973   7.54428   \n",
        "2  39954.6  34.929249  42249.59683       5.216032   7.56771   \n",
        "3  59525.3  34.922597  42215.82028       5.217089   7.58906   \n",
        "4  78815.7  34.916005  42182.21247       5.218122   7.61020   \n",
        "\n",
        "   6:log(Mdot)[Msun/yr]  7:logg[cgs]  8:v_crit[km/s]  9:v_surf[km/s]  \\\n",
        "0              -6.47557      4.22618         883.343      163.139592   \n",
        "1              -6.47330      4.22327         881.661      162.916884   \n",
        "2              -6.47096      4.22050         880.053      162.710691   \n",
        "3              -6.46867      4.21797         878.573      162.538143   \n",
        "4              -6.46637      4.21547         877.114      162.361766   \n",
        "\n",
        "   10:P[days]      ...           18:O      19:F     20:Ne     21:Na     22:Mg  \\\n",
        "0    2.332716      ...       8.550012  4.560006  7.840012  6.170012  7.320006   \n",
        "1    2.343513      ...       8.550012  4.560006  7.840012  6.170012  7.320006   \n",
        "2    2.353774      ...       8.550012  4.560006  7.840012  6.170012  7.320006   \n",
        "3    2.362921      ...       8.550012  4.560006  7.840012  6.170012  7.320006   \n",
        "4    2.372079      ...       8.550012  4.560006  7.840012  6.170012  7.320006   \n",
        "\n",
        "      23:Al     24:Si     25:Fe  26:H_massfr  27:He_massfr  \n",
        "0  6.370006  7.410011  7.400012     0.727394      0.263815  \n",
        "1  6.370006  7.410011  7.400012     0.727394      0.263815  \n",
        "2  6.370006  7.410011  7.400012     0.727394      0.263815  \n",
        "3  6.370006  7.410011  7.400012     0.727394      0.263815  \n",
        "4  6.370006  7.410011  7.400012     0.727394      0.263815  \n",
        "\n",
        "[5 rows x 27 columns]"
       ]
      },
      {
       "output_type": "stream",
       "stream": "stdout",
       "text": [
        "\n"
       ]
      },
      {
       "metadata": {},
       "output_type": "pyout",
       "prompt_number": 78,
       "text": [
        "[<matplotlib.lines.Line2D at 0x7f638c4d2bd0>]"
       ]
      },
      {
       "metadata": {},
       "output_type": "display_data",
       "png": "[encoded data removed]",
       "text": [
        "<matplotlib.figure.Figure at 0x7f638c67a550>"
       ]
      }
     ],
     "prompt_number": 78
    },
    {
     "cell_type": "code",
     "collapsed": false,
     "input": [
      "plt.plot( np.log10(dat_test['1:t[s]']),dat_test['26:H_massfr'])"
     ],
     "language": "python",
     "metadata": {},
     "outputs": [
      {
       "metadata": {},
       "output_type": "pyout",
       "prompt_number": 76,
       "text": [
        "[<matplotlib.lines.Line2D at 0x7f638c8a0fd0>]"
       ]
      },
      {
       "metadata": {},
       "output_type": "display_data",
       "png": "[encoded data removed]",
       "text": [
        "<matplotlib.figure.Figure at 0x7f638c3fd390>"
       ]
      }
     ],
     "prompt_number": 76
    },
    {
     "cell_type": "code",
     "collapsed": false,
     "input": [],
     "language": "python",
     "metadata": {},
     "outputs": []
    }
   ],
   "metadata": {}
  }
 ]
}