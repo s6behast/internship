{
 "metadata": {
  "name": "",
  "signature": "sha256:5712fb9f686ce938570646fa7c438d8ab92125b7b909fcead8c50e528aac03e3"
 },
 "nbformat": 3,
 "nbformat_minor": 0,
 "worksheets": [
  {
   "cells": [
    {
     "cell_type": "code",
     "collapsed": false,
     "input": [
      "import pandas as pd\n",
      "import matplotlib.pyplot as plt\n",
      "%matplotlib inline\n",
      "from pylab import rcParams\n",
      "rcParams['figure.figsize'] = 8, 6\n",
      "import numpy as np \n",
      "import glob \n",
      "\n",
      "data_dir='/users/bhastings/internship/data/MW/'\n",
      "file_ext= '.al261'\n",
      "\n",
      "M_sun=2e33 #solar mass in g "
     ],
     "language": "python",
     "metadata": {},
     "outputs": [],
     "prompt_number": 2
    },
    {
     "cell_type": "code",
     "collapsed": false,
     "input": [
      "data_files=sorted(sorted(glob.glob(data_dir +'*'+ file_ext)), key=len) \n",
      "\n",
      "print 'There are ', len(data_files), file_ext, ' files', '\\nin directory ', data_dir\n",
      "\n",
      "\n",
      "\n",
      "def read_file(f):\n",
      "    model_name= f.split('/')[-1].rsplit('.',1)[0]\n",
      "    \n",
      "    col_names= ['1:t[yr]', '2:cen_al26_abund[frac]', '3:max_al26_abund[frac]', '4:mass_coord_of_max_al26abund[g]',\n",
      "                        '5:total_al26_mass[g]', '6:al26_lost_mass_transfer[g]', '7:wind_loss[g]', '8:energy_rel_by_decay[MeV]'\n",
      "                        ]\n",
      "\n",
      "    df= pd.read_csv(f, delim_whitespace=True,comment='#', names=col_names)\n",
      "    df = df.apply(pd.to_numeric, errors='coerce', axis=1) # convert all values to floats \n",
      "    return df, model_name\n",
      "\n",
      "\n",
      "\n",
      "\n",
      "#select a file to load to test process  \n",
      "u='f30-300.mw.al261'\n",
      "df,n= read_file(data_dir+u)   \n",
      "#df,model_name= read_file(f)\n",
      "\n",
      "print df.columns.tolist()\n",
      "df.head()"
     ],
     "language": "python",
     "metadata": {},
     "outputs": [
      {
       "output_type": "stream",
       "stream": "stdout",
       "text": [
        "There are  206 .al261  files \n",
        "in directory  /users/bhastings/internship/data/MW/\n",
        "['1:t[yr]', '2:cen_al26_abund[frac]', '3:max_al26_abund[frac]', '4:mass_coord_of_max_al26abund[g]', '5:total_al26_mass[g]', '6:al26_lost_mass_transfer[g]', '7:wind_loss[g]', '8:energy_rel_by_decay[MeV]']"
       ]
      },
      {
       "output_type": "stream",
       "stream": "stdout",
       "text": [
        "\n"
       ]
      },
      {
       "html": [
        "<div style=\"max-width:1500px;overflow:auto;\">\n",
        "<table border=\"1\" class=\"dataframe\">\n",
        "  <thead>\n",
        "    <tr style=\"text-align: right;\">\n",
        "      <th></th>\n",
        "      <th>1:t[yr]</th>\n",
        "      <th>2:cen_al26_abund[frac]</th>\n",
        "      <th>3:max_al26_abund[frac]</th>\n",
        "      <th>4:mass_coord_of_max_al26abund[g]</th>\n",
        "      <th>5:total_al26_mass[g]</th>\n",
        "      <th>6:al26_lost_mass_transfer[g]</th>\n",
        "      <th>7:wind_loss[g]</th>\n",
        "      <th>8:energy_rel_by_decay[MeV]</th>\n",
        "    </tr>\n",
        "  </thead>\n",
        "  <tbody>\n",
        "    <tr>\n",
        "      <th>0</th>\n",
        "      <td>0.00000</td>\n",
        "      <td>0.000000e+00</td>\n",
        "      <td>1.110220e-16</td>\n",
        "      <td>NaN</td>\n",
        "      <td>0.000000e+00</td>\n",
        "      <td>0</td>\n",
        "      <td>0</td>\n",
        "      <td>NaN</td>\n",
        "    </tr>\n",
        "    <tr>\n",
        "      <th>1</th>\n",
        "      <td>316.88088</td>\n",
        "      <td>1.038090e-09</td>\n",
        "      <td>1.038090e-09</td>\n",
        "      <td>0</td>\n",
        "      <td>NaN</td>\n",
        "      <td>0</td>\n",
        "      <td>NaN</td>\n",
        "      <td>NaN</td>\n",
        "    </tr>\n",
        "    <tr>\n",
        "      <th>2</th>\n",
        "      <td>697.13793</td>\n",
        "      <td>2.081020e-09</td>\n",
        "      <td>2.081020e-09</td>\n",
        "      <td>0</td>\n",
        "      <td>8.049030e+25</td>\n",
        "      <td>NaN</td>\n",
        "      <td>NaN</td>\n",
        "      <td>NaN</td>\n",
        "    </tr>\n",
        "    <tr>\n",
        "      <th>3</th>\n",
        "      <td>1153.44640</td>\n",
        "      <td>3.230880e-09</td>\n",
        "      <td>3.230880e-09</td>\n",
        "      <td>0</td>\n",
        "      <td>1.246340e+26</td>\n",
        "      <td>NaN</td>\n",
        "      <td>NaN</td>\n",
        "      <td>NaN</td>\n",
        "    </tr>\n",
        "    <tr>\n",
        "      <th>4</th>\n",
        "      <td>1701.01660</td>\n",
        "      <td>4.588650e-09</td>\n",
        "      <td>4.588650e-09</td>\n",
        "      <td>0</td>\n",
        "      <td>1.759700e+26</td>\n",
        "      <td>NaN</td>\n",
        "      <td>NaN</td>\n",
        "      <td>NaN</td>\n",
        "    </tr>\n",
        "  </tbody>\n",
        "</table>\n",
        "</div>"
       ],
       "metadata": {},
       "output_type": "pyout",
       "prompt_number": 31,
       "text": [
        "      1:t[yr]  2:cen_al26_abund[frac]  3:max_al26_abund[frac]  \\\n",
        "0     0.00000            0.000000e+00            1.110220e-16   \n",
        "1   316.88088            1.038090e-09            1.038090e-09   \n",
        "2   697.13793            2.081020e-09            2.081020e-09   \n",
        "3  1153.44640            3.230880e-09            3.230880e-09   \n",
        "4  1701.01660            4.588650e-09            4.588650e-09   \n",
        "\n",
        "   4:mass_coord_of_max_al26abund[g]  5:total_al26_mass[g]  \\\n",
        "0                               NaN          0.000000e+00   \n",
        "1                                 0                   NaN   \n",
        "2                                 0          8.049030e+25   \n",
        "3                                 0          1.246340e+26   \n",
        "4                                 0          1.759700e+26   \n",
        "\n",
        "   6:al26_lost_mass_transfer[g]  7:wind_loss[g]  8:energy_rel_by_decay[MeV]  \n",
        "0                             0               0                         NaN  \n",
        "1                             0             NaN                         NaN  \n",
        "2                           NaN             NaN                         NaN  \n",
        "3                           NaN             NaN                         NaN  \n",
        "4                           NaN             NaN                         NaN  "
       ]
      }
     ],
     "prompt_number": 31
    },
    {
     "cell_type": "code",
     "collapsed": false,
     "input": [
      "#print df['1:t[yr]']\n",
      "#print df.sort_values(['6:al26_lost_mass_transfer[g]'], ascending=False )\n",
      "\n",
      "u='f60-300.mw.al261'\n",
      "df,n= read_file(data_dir+u)   \n",
      "plt.plot(df['1:t[yr]']/1e6, df['7:wind_loss[g]'] , 'k-')\n",
      "\n"
     ],
     "language": "python",
     "metadata": {},
     "outputs": [
      {
       "metadata": {},
       "output_type": "pyout",
       "prompt_number": 72,
       "text": [
        "[<matplotlib.lines.Line2D at 0x7f15abd8f9d0>]"
       ]
      },
      {
       "metadata": {},
       "output_type": "display_data",
       "png": "[encoded data removed]",
       "text": [
        "<matplotlib.figure.Figure at 0x7f15ac2c0e90>"
       ]
      }
     ],
     "prompt_number": 72
    },
    {
     "cell_type": "code",
     "collapsed": false,
     "input": [
      "#x=df[(df['1:t[yr]'] <3e6) & (df['1:t[yr]'] > 2e6) ][['7:wind_loss[g]', '1:t[yr]' ]]\n",
      "x=df[['7:wind_loss[g]', '1:t[yr]' ]]\n",
      "print x.sum()\n",
      "\n",
      "print x.sum()[0] /M_sun\n",
      "\n"
     ],
     "language": "python",
     "metadata": {},
     "outputs": [
      {
       "output_type": "stream",
       "stream": "stdout",
       "text": [
        "7:wind_loss[g]    2.201666e-02\n",
        "1:t[yr]           7.236147e+09\n",
        "dtype: float64\n",
        "1.10083323794e-35\n"
       ]
      }
     ],
     "prompt_number": 73
    },
    {
     "cell_type": "code",
     "collapsed": false,
     "input": [],
     "language": "python",
     "metadata": {},
     "outputs": []
    }
   ],
   "metadata": {}
  }
 ]
}