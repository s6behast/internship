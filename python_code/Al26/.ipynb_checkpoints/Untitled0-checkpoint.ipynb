{
 "metadata": {
  "name": "",
  "signature": "sha256:5209238794111d07274e746e7ba176dfdee740c79e3d793844aab6ac23bd2c3d"
 },
 "nbformat": 3,
 "nbformat_minor": 0,
 "worksheets": []
}