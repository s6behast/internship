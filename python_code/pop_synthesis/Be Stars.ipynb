{
 "cells": [
  {
   "cell_type": "code",
   "execution_count": 2,
   "metadata": {
    "collapsed": true
   },
   "outputs": [],
   "source": [
    "import pickle \n",
    "import numpy as np\n",
    "import matplotlib.pyplot as plt"
   ]
  },
  {
   "cell_type": "code",
   "execution_count": 3,
   "metadata": {
    "collapsed": false
   },
   "outputs": [],
   "source": [
    "#load distribution\n",
    "tot_dist=pickle.load( open( \"total_distribution.p\", \"rb\" ) )\n",
    "\n",
    "# find list of masses from distribution \n",
    "mass_list=np.unique(np.array(tot_dist.keys())[:,0])\n",
    "rot_list= np.unique(np.array(tot_dist.keys())[:,1])\n"
   ]
  },
  {
   "cell_type": "code",
   "execution_count": null,
   "metadata": {
    "collapsed": true
   },
   "outputs": [],
   "source": [
    "def load_file( mass, rotation):\n",
    "    \"\"\"read file for model of mass mass and rotation velocity rotation into pandas dataframe\"\"\"\n",
    "    df=pd.read_csv(XXXXXXXXXXXXXXXXXXXXXXXXXX)\n",
    "    return df "
   ]
  },
  {
   "cell_type": "markdown",
   "metadata": {},
   "source": [
    "# search model files for models with v/vcrit above a limit #"
   ]
  },
  {
   "cell_type": "code",
   "execution_count": null,
   "metadata": {
    "collapsed": true
   },
   "outputs": [],
   "source": [
    "\n",
    "t= XXX # time at which to compute v/vcrit \n",
    "v_over_vcrit_limit=0.7 # v/vcrit value that defines Be star \n",
    "\n",
    "\n",
    "\n",
    "for m in mass_list: \n",
    "    for v in rot_list:\n",
    "        df=load_file(m,v)\n",
    "    "
   ]
  }
 ],
 "metadata": {
  "kernelspec": {
   "display_name": "Python 2",
   "language": "python",
   "name": "python2"
  },
  "language_info": {
   "codemirror_mode": {
    "name": "ipython",
    "version": 2
   },
   "file_extension": ".py",
   "mimetype": "text/x-python",
   "name": "python",
   "nbconvert_exporter": "python",
   "pygments_lexer": "ipython2",
   "version": "2.7.14"
  }
 },
 "nbformat": 4,
 "nbformat_minor": 2
}
