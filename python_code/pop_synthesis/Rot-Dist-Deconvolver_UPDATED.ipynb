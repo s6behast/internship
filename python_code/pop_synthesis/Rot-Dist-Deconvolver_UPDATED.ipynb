{
 "cells": [
  {
   "cell_type": "code",
   "execution_count": 1,
   "metadata": {
    "collapsed": false,
    "deletable": true,
    "editable": true
   },
   "outputs": [],
   "source": [
    "from scipy import integrate\n",
    "import pandas as pd \n",
    "import matplotlib.pyplot as plt \n",
    "import numpy as np \n",
    "%matplotlib inline\n",
    "from pylab import rcParams\n",
    "rcParams['figure.figsize'] = 5, 5"
   ]
  },
  {
   "cell_type": "markdown",
   "metadata": {},
   "source": [
    "# load in observational data #"
   ]
  },
  {
   "cell_type": "code",
   "execution_count": 78,
   "metadata": {
    "collapsed": false,
    "deletable": true,
    "editable": true
   },
   "outputs": [
    {
     "data": {
      "text/html": [
       "<div>\n",
       "<table border=\"1\" class=\"dataframe\">\n",
       "  <thead>\n",
       "    <tr style=\"text-align: right;\">\n",
       "      <th></th>\n",
       "      <th>name</th>\n",
       "      <th>WEBDA</th>\n",
       "      <th>vsini</th>\n",
       "      <th>vsini_error</th>\n",
       "      <th>Vr1</th>\n",
       "      <th>Vr2</th>\n",
       "      <th>Vr3</th>\n",
       "      <th>SpType</th>\n",
       "      <th>Notes</th>\n",
       "    </tr>\n",
       "  </thead>\n",
       "  <tbody>\n",
       "    <tr>\n",
       "      <th>0</th>\n",
       "      <td>Ber86</td>\n",
       "      <td>1</td>\n",
       "      <td>184</td>\n",
       "      <td>7</td>\n",
       "      <td>30.3</td>\n",
       "      <td>30.8</td>\n",
       "      <td>1.3</td>\n",
       "      <td>NaN</td>\n",
       "      <td>NaN</td>\n",
       "    </tr>\n",
       "    <tr>\n",
       "      <th>1</th>\n",
       "      <td>Ber86</td>\n",
       "      <td>3</td>\n",
       "      <td>192</td>\n",
       "      <td>10</td>\n",
       "      <td>-24.6</td>\n",
       "      <td>7.5</td>\n",
       "      <td>4.0</td>\n",
       "      <td>SB2</td>\n",
       "      <td>NaN</td>\n",
       "    </tr>\n",
       "    <tr>\n",
       "      <th>2</th>\n",
       "      <td>Ber86</td>\n",
       "      <td>4</td>\n",
       "      <td>178</td>\n",
       "      <td>8</td>\n",
       "      <td>17.2</td>\n",
       "      <td>45.2</td>\n",
       "      <td>1.0</td>\n",
       "      <td>SB2</td>\n",
       "      <td>NaN</td>\n",
       "    </tr>\n",
       "    <tr>\n",
       "      <th>3</th>\n",
       "      <td>Ber86</td>\n",
       "      <td>9</td>\n",
       "      <td>362</td>\n",
       "      <td>21</td>\n",
       "      <td>-7.6</td>\n",
       "      <td>-15.7</td>\n",
       "      <td>3.3</td>\n",
       "      <td>NaN</td>\n",
       "      <td>NaN</td>\n",
       "    </tr>\n",
       "    <tr>\n",
       "      <th>4</th>\n",
       "      <td>Ber86</td>\n",
       "      <td>12</td>\n",
       "      <td>309</td>\n",
       "      <td>11</td>\n",
       "      <td>-6.8</td>\n",
       "      <td>8.0</td>\n",
       "      <td>10.0</td>\n",
       "      <td>NaN</td>\n",
       "      <td>NaN</td>\n",
       "    </tr>\n",
       "    <tr>\n",
       "      <th>5</th>\n",
       "      <td>Ber86</td>\n",
       "      <td>13</td>\n",
       "      <td>182</td>\n",
       "      <td>6</td>\n",
       "      <td>49.9</td>\n",
       "      <td>48.3</td>\n",
       "      <td>0.7</td>\n",
       "      <td>NaN</td>\n",
       "      <td>NaN</td>\n",
       "    </tr>\n",
       "    <tr>\n",
       "      <th>6</th>\n",
       "      <td>Ber86</td>\n",
       "      <td>14</td>\n",
       "      <td>133</td>\n",
       "      <td>16</td>\n",
       "      <td>-131.7</td>\n",
       "      <td>-142.5</td>\n",
       "      <td>1.3</td>\n",
       "      <td>SB2</td>\n",
       "      <td>NaN</td>\n",
       "    </tr>\n",
       "    <tr>\n",
       "      <th>7</th>\n",
       "      <td>Ber86</td>\n",
       "      <td>15</td>\n",
       "      <td>23</td>\n",
       "      <td>15</td>\n",
       "      <td>-13.9</td>\n",
       "      <td>-15.8</td>\n",
       "      <td>5.0</td>\n",
       "      <td>NaN</td>\n",
       "      <td>NaN</td>\n",
       "    </tr>\n",
       "    <tr>\n",
       "      <th>8</th>\n",
       "      <td>Ber86</td>\n",
       "      <td>17</td>\n",
       "      <td>79</td>\n",
       "      <td>8</td>\n",
       "      <td>-41.4</td>\n",
       "      <td>-43.2</td>\n",
       "      <td>2.0</td>\n",
       "      <td>NaN</td>\n",
       "      <td>NaN</td>\n",
       "    </tr>\n",
       "    <tr>\n",
       "      <th>9</th>\n",
       "      <td>Ber86</td>\n",
       "      <td>30</td>\n",
       "      <td>103</td>\n",
       "      <td>12</td>\n",
       "      <td>-7.7</td>\n",
       "      <td>-7.7</td>\n",
       "      <td>6.3</td>\n",
       "      <td>NaN</td>\n",
       "      <td>NaN</td>\n",
       "    </tr>\n",
       "    <tr>\n",
       "      <th>10</th>\n",
       "      <td>Ber86</td>\n",
       "      <td>34</td>\n",
       "      <td>241</td>\n",
       "      <td>16</td>\n",
       "      <td>4.1</td>\n",
       "      <td>20.7</td>\n",
       "      <td>3.0</td>\n",
       "      <td>strong</td>\n",
       "      <td>emission</td>\n",
       "    </tr>\n",
       "    <tr>\n",
       "      <th>11</th>\n",
       "      <td>Ber86</td>\n",
       "      <td>149</td>\n",
       "      <td>181</td>\n",
       "      <td>10</td>\n",
       "      <td>-17.7</td>\n",
       "      <td>-48.9</td>\n",
       "      <td>2.7</td>\n",
       "      <td>SB1</td>\n",
       "      <td>NaN</td>\n",
       "    </tr>\n",
       "    <tr>\n",
       "      <th>12</th>\n",
       "      <td>Ber86</td>\n",
       "      <td>214</td>\n",
       "      <td>276</td>\n",
       "      <td>17</td>\n",
       "      <td>-10.5</td>\n",
       "      <td>-9.8</td>\n",
       "      <td>11.0</td>\n",
       "      <td>two</td>\n",
       "      <td>nights</td>\n",
       "    </tr>\n",
       "    <tr>\n",
       "      <th>13</th>\n",
       "      <td>Ber86</td>\n",
       "      <td>235</td>\n",
       "      <td>325</td>\n",
       "      <td>12</td>\n",
       "      <td>-25.1</td>\n",
       "      <td>-23.1</td>\n",
       "      <td>4.7</td>\n",
       "      <td>NaN</td>\n",
       "      <td>NaN</td>\n",
       "    </tr>\n",
       "    <tr>\n",
       "      <th>14</th>\n",
       "      <td>Ber86</td>\n",
       "      <td>261</td>\n",
       "      <td>251</td>\n",
       "      <td>11</td>\n",
       "      <td>-22.2</td>\n",
       "      <td>-25.7</td>\n",
       "      <td>5.7</td>\n",
       "      <td>NaN</td>\n",
       "      <td>NaN</td>\n",
       "    </tr>\n",
       "    <tr>\n",
       "      <th>15</th>\n",
       "      <td>Ber86</td>\n",
       "      <td>288</td>\n",
       "      <td>184</td>\n",
       "      <td>9</td>\n",
       "      <td>-12.1</td>\n",
       "      <td>-11.8</td>\n",
       "      <td>8.0</td>\n",
       "      <td>NaN</td>\n",
       "      <td>NaN</td>\n",
       "    </tr>\n",
       "    <tr>\n",
       "      <th>16</th>\n",
       "      <td>Ber86</td>\n",
       "      <td>291</td>\n",
       "      <td>87</td>\n",
       "      <td>14</td>\n",
       "      <td>-16.8</td>\n",
       "      <td>-15.3</td>\n",
       "      <td>7.0</td>\n",
       "      <td>NaN</td>\n",
       "      <td>NaN</td>\n",
       "    </tr>\n",
       "    <tr>\n",
       "      <th>17</th>\n",
       "      <td>IC1805</td>\n",
       "      <td>72</td>\n",
       "      <td>266</td>\n",
       "      <td>12</td>\n",
       "      <td>-62.7</td>\n",
       "      <td>-58.8</td>\n",
       "      <td>8.0</td>\n",
       "      <td>NaN</td>\n",
       "      <td>NaN</td>\n",
       "    </tr>\n",
       "    <tr>\n",
       "      <th>18</th>\n",
       "      <td>IC1805</td>\n",
       "      <td>82</td>\n",
       "      <td>191</td>\n",
       "      <td>11</td>\n",
       "      <td>4.4</td>\n",
       "      <td>-41.4</td>\n",
       "      <td>4.3</td>\n",
       "      <td>SB1,</td>\n",
       "      <td>He</td>\n",
       "    </tr>\n",
       "    <tr>\n",
       "      <th>19</th>\n",
       "      <td>IC1805</td>\n",
       "      <td>103</td>\n",
       "      <td>179</td>\n",
       "      <td>14</td>\n",
       "      <td>55.8</td>\n",
       "      <td>-52.8</td>\n",
       "      <td>2.0</td>\n",
       "      <td>SB2</td>\n",
       "      <td>NaN</td>\n",
       "    </tr>\n",
       "    <tr>\n",
       "      <th>20</th>\n",
       "      <td>IC1805</td>\n",
       "      <td>111</td>\n",
       "      <td>160</td>\n",
       "      <td>12</td>\n",
       "      <td>-1.1</td>\n",
       "      <td>-98.2</td>\n",
       "      <td>4.3</td>\n",
       "      <td>SB1</td>\n",
       "      <td>NaN</td>\n",
       "    </tr>\n",
       "    <tr>\n",
       "      <th>21</th>\n",
       "      <td>IC1805</td>\n",
       "      <td>113</td>\n",
       "      <td>218</td>\n",
       "      <td>16</td>\n",
       "      <td>-20.2</td>\n",
       "      <td>-12.5</td>\n",
       "      <td>0.3</td>\n",
       "      <td>strong</td>\n",
       "      <td>emission</td>\n",
       "    </tr>\n",
       "    <tr>\n",
       "      <th>22</th>\n",
       "      <td>IC1805</td>\n",
       "      <td>118</td>\n",
       "      <td>18</td>\n",
       "      <td>29</td>\n",
       "      <td>-66.0</td>\n",
       "      <td>-41.3</td>\n",
       "      <td>2.0</td>\n",
       "      <td>NaN</td>\n",
       "      <td>NaN</td>\n",
       "    </tr>\n",
       "    <tr>\n",
       "      <th>23</th>\n",
       "      <td>IC1805</td>\n",
       "      <td>121</td>\n",
       "      <td>61</td>\n",
       "      <td>12</td>\n",
       "      <td>-27.5</td>\n",
       "      <td>-15.0</td>\n",
       "      <td>3.0</td>\n",
       "      <td>NaN</td>\n",
       "      <td>NaN</td>\n",
       "    </tr>\n",
       "    <tr>\n",
       "      <th>24</th>\n",
       "      <td>IC1805</td>\n",
       "      <td>130</td>\n",
       "      <td>133</td>\n",
       "      <td>15</td>\n",
       "      <td>-32.3</td>\n",
       "      <td>-60.9</td>\n",
       "      <td>9.0</td>\n",
       "      <td>SB1</td>\n",
       "      <td>NaN</td>\n",
       "    </tr>\n",
       "    <tr>\n",
       "      <th>25</th>\n",
       "      <td>IC1805</td>\n",
       "      <td>143</td>\n",
       "      <td>320</td>\n",
       "      <td>10</td>\n",
       "      <td>-53.8</td>\n",
       "      <td>-59.9</td>\n",
       "      <td>3.0</td>\n",
       "      <td>NaN</td>\n",
       "      <td>NaN</td>\n",
       "    </tr>\n",
       "    <tr>\n",
       "      <th>26</th>\n",
       "      <td>IC1805</td>\n",
       "      <td>149</td>\n",
       "      <td>86</td>\n",
       "      <td>17</td>\n",
       "      <td>-21.9</td>\n",
       "      <td>-39.7</td>\n",
       "      <td>4.0</td>\n",
       "      <td>NaN</td>\n",
       "      <td>NaN</td>\n",
       "    </tr>\n",
       "    <tr>\n",
       "      <th>27</th>\n",
       "      <td>IC1805</td>\n",
       "      <td>157</td>\n",
       "      <td>51</td>\n",
       "      <td>19</td>\n",
       "      <td>-8.3</td>\n",
       "      <td>-10.3</td>\n",
       "      <td>10.3</td>\n",
       "      <td>NaN</td>\n",
       "      <td>NaN</td>\n",
       "    </tr>\n",
       "    <tr>\n",
       "      <th>28</th>\n",
       "      <td>IC1805</td>\n",
       "      <td>158</td>\n",
       "      <td>162</td>\n",
       "      <td>17</td>\n",
       "      <td>-69.9</td>\n",
       "      <td>-41.3</td>\n",
       "      <td>4.0</td>\n",
       "      <td>NaN</td>\n",
       "      <td>NaN</td>\n",
       "    </tr>\n",
       "    <tr>\n",
       "      <th>29</th>\n",
       "      <td>IC1805</td>\n",
       "      <td>161</td>\n",
       "      <td>178</td>\n",
       "      <td>8</td>\n",
       "      <td>-81.6</td>\n",
       "      <td>-51.6</td>\n",
       "      <td>2.3</td>\n",
       "      <td>NaN</td>\n",
       "      <td>NaN</td>\n",
       "    </tr>\n",
       "    <tr>\n",
       "      <th>...</th>\n",
       "      <td>...</td>\n",
       "      <td>...</td>\n",
       "      <td>...</td>\n",
       "      <td>...</td>\n",
       "      <td>...</td>\n",
       "      <td>...</td>\n",
       "      <td>...</td>\n",
       "      <td>...</td>\n",
       "      <td>...</td>\n",
       "    </tr>\n",
       "    <tr>\n",
       "      <th>70</th>\n",
       "      <td>IC2944</td>\n",
       "      <td>25</td>\n",
       "      <td>133</td>\n",
       "      <td>27</td>\n",
       "      <td>4.2</td>\n",
       "      <td>-16.9</td>\n",
       "      <td>6.8</td>\n",
       "      <td>12.5</td>\n",
       "      <td>weak</td>\n",
       "    </tr>\n",
       "    <tr>\n",
       "      <th>71</th>\n",
       "      <td>IC2944</td>\n",
       "      <td>27</td>\n",
       "      <td>52</td>\n",
       "      <td>9</td>\n",
       "      <td>-14.1</td>\n",
       "      <td>-32.7</td>\n",
       "      <td>-14.9</td>\n",
       "      <td>17.0</td>\n",
       "      <td>NaN</td>\n",
       "    </tr>\n",
       "    <tr>\n",
       "      <th>72</th>\n",
       "      <td>IC2944</td>\n",
       "      <td>29</td>\n",
       "      <td>84</td>\n",
       "      <td>15</td>\n",
       "      <td>-14.6</td>\n",
       "      <td>-7.5</td>\n",
       "      <td>-17.8</td>\n",
       "      <td>3.0</td>\n",
       "      <td>NaN</td>\n",
       "    </tr>\n",
       "    <tr>\n",
       "      <th>73</th>\n",
       "      <td>IC2944</td>\n",
       "      <td>33</td>\n",
       "      <td>0</td>\n",
       "      <td>18</td>\n",
       "      <td>-17.3</td>\n",
       "      <td>-6.0</td>\n",
       "      <td>-10.9</td>\n",
       "      <td>2.0</td>\n",
       "      <td>NaN</td>\n",
       "    </tr>\n",
       "    <tr>\n",
       "      <th>74</th>\n",
       "      <td>IC2944</td>\n",
       "      <td>34</td>\n",
       "      <td>70</td>\n",
       "      <td>11</td>\n",
       "      <td>-3.4</td>\n",
       "      <td>2.0</td>\n",
       "      <td>14.2</td>\n",
       "      <td>5.0</td>\n",
       "      <td>NaN</td>\n",
       "    </tr>\n",
       "    <tr>\n",
       "      <th>75</th>\n",
       "      <td>IC2944</td>\n",
       "      <td>36</td>\n",
       "      <td>196</td>\n",
       "      <td>9</td>\n",
       "      <td>21.9</td>\n",
       "      <td>-13.4</td>\n",
       "      <td>-17.6</td>\n",
       "      <td>1.3</td>\n",
       "      <td>SB1</td>\n",
       "    </tr>\n",
       "    <tr>\n",
       "      <th>76</th>\n",
       "      <td>IC2944</td>\n",
       "      <td>41</td>\n",
       "      <td>251</td>\n",
       "      <td>9</td>\n",
       "      <td>-15.8</td>\n",
       "      <td>-68.4</td>\n",
       "      <td>-36.2</td>\n",
       "      <td>11.3</td>\n",
       "      <td>SB1,</td>\n",
       "    </tr>\n",
       "    <tr>\n",
       "      <th>77</th>\n",
       "      <td>IC2944</td>\n",
       "      <td>48</td>\n",
       "      <td>225</td>\n",
       "      <td>10</td>\n",
       "      <td>-13.5</td>\n",
       "      <td>-7.5</td>\n",
       "      <td>-10.9</td>\n",
       "      <td>8.5</td>\n",
       "      <td>NaN</td>\n",
       "    </tr>\n",
       "    <tr>\n",
       "      <th>78</th>\n",
       "      <td>IC2944</td>\n",
       "      <td>71</td>\n",
       "      <td>153</td>\n",
       "      <td>11</td>\n",
       "      <td>-6.1</td>\n",
       "      <td>-6.8</td>\n",
       "      <td>6.1</td>\n",
       "      <td>13.0</td>\n",
       "      <td>very</td>\n",
       "    </tr>\n",
       "    <tr>\n",
       "      <th>79</th>\n",
       "      <td>IC2944</td>\n",
       "      <td>83</td>\n",
       "      <td>285</td>\n",
       "      <td>13</td>\n",
       "      <td>-115.6</td>\n",
       "      <td>-15.7</td>\n",
       "      <td>-14.4</td>\n",
       "      <td>13.7</td>\n",
       "      <td>SB1,</td>\n",
       "    </tr>\n",
       "    <tr>\n",
       "      <th>80</th>\n",
       "      <td>IC2944</td>\n",
       "      <td>88</td>\n",
       "      <td>122</td>\n",
       "      <td>10</td>\n",
       "      <td>-13.9</td>\n",
       "      <td>-27.7</td>\n",
       "      <td>-27.1</td>\n",
       "      <td>10.0</td>\n",
       "      <td>NaN</td>\n",
       "    </tr>\n",
       "    <tr>\n",
       "      <th>81</th>\n",
       "      <td>IC2944</td>\n",
       "      <td>90</td>\n",
       "      <td>195</td>\n",
       "      <td>9</td>\n",
       "      <td>2.8</td>\n",
       "      <td>-4.7</td>\n",
       "      <td>-0.0</td>\n",
       "      <td>9.0</td>\n",
       "      <td>NaN</td>\n",
       "    </tr>\n",
       "    <tr>\n",
       "      <th>82</th>\n",
       "      <td>IC2944</td>\n",
       "      <td>91</td>\n",
       "      <td>187</td>\n",
       "      <td>14</td>\n",
       "      <td>-21.0</td>\n",
       "      <td>-9.4</td>\n",
       "      <td>-14.9</td>\n",
       "      <td>2.0</td>\n",
       "      <td>NaN</td>\n",
       "    </tr>\n",
       "    <tr>\n",
       "      <th>83</th>\n",
       "      <td>IC2944</td>\n",
       "      <td>93</td>\n",
       "      <td>92</td>\n",
       "      <td>9</td>\n",
       "      <td>-19.0</td>\n",
       "      <td>-11.6</td>\n",
       "      <td>-10.9</td>\n",
       "      <td>14.0</td>\n",
       "      <td>NaN</td>\n",
       "    </tr>\n",
       "    <tr>\n",
       "      <th>84</th>\n",
       "      <td>IC2944</td>\n",
       "      <td>96</td>\n",
       "      <td>55</td>\n",
       "      <td>19</td>\n",
       "      <td>-18.0</td>\n",
       "      <td>-20.3</td>\n",
       "      <td>-16.0</td>\n",
       "      <td>3.0</td>\n",
       "      <td>NaN</td>\n",
       "    </tr>\n",
       "    <tr>\n",
       "      <th>85</th>\n",
       "      <td>IC2944</td>\n",
       "      <td>98</td>\n",
       "      <td>1</td>\n",
       "      <td>39</td>\n",
       "      <td>-12.8</td>\n",
       "      <td>-3.8</td>\n",
       "      <td>-10.8</td>\n",
       "      <td>2.0</td>\n",
       "      <td>NaN</td>\n",
       "    </tr>\n",
       "    <tr>\n",
       "      <th>86</th>\n",
       "      <td>IC2944</td>\n",
       "      <td>102</td>\n",
       "      <td>93</td>\n",
       "      <td>14</td>\n",
       "      <td>-37.6</td>\n",
       "      <td>-28.1</td>\n",
       "      <td>-20.5</td>\n",
       "      <td>13.3</td>\n",
       "      <td>NaN</td>\n",
       "    </tr>\n",
       "    <tr>\n",
       "      <th>87</th>\n",
       "      <td>IC2944</td>\n",
       "      <td>105</td>\n",
       "      <td>86</td>\n",
       "      <td>18</td>\n",
       "      <td>-20.3</td>\n",
       "      <td>-15.6</td>\n",
       "      <td>-13.5</td>\n",
       "      <td>1.5</td>\n",
       "      <td>NaN</td>\n",
       "    </tr>\n",
       "    <tr>\n",
       "      <th>88</th>\n",
       "      <td>IC2944</td>\n",
       "      <td>106</td>\n",
       "      <td>99</td>\n",
       "      <td>7</td>\n",
       "      <td>-36.2</td>\n",
       "      <td>-20.1</td>\n",
       "      <td>-18.8</td>\n",
       "      <td>9.0</td>\n",
       "      <td>NaN</td>\n",
       "    </tr>\n",
       "    <tr>\n",
       "      <th>89</th>\n",
       "      <td>IC2944</td>\n",
       "      <td>109</td>\n",
       "      <td>79</td>\n",
       "      <td>14</td>\n",
       "      <td>6.1</td>\n",
       "      <td>1.4</td>\n",
       "      <td>2.7</td>\n",
       "      <td>3.0</td>\n",
       "      <td>NaN</td>\n",
       "    </tr>\n",
       "    <tr>\n",
       "      <th>90</th>\n",
       "      <td>IC2944</td>\n",
       "      <td>110</td>\n",
       "      <td>181</td>\n",
       "      <td>10</td>\n",
       "      <td>-14.3</td>\n",
       "      <td>-40.8</td>\n",
       "      <td>-12.7</td>\n",
       "      <td>12.7</td>\n",
       "      <td>very</td>\n",
       "    </tr>\n",
       "    <tr>\n",
       "      <th>91</th>\n",
       "      <td>IC2944</td>\n",
       "      <td>115</td>\n",
       "      <td>311</td>\n",
       "      <td>9</td>\n",
       "      <td>-27.9</td>\n",
       "      <td>-94.0</td>\n",
       "      <td>-13.5</td>\n",
       "      <td>10.5</td>\n",
       "      <td>SB1,</td>\n",
       "    </tr>\n",
       "    <tr>\n",
       "      <th>92</th>\n",
       "      <td>IC2944</td>\n",
       "      <td>119</td>\n",
       "      <td>118</td>\n",
       "      <td>11</td>\n",
       "      <td>-22.4</td>\n",
       "      <td>-33.2</td>\n",
       "      <td>-22.4</td>\n",
       "      <td>9.5</td>\n",
       "      <td>very</td>\n",
       "    </tr>\n",
       "    <tr>\n",
       "      <th>93</th>\n",
       "      <td>IC2944</td>\n",
       "      <td>120</td>\n",
       "      <td>22</td>\n",
       "      <td>26</td>\n",
       "      <td>-12.2</td>\n",
       "      <td>-11.5</td>\n",
       "      <td>-11.5</td>\n",
       "      <td>4.0</td>\n",
       "      <td>NaN</td>\n",
       "    </tr>\n",
       "    <tr>\n",
       "      <th>94</th>\n",
       "      <td>IC2944</td>\n",
       "      <td>122</td>\n",
       "      <td>271</td>\n",
       "      <td>11</td>\n",
       "      <td>-25.0</td>\n",
       "      <td>-7.3</td>\n",
       "      <td>-13.5</td>\n",
       "      <td>3.0</td>\n",
       "      <td>very</td>\n",
       "    </tr>\n",
       "    <tr>\n",
       "      <th>95</th>\n",
       "      <td>IC2944</td>\n",
       "      <td>134</td>\n",
       "      <td>198</td>\n",
       "      <td>7</td>\n",
       "      <td>3.7</td>\n",
       "      <td>13.2</td>\n",
       "      <td>-14.1</td>\n",
       "      <td>10.0</td>\n",
       "      <td>NaN</td>\n",
       "    </tr>\n",
       "    <tr>\n",
       "      <th>96</th>\n",
       "      <td>IC2944</td>\n",
       "      <td>10002</td>\n",
       "      <td>231</td>\n",
       "      <td>20</td>\n",
       "      <td>-60.5</td>\n",
       "      <td>51.8</td>\n",
       "      <td>-9.0</td>\n",
       "      <td>10.7</td>\n",
       "      <td>SB1,</td>\n",
       "    </tr>\n",
       "    <tr>\n",
       "      <th>97</th>\n",
       "      <td>IC2944</td>\n",
       "      <td>10003</td>\n",
       "      <td>28</td>\n",
       "      <td>31</td>\n",
       "      <td>-4.7</td>\n",
       "      <td>-7.4</td>\n",
       "      <td>-5.4</td>\n",
       "      <td>12.0</td>\n",
       "      <td>HD</td>\n",
       "    </tr>\n",
       "    <tr>\n",
       "      <th>98</th>\n",
       "      <td>IC2944</td>\n",
       "      <td>10004</td>\n",
       "      <td>32</td>\n",
       "      <td>15</td>\n",
       "      <td>10.2</td>\n",
       "      <td>-2.0</td>\n",
       "      <td>0.7</td>\n",
       "      <td>9.0</td>\n",
       "      <td>GSC</td>\n",
       "    </tr>\n",
       "    <tr>\n",
       "      <th>99</th>\n",
       "      <td>IC2944</td>\n",
       "      <td>10045</td>\n",
       "      <td>155</td>\n",
       "      <td>15</td>\n",
       "      <td>-22.3</td>\n",
       "      <td>-27.8</td>\n",
       "      <td>-18.9</td>\n",
       "      <td>2.0</td>\n",
       "      <td>GSC</td>\n",
       "    </tr>\n",
       "  </tbody>\n",
       "</table>\n",
       "<p>100 rows × 9 columns</p>\n",
       "</div>"
      ],
      "text/plain": [
       "      name  WEBDA  vsini  vsini_error    Vr1    Vr2    Vr3  SpType     Notes\n",
       "0    Ber86      1    184            7   30.3   30.8    1.3     NaN       NaN\n",
       "1    Ber86      3    192           10  -24.6    7.5    4.0     SB2       NaN\n",
       "2    Ber86      4    178            8   17.2   45.2    1.0     SB2       NaN\n",
       "3    Ber86      9    362           21   -7.6  -15.7    3.3     NaN       NaN\n",
       "4    Ber86     12    309           11   -6.8    8.0   10.0     NaN       NaN\n",
       "5    Ber86     13    182            6   49.9   48.3    0.7     NaN       NaN\n",
       "6    Ber86     14    133           16 -131.7 -142.5    1.3     SB2       NaN\n",
       "7    Ber86     15     23           15  -13.9  -15.8    5.0     NaN       NaN\n",
       "8    Ber86     17     79            8  -41.4  -43.2    2.0     NaN       NaN\n",
       "9    Ber86     30    103           12   -7.7   -7.7    6.3     NaN       NaN\n",
       "10   Ber86     34    241           16    4.1   20.7    3.0  strong  emission\n",
       "11   Ber86    149    181           10  -17.7  -48.9    2.7     SB1       NaN\n",
       "12   Ber86    214    276           17  -10.5   -9.8   11.0     two    nights\n",
       "13   Ber86    235    325           12  -25.1  -23.1    4.7     NaN       NaN\n",
       "14   Ber86    261    251           11  -22.2  -25.7    5.7     NaN       NaN\n",
       "15   Ber86    288    184            9  -12.1  -11.8    8.0     NaN       NaN\n",
       "16   Ber86    291     87           14  -16.8  -15.3    7.0     NaN       NaN\n",
       "17  IC1805     72    266           12  -62.7  -58.8    8.0     NaN       NaN\n",
       "18  IC1805     82    191           11    4.4  -41.4    4.3    SB1,        He\n",
       "19  IC1805    103    179           14   55.8  -52.8    2.0     SB2       NaN\n",
       "20  IC1805    111    160           12   -1.1  -98.2    4.3     SB1       NaN\n",
       "21  IC1805    113    218           16  -20.2  -12.5    0.3  strong  emission\n",
       "22  IC1805    118     18           29  -66.0  -41.3    2.0     NaN       NaN\n",
       "23  IC1805    121     61           12  -27.5  -15.0    3.0     NaN       NaN\n",
       "24  IC1805    130    133           15  -32.3  -60.9    9.0     SB1       NaN\n",
       "25  IC1805    143    320           10  -53.8  -59.9    3.0     NaN       NaN\n",
       "26  IC1805    149     86           17  -21.9  -39.7    4.0     NaN       NaN\n",
       "27  IC1805    157     51           19   -8.3  -10.3   10.3     NaN       NaN\n",
       "28  IC1805    158    162           17  -69.9  -41.3    4.0     NaN       NaN\n",
       "29  IC1805    161    178            8  -81.6  -51.6    2.3     NaN       NaN\n",
       "..     ...    ...    ...          ...    ...    ...    ...     ...       ...\n",
       "70  IC2944     25    133           27    4.2  -16.9    6.8    12.5      weak\n",
       "71  IC2944     27     52            9  -14.1  -32.7  -14.9    17.0       NaN\n",
       "72  IC2944     29     84           15  -14.6   -7.5  -17.8     3.0       NaN\n",
       "73  IC2944     33      0           18  -17.3   -6.0  -10.9     2.0       NaN\n",
       "74  IC2944     34     70           11   -3.4    2.0   14.2     5.0       NaN\n",
       "75  IC2944     36    196            9   21.9  -13.4  -17.6     1.3       SB1\n",
       "76  IC2944     41    251            9  -15.8  -68.4  -36.2    11.3      SB1,\n",
       "77  IC2944     48    225           10  -13.5   -7.5  -10.9     8.5       NaN\n",
       "78  IC2944     71    153           11   -6.1   -6.8    6.1    13.0      very\n",
       "79  IC2944     83    285           13 -115.6  -15.7  -14.4    13.7      SB1,\n",
       "80  IC2944     88    122           10  -13.9  -27.7  -27.1    10.0       NaN\n",
       "81  IC2944     90    195            9    2.8   -4.7   -0.0     9.0       NaN\n",
       "82  IC2944     91    187           14  -21.0   -9.4  -14.9     2.0       NaN\n",
       "83  IC2944     93     92            9  -19.0  -11.6  -10.9    14.0       NaN\n",
       "84  IC2944     96     55           19  -18.0  -20.3  -16.0     3.0       NaN\n",
       "85  IC2944     98      1           39  -12.8   -3.8  -10.8     2.0       NaN\n",
       "86  IC2944    102     93           14  -37.6  -28.1  -20.5    13.3       NaN\n",
       "87  IC2944    105     86           18  -20.3  -15.6  -13.5     1.5       NaN\n",
       "88  IC2944    106     99            7  -36.2  -20.1  -18.8     9.0       NaN\n",
       "89  IC2944    109     79           14    6.1    1.4    2.7     3.0       NaN\n",
       "90  IC2944    110    181           10  -14.3  -40.8  -12.7    12.7      very\n",
       "91  IC2944    115    311            9  -27.9  -94.0  -13.5    10.5      SB1,\n",
       "92  IC2944    119    118           11  -22.4  -33.2  -22.4     9.5      very\n",
       "93  IC2944    120     22           26  -12.2  -11.5  -11.5     4.0       NaN\n",
       "94  IC2944    122    271           11  -25.0   -7.3  -13.5     3.0      very\n",
       "95  IC2944    134    198            7    3.7   13.2  -14.1    10.0       NaN\n",
       "96  IC2944  10002    231           20  -60.5   51.8   -9.0    10.7      SB1,\n",
       "97  IC2944  10003     28           31   -4.7   -7.4   -5.4    12.0        HD\n",
       "98  IC2944  10004     32           15   10.2   -2.0    0.7     9.0       GSC\n",
       "99  IC2944  10045    155           15  -22.3  -27.8  -18.9     2.0       GSC\n",
       "\n",
       "[100 rows x 9 columns]"
      ]
     },
     "execution_count": 78,
     "metadata": {},
     "output_type": "execute_result"
    }
   ],
   "source": [
    "col_names=['name', 'WEBDA', 'vsini', 'vsini_error', 'Vr1', 'Vr2', 'Vr3', 'SpType', 'Notes']\n",
    "#~ 1-  7 A7     ---     Name    Cluster name\n",
    "   #~ 9- 13 I5     ---     WEBDA   Webda ID (http://obswww.unige.ch/web) (1)\n",
    "  #~ 15- 17 I3     km/s    vsini   Derived projected rotational velocity \n",
    "  #~ 19- 20 I2     km/s  e_vsini   Measurement error in vsini \n",
    "  #~ 22- 27 F6.1   km/s    Vr(N1)  Radial velocity from first night (2)\n",
    "  #~ 29- 34 F6.1   km/s    Vr(N2)  ? Radial velocity from second night if available\n",
    "                                 #~ (2)\n",
    "  #~ 36- 41 F6.1   km/s    Vr(N3)  ? Radial velocity from third night if available\n",
    "                                 #~ (2)\n",
    "  #~ 43- 46 F4.1   ---     SpType  Index of estimated pseudo-spectral type (3)\n",
    "  #~ 48-142 A95    ---     Notes   Additional notes \n",
    "\n",
    "df=pd.read_csv('./Huang2006_rotdist (copy).dat', comment='#', delim_whitespace= True,\n",
    "                names=col_names, skipinitialspace=True)\n",
    "\n",
    "df.head()"
   ]
  },
  {
   "cell_type": "code",
   "execution_count": 3,
   "metadata": {
    "collapsed": false,
    "deletable": true,
    "editable": true
   },
   "outputs": [
    {
     "data": {
      "image/png": "[encoded data removed]",
      "text/plain": [
       "<matplotlib.figure.Figure at 0x7fb9425f7d10>"
      ]
     },
     "metadata": {},
     "output_type": "display_data"
    }
   ],
   "source": [
    "plt.hist(df['vsini'])\n",
    "plt.show()"
   ]
  },
  {
   "cell_type": "markdown",
   "metadata": {},
   "source": [
    "# find CDF of data # "
   ]
  },
  {
   "cell_type": "code",
   "execution_count": 80,
   "metadata": {
    "collapsed": false,
    "deletable": true,
    "editable": true
   },
   "outputs": [
    {
     "name": "stdout",
     "output_type": "stream",
     "text": [
      "max vsini =  389\n",
      "   index     name  WEBDA  vsini  vsini_error   Vr1   Vr2       Vr3 SpType  \\\n",
      "0    470     TR16     15      0           15 -14.4   2.3  emission     in   \n",
      "1     73   IC2944     33      0           18 -17.3  -6.0     -10.9    2.0   \n",
      "2     85   IC2944     98      1           39 -12.8  -3.8     -10.8    2.0   \n",
      "3    339  NGC2422     71      3           12  29.4  34.0      13.0    NaN   \n",
      "4    282  NGC2244   1034      3           12  78.2  15.3      87.8   14.0   \n",
      "\n",
      "     Notes  unit  \n",
      "0  H-gamma   1.0  \n",
      "1      NaN   1.0  \n",
      "2      NaN   1.0  \n",
      "3      NaN   1.0  \n",
      "4      SB1   1.0  \n"
     ]
    },
    {
     "data": {
      "image/png": "[encoded data removed]",
      "text/plain": [
       "<matplotlib.figure.Figure at 0x7fb9330399d0>"
      ]
     },
     "metadata": {},
     "output_type": "display_data"
    }
   ],
   "source": [
    "df=df.sort_values('vsini') # sort data by vsini \n",
    "\n",
    "df=df.reset_index() # reset indexes \n",
    "df['unit'] =np.ones(len(df)) # create col consisting of always 1 to perform cumulative sum over \n",
    "\n",
    "print \"max vsini = \", df['vsini'].max()\n",
    "print df.head()\n",
    "\n",
    "#do cum sum and normalize \n",
    "q= df['unit'].cumsum()\n",
    "q=q/q.max()\n",
    "\n",
    "#plot\n",
    "plt.plot(df['vsini'], q, '-')\n",
    "plt.ylabel('cum frac')\n",
    "plt.xlabel('Vsini')\n",
    "plt.show()"
   ]
  },
  {
   "cell_type": "markdown",
   "metadata": {
    "deletable": true,
    "editable": true
   },
   "source": [
    "# perform fit on cum distribution # "
   ]
  },
  {
   "cell_type": "code",
   "execution_count": 100,
   "metadata": {
    "collapsed": false,
    "deletable": true,
    "editable": true
   },
   "outputs": [
    {
     "name": "stdout",
     "output_type": "stream",
     "text": [
      "389\n",
      "fitted polynomial coefficients ; \n",
      "[  4.13178821e-11  -4.39024589e-08   9.26042991e-06   3.18155835e-03\n",
      "  -4.25596312e-03]\n"
     ]
    },
    {
     "data": {
      "image/png": "[encoded data removed]",
      "text/plain": [
       "<matplotlib.figure.Figure at 0x7fb932978150>"
      ]
     },
     "metadata": {},
     "output_type": "display_data"
    }
   ],
   "source": [
    "#4th order polynomial fit to cum data\n",
    "p4=np.poly1d(np.polyfit(df['vsini'], q, 4))\n",
    "\n",
    "print df['vsini'].max()\n",
    "\n",
    "x_vals=np.linspace(0,df['vsini'].max(),400)\n",
    "\n",
    "print \"fitted polynomial coefficients ; \\n\" , p4.c\n",
    "\n",
    "plt.plot(x_vals, p4(x_vals))\n",
    "plt.plot(df['vsini'], q, '.', markersize=2)\n",
    "plt.axhline(1, color='r', linestyle='--')\n",
    "\n",
    "\n",
    "plt.ylim(0,1.05)\n",
    "plt.ylabel('cum frac')\n",
    "plt.xlabel('Vsini')\n",
    "plt.show()"
   ]
  },
  {
   "cell_type": "markdown",
   "metadata": {
    "deletable": true,
    "editable": true
   },
   "source": [
    "# perform differentiation of fit to get PDF #\n"
   ]
  },
  {
   "cell_type": "code",
   "execution_count": 112,
   "metadata": {
    "collapsed": false,
    "deletable": true,
    "editable": true
   },
   "outputs": [
    {
     "name": "stdout",
     "output_type": "stream",
     "text": [
      "{0: 0.0031815583489201958, 1: 1.8520859819835209e-05, 2: -1.3170737656592523e-07, 3: 1.6527152827299824e-10}\n"
     ]
    },
    {
     "data": {
      "image/png": "[encoded data removed]",
      "text/plain": [
       "<matplotlib.figure.Figure at 0x7fb932c8c450>"
      ]
     },
     "metadata": {},
     "output_type": "display_data"
    },
    {
     "name": "stdout",
     "output_type": "stream",
     "text": [
      "           3             2\n",
      "1.653e-10 x - 1.317e-07 x + 1.852e-05 x + 0.003182\n",
      "{0: 0.0031815583489201958, 1: 1.8520859819835209e-05, 2: -1.3170737656592523e-07, 3: 1.6527152827299824e-10}\n",
      "integral over whole distribution =  1.00075384989\n"
     ]
    }
   ],
   "source": [
    "#differentiate 4th order polynomial\n",
    "polyn={} # dict with key being order of term, and key being multplicative coefficient\n",
    "for c, n in zip(p4.c, reversed(range(1,5))):\n",
    "    diffd= c*n \n",
    "    polyn[n-1]= diffd \n",
    "        \n",
    "print polyn\n",
    "\n",
    "\n",
    "# make numpy polynomial object\n",
    "Pdf_vsini= np.poly1d([polyn[3], polyn[2], polyn[1], polyn[0]])\n",
    "\n",
    "#plot pdf \n",
    "plt.plot(x_vals, Pdf_vsini(x_vals)/1e-3)\n",
    "\n",
    "plt.title(\"probability density function of vsini\")\n",
    "plt.ylabel('prob. density/1e-3')\n",
    "plt.xlabel('Vsini')\n",
    "plt.show()\n",
    "\n",
    "print Pdf_vsini\n",
    "print polyn\n",
    "\n",
    "# check integral over pdf equals unity\n",
    "\n",
    "print \"integral over whole distribution = \",integrate.quad( Pdf_vsini, 0, x_vals.max())[0]"
   ]
  },
  {
   "cell_type": "markdown",
   "metadata": {
    "deletable": true,
    "editable": true
   },
   "source": [
    "# deconvolve vsini PDF to get v CDF #"
   ]
  },
  {
   "cell_type": "code",
   "execution_count": 1,
   "metadata": {
    "collapsed": false,
    "deletable": true,
    "editable": true
   },
   "outputs": [
    {
     "ename": "NameError",
     "evalue": "name 'x_vals' is not defined",
     "output_type": "error",
     "traceback": [
      "\u001b[0;31m---------------------------------------------------------------------------\u001b[0m",
      "\u001b[0;31mNameError\u001b[0m                                 Traceback (most recent call last)",
      "\u001b[0;32m<ipython-input-1-102da1770775>\u001b[0m in \u001b[0;36m<module>\u001b[0;34m()\u001b[0m\n\u001b[1;32m     17\u001b[0m \u001b[0;31m# calculate cdf of v\u001b[0m\u001b[0;34m\u001b[0m\u001b[0;34m\u001b[0m\u001b[0m\n\u001b[1;32m     18\u001b[0m \u001b[0mCdf_v\u001b[0m\u001b[0;34m=\u001b[0m\u001b[0;34m[\u001b[0m\u001b[0;34m]\u001b[0m\u001b[0;34m\u001b[0m\u001b[0m\n\u001b[0;32m---> 19\u001b[0;31m \u001b[0;32mfor\u001b[0m \u001b[0mx\u001b[0m \u001b[0;32min\u001b[0m \u001b[0mx_vals\u001b[0m\u001b[0;34m:\u001b[0m\u001b[0;34m\u001b[0m\u001b[0m\n\u001b[0m\u001b[1;32m     20\u001b[0m     \u001b[0mF\u001b[0m\u001b[0;34m=\u001b[0m\u001b[0;36m1\u001b[0m\u001b[0;34m-\u001b[0m \u001b[0;34m(\u001b[0m\u001b[0;36m2\u001b[0m\u001b[0;34m*\u001b[0m\u001b[0mI\u001b[0m\u001b[0;34m(\u001b[0m\u001b[0mx\u001b[0m\u001b[0;34m)\u001b[0m\u001b[0;34m[\u001b[0m\u001b[0;36m0\u001b[0m\u001b[0;34m]\u001b[0m\u001b[0;34m/\u001b[0m\u001b[0mnp\u001b[0m\u001b[0;34m.\u001b[0m\u001b[0mpi\u001b[0m\u001b[0;34m)\u001b[0m\u001b[0;34m\u001b[0m\u001b[0m\n\u001b[1;32m     21\u001b[0m     \u001b[0mCdf_v\u001b[0m\u001b[0;34m.\u001b[0m\u001b[0mappend\u001b[0m\u001b[0;34m(\u001b[0m \u001b[0mF\u001b[0m\u001b[0;34m)\u001b[0m\u001b[0;34m\u001b[0m\u001b[0m\n",
      "\u001b[0;31mNameError\u001b[0m: name 'x_vals' is not defined"
     ]
    }
   ],
   "source": [
    "# do deconvolution according to https://www.aanda.org/articles/aa/pdf/2014/05/aa23344-13.pdf\n",
    "\n",
    "%matplotlib inline\n",
    "\n",
    "\n",
    "def integrand(y,x):\n",
    "    #print x\n",
    "    return (x/np.sqrt(y**2 - x**2) + np.arccos(x/y))*Pdf_vsini(y)\n",
    "\n",
    "\n",
    "def I(x):\n",
    "    i=integrate.quad( integrand, x, 390.0, args=(x,))\n",
    "    return i\n",
    "#integrate.quad_explain()\n",
    "\n",
    "\n",
    "# calculate cdf of v \n",
    "Cdf_v=[]\n",
    "for x in x_vals:\n",
    "    F=1- (2*I(x)[0]/np.pi)\n",
    "    Cdf_v.append( F)\n",
    "        \n",
    "plt.plot(x_vals, Cdf_v, 'g.', markersize=1)\n",
    "plt.show()"
   ]
  },
  {
   "cell_type": "markdown",
   "metadata": {
    "collapsed": false,
    "deletable": true,
    "editable": true
   },
   "source": [
    "# fit polynomial to v CDF #"
   ]
  },
  {
   "cell_type": "code",
   "execution_count": null,
   "metadata": {
    "collapsed": false,
    "deletable": true,
    "editable": true
   },
   "outputs": [],
   "source": [
    "# fit polynomial to v cdf \n",
    "\n",
    "#4th order polynomial fit to cum data\n",
    "p4_v=np.poly1d(np.polyfit(x_vals, Cdf_v, 4))\n",
    "\n",
    "\n",
    "print \"fitted polynomial coefficients ; \\n\" , p4_v.c\n",
    "\n",
    "plt.plot(x_vals, p4_v(x_vals))\n",
    "plt.axhline(1, color='r', linestyle='--')\n",
    "\n",
    "\n",
    "#plt.ylim(0,1.05)\n",
    "plt.ylabel('cum frac')\n",
    "plt.xlabel('Vsini')\n",
    "plt.show()"
   ]
  },
  {
   "cell_type": "markdown",
   "metadata": {},
   "source": [
    "# differentiate v CDF to get v PDF # "
   ]
  },
  {
   "cell_type": "code",
   "execution_count": null,
   "metadata": {
    "collapsed": true
   },
   "outputs": [],
   "source": [
    "# differentiate polynomial to get pdf \n",
    "\n",
    "polyn_v={} # dict with key being order of term, and key being multplicative coefficient\n",
    "for c, n in zip(p4_v.c, reversed(range(1,5))):\n",
    "    diffd= c*n \n",
    "    polyn_v[n-1]= diffd \n",
    "        \n",
    "print polyn_v\n",
    "\n",
    "\n",
    "# make numpy polynomial object\n",
    "Pdf_v= np.poly1d([polyn_v[3], polyn_v[2], polyn_v[1], polyn_v[0]])\n",
    "\n",
    "#plot v pdf and compare with vsini pdf \n",
    "plt.plot(x_vals, Pdf_vsini(x_vals)/1e-3, label='vsini')\n",
    "plt.plot(x_vals, Pdf_v(x_vals)/1e-3 , label='v')\n",
    "\n",
    "\n",
    "plt.title(\"probability density function of vsini and v \")\n",
    "plt.ylabel('prob. density/1e-3')\n",
    "plt.xlabel('v')\n",
    "plt.legend()\n",
    "plt.show()\n",
    "\n",
    "print Pdf_vsini\n",
    "print polyn\n",
    "\n",
    "# check integral over pdf equals unity\n",
    "\n",
    "print \"integral over whole v distribution = \",integrate.quad( Pdf_v, 0, x_vals.max())[0]\n",
    "print \"integral over whole vsini distribution = \",integrate.quad( Pdf_vsini, 0, x_vals.max())[0]"
   ]
  },
  {
   "cell_type": "markdown",
   "metadata": {
    "deletable": true,
    "editable": true
   },
   "source": [
    "# TESTINGS #"
   ]
  },
  {
   "cell_type": "code",
   "execution_count": null,
   "metadata": {
    "collapsed": false,
    "deletable": true,
    "editable": true
   },
   "outputs": [],
   "source": []
  },
  {
   "cell_type": "code",
   "execution_count": 47,
   "metadata": {
    "collapsed": false,
    "deletable": true,
    "editable": true
   },
   "outputs": [
    {
     "data": {
      "text/plain": [
       "(760.3877349944282, 2.4202031454478856e-06)"
      ]
     },
     "execution_count": 47,
     "metadata": {},
     "output_type": "execute_result"
    }
   ],
   "source": []
  },
  {
   "cell_type": "code",
   "execution_count": 140,
   "metadata": {
    "collapsed": false,
    "deletable": true,
    "editable": true
   },
   "outputs": [
    {
     "data": {
      "image/png": "[encoded data removed]",
      "text/plain": [
       "<matplotlib.figure.Figure at 0x7fb933406290>"
      ]
     },
     "metadata": {},
     "output_type": "display_data"
    }
   ],
   "source": [
    "# do deconvolution according to https://www.aanda.org/articles/aa/pdf/2014/05/aa23344-13.pdf\n",
    "\n",
    "%matplotlib inline\n",
    "\n",
    "\n",
    "def integrand(y,x):\n",
    "    #print x\n",
    "    return (x/np.sqrt(y**2 - x**2) + np.arccos(x/y))*Pdf_vsini(y)\n",
    "\n",
    "\n",
    "def I(x):\n",
    "    i=integrate.quad( integrand, x, 390.0, args=(x,))\n",
    "    return i\n",
    "#integrate.quad_explain()\n",
    "\n",
    "\n",
    "# calculate cdf of v \n",
    "Cdf_v=[]\n",
    "for x in x_vals:\n",
    "    F=1- (2*I(x)[0]/np.pi)\n",
    "    Cdf_v.append( F)\n",
    "        \n",
    "plt.plot(x_vals, Cdf_v, 'g.', markersize=1)\n",
    "plt.show()\n",
    "\n",
    "\n"
   ]
  },
  {
   "cell_type": "code",
   "execution_count": 133,
   "metadata": {
    "collapsed": false,
    "deletable": true,
    "editable": true
   },
   "outputs": [
    {
     "name": "stdout",
     "output_type": "stream",
     "text": [
      "F(0)=  1.57226347042\n",
      "1.57079632679\n"
     ]
    }
   ],
   "source": [
    "print \"F(0)= \", I(0)[0]\n",
    "print 0.5*np.pi"
   ]
  },
  {
   "cell_type": "code",
   "execution_count": 141,
   "metadata": {
    "collapsed": false,
    "deletable": true,
    "editable": true
   },
   "outputs": [
    {
     "name": "stdout",
     "output_type": "stream",
     "text": [
      "fitted polynomial coefficients ; \n",
      "[ -9.79964819e-12  -1.11431030e-08   8.01078812e-06   1.68827271e-03\n",
      "   2.95270898e-03]\n"
     ]
    },
    {
     "data": {
      "image/png": "[encoded data removed]",
      "text/plain": [
       "<matplotlib.figure.Figure at 0x7fb9331db950>"
      ]
     },
     "metadata": {},
     "output_type": "display_data"
    }
   ],
   "source": [
    "# fit polynomial to v cdf \n",
    "\n",
    "#4th order polynomial fit to cum data\n",
    "p4_v=np.poly1d(np.polyfit(x_vals, Cdf_v, 4))\n",
    "\n",
    "\n",
    "print \"fitted polynomial coefficients ; \\n\" , p4_v.c\n",
    "\n",
    "plt.plot(x_vals, p4_v(x_vals))\n",
    "plt.axhline(1, color='r', linestyle='--')\n",
    "\n",
    "\n",
    "#plt.ylim(0,1.05)\n",
    "plt.ylabel('cum frac')\n",
    "plt.xlabel('Vsini')\n",
    "plt.show()"
   ]
  },
  {
   "cell_type": "code",
   "execution_count": 142,
   "metadata": {
    "collapsed": false,
    "deletable": true,
    "editable": true
   },
   "outputs": [
    {
     "name": "stdout",
     "output_type": "stream",
     "text": [
      "{0: 0.0016882727146357926, 1: 1.6021576232680473e-05, 2: -3.3429308875831273e-08, 3: -3.919859274644569e-11}\n"
     ]
    },
    {
     "data": {
      "image/png": "[encoded data removed]",
      "text/plain": [
       "<matplotlib.figure.Figure at 0x7fb9324e0a10>"
      ]
     },
     "metadata": {},
     "output_type": "display_data"
    },
    {
     "name": "stdout",
     "output_type": "stream",
     "text": [
      "           3             2\n",
      "1.653e-10 x - 1.317e-07 x + 1.852e-05 x + 0.003182\n",
      "{0: 0.0031815583489201958, 1: 1.8520859819835209e-05, 2: -1.3170737656592523e-07, 3: 1.6527152827299824e-10}\n",
      "integral over whole v distribution =  0.988619616174\n"
     ]
    }
   ],
   "source": [
    "# differentiate polynomial to get pdf \n",
    "\n",
    "polyn_v={} # dict with key being order of term, and key being multplicative coefficient\n",
    "for c, n in zip(p4_v.c, reversed(range(1,5))):\n",
    "    diffd= c*n \n",
    "    polyn_v[n-1]= diffd \n",
    "        \n",
    "print polyn_v\n",
    "\n",
    "\n",
    "# make numpy polynomial object\n",
    "Pdf_v= np.poly1d([polyn_v[3], polyn_v[2], polyn_v[1], polyn_v[0]])\n",
    "\n",
    "#plot pdf \n",
    "plt.plot(x_vals, Pdf_vsini(x_vals)/1e-3, label='vsini')\n",
    "plt.plot(x_vals, Pdf_v(x_vals)/1e-3 , label='v')\n",
    "\n",
    "\n",
    "plt.title(\"probability density function of vsini and v \")\n",
    "plt.ylabel('prob. density/1e-3')\n",
    "plt.xlabel('v')\n",
    "plt.legend()\n",
    "plt.show()\n",
    "\n",
    "print Pdf_vsini\n",
    "print polyn\n",
    "\n",
    "# check integral over pdf equals unity\n",
    "\n",
    "print \"integral over whole v distribution = \",integrate.quad( Pdf_v, 0, x_vals.max())[0]"
   ]
  },
  {
   "cell_type": "code",
   "execution_count": null,
   "metadata": {
    "collapsed": false,
    "deletable": true,
    "editable": true
   },
   "outputs": [],
   "source": []
  },
  {
   "cell_type": "code",
   "execution_count": 89,
   "metadata": {
    "collapsed": false,
    "deletable": true,
    "editable": true
   },
   "outputs": [
    {
     "data": {
      "text/plain": [
       "[<matplotlib.lines.Line2D at 0x7f0c089c0d90>]"
      ]
     },
     "execution_count": 89,
     "metadata": {},
     "output_type": "execute_result"
    },
    {
     "data": {
      "image/png": "[encoded data removed]",
      "text/plain": [
       "<matplotlib.figure.Figure at 0x7f0c08be2290>"
      ]
     },
     "metadata": {},
     "output_type": "display_data"
    }
   ],
   "source": []
  },
  {
   "cell_type": "code",
   "execution_count": 142,
   "metadata": {
    "collapsed": false,
    "deletable": true,
    "editable": true
   },
   "outputs": [
    {
     "name": "stdout",
     "output_type": "stream",
     "text": [
      "0.0130329074485\n"
     ]
    },
    {
     "data": {
      "image/png": "[encoded data removed]",
      "text/plain": [
       "<matplotlib.figure.Figure at 0x7f0c08841810>"
      ]
     },
     "metadata": {},
     "output_type": "display_data"
    }
   ],
   "source": [
    "import numpy as np\n",
    "import scipy.signal\n",
    "import matplotlib.pyplot as plt\n",
    "\n",
    "# let the signal be box-like\n",
    "signal = np.repeat([0., 1., 0.], 100)\n",
    "# and use a gaussian filter\n",
    "# the filter should be shorter than the signal\n",
    "# the filter should be such that it's much bigger then zero everywhere\n",
    "gauss = np.exp(-( (np.linspace(0,50)-25.)/float(12))**2 )\n",
    "print gauss.min()  # = 0.013 >> 0\n",
    "\n",
    "# calculate the convolution (np.convolve and scipy.signal.convolve identical)\n",
    "# the keywordargument mode=\"same\" ensures that the convolution spans the same\n",
    "#   shape as the input array.\n",
    "filtered = scipy.signal.convolve(signal, gauss, mode='same') \n",
    "filtered =  np.convolve(signal, gauss, mode='same') \n",
    "\n",
    "\n",
    "deconv,  _ = scipy.signal.deconvolve( filtered, gauss )\n",
    "#the deconvolution has n = len(signal) - len(gauss) + 1 points\n",
    "n = len(signal)-len(gauss)+1\n",
    "# so we need to expand it by \n",
    "s = (len(signal)-n)/2\n",
    "#on both sides.\n",
    "deconv_res = np.zeros(len(signal))\n",
    "deconv_res[s:len(signal)-s-1] = deconv\n",
    "deconv = deconv_res\n",
    "# now deconv contains the deconvolution \n",
    "# expanded to the original shape (filled with zeros) \n",
    "\n",
    "\n",
    "#### Plot #### \n",
    "fig , ax = plt.subplots(nrows=4, figsize=(6,7))\n",
    "\n",
    "ax[0].plot(signal,            color=\"#907700\", label=\"original\",     lw=3 ) \n",
    "ax[1].plot(gauss,          color=\"#68934e\", label=\"gauss filter\", lw=3 )\n",
    "# we need to divide by the sum of the filter window to get the convolution normalized to 1\n",
    "ax[2].plot(filtered/np.sum(gauss), color=\"#325cab\", label=\"convoluted\" ,  lw=3 )\n",
    "ax[3].plot(deconv,         color=\"#ab4232\", label=\"deconvoluted\", lw=3 ) \n",
    "\n",
    "for i in range(len(ax)):\n",
    "    ax[i].set_xlim([0, len(signal)])\n",
    "    ax[i].set_ylim([0, max(signal)])\n",
    "    ax[i].legend(loc=1, fontsize=11)\n",
    "    if i != len(ax)-1 :\n",
    "        ax[i].set_xticklabels([])\n",
    "\n",
    "#plt.savefig(__file__ + \".png\")\n",
    "plt.show()    "
   ]
  },
  {
   "cell_type": "code",
   "execution_count": 166,
   "metadata": {
    "collapsed": false,
    "deletable": true,
    "editable": true
   },
   "outputs": [
    {
     "data": {
      "image/png": "[encoded data removed]",
      "text/plain": [
       "<matplotlib.figure.Figure at 0x7f0c08c65610>"
      ]
     },
     "metadata": {},
     "output_type": "display_data"
    }
   ],
   "source": [
    "\n",
    "\n",
    "tail= np.append(np.zeros(50), filt[np.isfinite(filt)].max())\n",
    "tail0= np.append( filt[np.isfinite(filt)].max() ,np.zeros(50))\n",
    "\n",
    "\n",
    "kernel = np.concatenate((tail , filt), axis=0)\n",
    "kernel = np.concatenate((kernel, tail0), axis=0)\n",
    "\n",
    "plt.plot(kernel, label='sini')\n",
    "plt.show()"
   ]
  },
  {
   "cell_type": "code",
   "execution_count": 160,
   "metadata": {
    "collapsed": false,
    "deletable": true,
    "editable": true
   },
   "outputs": [
    {
     "name": "stdout",
     "output_type": "stream",
     "text": [
      "<type 'numpy.ndarray'> <type 'numpy.ndarray'>\n"
     ]
    },
    {
     "data": {
      "image/png": "[encoded data removed]",
      "text/plain": [
       "<matplotlib.figure.Figure at 0x7f0c0a8a8650>"
      ]
     },
     "metadata": {},
     "output_type": "display_data"
    },
    {
     "name": "stdout",
     "output_type": "stream",
     "text": [
      "[ 1.  1.  1.  2.  3.  4.]\n",
      "[        inf  1.59163063  1.13123924  0.9284512   0.80828315  0.72678574\n",
      "  0.66701903  0.62088675  0.58396879  0.55362133  0.5281537   0.50642793\n",
      "  0.48764646  0.47123162  0.45675346  0.44388458  0.43237073  0.42201116\n",
      "  0.41264498  0.40414158  0.39639374  0.38931253  0.38282353  0.37686396\n",
      "  0.37138048  0.36632745  0.36166562  0.35736103  0.35338421  0.3497094\n",
      "  0.34631408  0.34317846  0.3402851   0.33761862  0.33516541  0.33291343\n",
      "  0.33085203  0.32897176  0.32726428  0.32572223  0.32433911  0.32310926\n",
      "  0.32202772  0.32109023  0.32029314  0.31963343  0.31910858  0.31871663\n",
      "  0.31845613  0.31832613  0.31832613  0.31845613  0.31871663  0.31910858\n",
      "  0.31963343  0.32029314  0.32109023  0.32202772  0.32310926  0.32433911\n",
      "  0.32572223  0.32726428  0.32897176  0.33085203  0.33291343  0.33516541\n",
      "  0.33761862  0.3402851   0.34317846  0.34631408  0.3497094   0.35338421\n",
      "  0.35736103  0.36166562  0.36632745  0.37138048  0.37686396  0.38282353\n",
      "  0.38931253  0.39639374  0.40414158  0.41264498  0.42201116  0.43237073\n",
      "  0.44388458  0.45675346  0.47123162  0.48764646  0.50642793  0.5281537\n",
      "  0.55362133  0.58396879  0.62088675  0.66701903  0.72678574  0.80828315\n",
      "  0.9284512   1.13123924  1.59163063         inf]\n"
     ]
    },
    {
     "data": {
      "image/png": "[encoded data removed]",
      "text/plain": [
       "<matplotlib.figure.Figure at 0x7f0c08b55e10>"
      ]
     },
     "metadata": {},
     "output_type": "display_data"
    },
    {
     "data": {
      "image/png": "[encoded data removed]",
      "text/plain": [
       "<matplotlib.figure.Figure at 0x7f0c083e8350>"
      ]
     },
     "metadata": {},
     "output_type": "display_data"
    },
    {
     "name": "stdout",
     "output_type": "stream",
     "text": [
      "nan\n"
     ]
    }
   ],
   "source": []
  },
  {
   "cell_type": "code",
   "execution_count": 131,
   "metadata": {
    "collapsed": false,
    "deletable": true,
    "editable": true
   },
   "outputs": [
    {
     "name": "stdout",
     "output_type": "stream",
     "text": [
      "nan\n",
      "0.88188224293\n",
      "21.3333333333\n"
     ]
    }
   ],
   "source": []
  },
  {
   "cell_type": "code",
   "execution_count": 119,
   "metadata": {
    "collapsed": false,
    "deletable": true,
    "editable": true
   },
   "outputs": [
    {
     "data": {
      "text/plain": [
       "-0.46782184902317503"
      ]
     },
     "execution_count": 119,
     "metadata": {},
     "output_type": "execute_result"
    }
   ],
   "source": []
  },
  {
   "cell_type": "code",
   "execution_count": null,
   "metadata": {
    "collapsed": false,
    "deletable": true,
    "editable": true
   },
   "outputs": [],
   "source": []
  }
 ],
 "metadata": {
  "kernelspec": {
   "display_name": "Python 2",
   "language": "python",
   "name": "python2"
  },
  "language_info": {
   "codemirror_mode": {
    "name": "ipython",
    "version": 2
   },
   "file_extension": ".py",
   "mimetype": "text/x-python",
   "name": "python",
   "nbconvert_exporter": "python",
   "pygments_lexer": "ipython2",
   "version": "2.7.14"
  }
 },
 "nbformat": 4,
 "nbformat_minor": 0
}
