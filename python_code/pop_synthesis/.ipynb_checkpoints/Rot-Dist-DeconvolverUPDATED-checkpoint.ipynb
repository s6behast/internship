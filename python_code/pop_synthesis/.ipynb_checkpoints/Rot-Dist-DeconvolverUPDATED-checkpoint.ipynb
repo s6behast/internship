{
 "cells": [
  {
   "cell_type": "code",
   "execution_count": 28,
   "metadata": {
    "collapsed": false,
    "deletable": true,
    "editable": true
   },
   "outputs": [],
   "source": [
    "from scipy import integrate\n",
    "import pandas as pd \n",
    "import matplotlib.pyplot as plt \n",
    "import numpy as np \n",
    "%matplotlib inline\n",
    "from pylab import rcParams\n",
    "rcParams['figure.figsize'] = 5, 5"
   ]
  },
  {
   "cell_type": "markdown",
   "metadata": {
    "deletable": true,
    "editable": true
   },
   "source": [
    "# load in observational data #"
   ]
  },
  {
   "cell_type": "code",
   "execution_count": 43,
   "metadata": {
    "collapsed": false,
    "deletable": true,
    "editable": true
   },
   "outputs": [
    {
     "data": {
      "text/html": [
       "<div>\n",
       "<table border=\"1\" class=\"dataframe\">\n",
       "  <thead>\n",
       "    <tr style=\"text-align: right;\">\n",
       "      <th></th>\n",
       "      <th>name</th>\n",
       "      <th>WEBDA</th>\n",
       "      <th>vsini</th>\n",
       "      <th>vsini_error</th>\n",
       "      <th>Vr1</th>\n",
       "      <th>Vr2</th>\n",
       "      <th>Vr3</th>\n",
       "      <th>SpType</th>\n",
       "      <th>Notes</th>\n",
       "    </tr>\n",
       "  </thead>\n",
       "  <tbody>\n",
       "    <tr>\n",
       "      <th>0</th>\n",
       "      <td>Ber86</td>\n",
       "      <td>1.0</td>\n",
       "      <td>184.0</td>\n",
       "      <td>7.0</td>\n",
       "      <td>30.3</td>\n",
       "      <td>30.8</td>\n",
       "      <td>NaN</td>\n",
       "      <td>1.3</td>\n",
       "      <td>NaN</td>\n",
       "    </tr>\n",
       "    <tr>\n",
       "      <th>1</th>\n",
       "      <td>Ber86</td>\n",
       "      <td>3.0</td>\n",
       "      <td>192.0</td>\n",
       "      <td>10.0</td>\n",
       "      <td>-24.6</td>\n",
       "      <td>7.5</td>\n",
       "      <td>NaN</td>\n",
       "      <td>4.0</td>\n",
       "      <td>SB2</td>\n",
       "    </tr>\n",
       "    <tr>\n",
       "      <th>2</th>\n",
       "      <td>Ber86</td>\n",
       "      <td>4.0</td>\n",
       "      <td>178.0</td>\n",
       "      <td>8.0</td>\n",
       "      <td>17.2</td>\n",
       "      <td>45.2</td>\n",
       "      <td>NaN</td>\n",
       "      <td>1.0</td>\n",
       "      <td>SB2</td>\n",
       "    </tr>\n",
       "    <tr>\n",
       "      <th>3</th>\n",
       "      <td>Ber86</td>\n",
       "      <td>9.0</td>\n",
       "      <td>362.0</td>\n",
       "      <td>21.0</td>\n",
       "      <td>-7.6</td>\n",
       "      <td>-15.7</td>\n",
       "      <td>NaN</td>\n",
       "      <td>3.3</td>\n",
       "      <td>NaN</td>\n",
       "    </tr>\n",
       "    <tr>\n",
       "      <th>4</th>\n",
       "      <td>Ber86</td>\n",
       "      <td>12.0</td>\n",
       "      <td>309.0</td>\n",
       "      <td>11.0</td>\n",
       "      <td>-6.8</td>\n",
       "      <td>8.0</td>\n",
       "      <td>NaN</td>\n",
       "      <td>10.0</td>\n",
       "      <td>NaN</td>\n",
       "    </tr>\n",
       "    <tr>\n",
       "      <th>5</th>\n",
       "      <td>Ber86</td>\n",
       "      <td>13.0</td>\n",
       "      <td>182.0</td>\n",
       "      <td>6.0</td>\n",
       "      <td>49.9</td>\n",
       "      <td>48.3</td>\n",
       "      <td>NaN</td>\n",
       "      <td>0.7</td>\n",
       "      <td>NaN</td>\n",
       "    </tr>\n",
       "    <tr>\n",
       "      <th>6</th>\n",
       "      <td>Ber86</td>\n",
       "      <td>14.0</td>\n",
       "      <td>133.0</td>\n",
       "      <td>16.0</td>\n",
       "      <td>-131.7</td>\n",
       "      <td>-142.5</td>\n",
       "      <td>NaN</td>\n",
       "      <td>1.3</td>\n",
       "      <td>SB2</td>\n",
       "    </tr>\n",
       "    <tr>\n",
       "      <th>7</th>\n",
       "      <td>Ber86</td>\n",
       "      <td>15.0</td>\n",
       "      <td>23.0</td>\n",
       "      <td>15.0</td>\n",
       "      <td>-13.9</td>\n",
       "      <td>-15.8</td>\n",
       "      <td>NaN</td>\n",
       "      <td>5.0</td>\n",
       "      <td>NaN</td>\n",
       "    </tr>\n",
       "    <tr>\n",
       "      <th>8</th>\n",
       "      <td>Ber86</td>\n",
       "      <td>17.0</td>\n",
       "      <td>79.0</td>\n",
       "      <td>8.0</td>\n",
       "      <td>-41.4</td>\n",
       "      <td>-43.2</td>\n",
       "      <td>NaN</td>\n",
       "      <td>2.0</td>\n",
       "      <td>NaN</td>\n",
       "    </tr>\n",
       "    <tr>\n",
       "      <th>9</th>\n",
       "      <td>Ber86</td>\n",
       "      <td>30.0</td>\n",
       "      <td>103.0</td>\n",
       "      <td>12.0</td>\n",
       "      <td>-7.7</td>\n",
       "      <td>-7.7</td>\n",
       "      <td>NaN</td>\n",
       "      <td>6.3</td>\n",
       "      <td>NaN</td>\n",
       "    </tr>\n",
       "    <tr>\n",
       "      <th>10</th>\n",
       "      <td>Ber86</td>\n",
       "      <td>34.0</td>\n",
       "      <td>241.0</td>\n",
       "      <td>16.0</td>\n",
       "      <td>4.1</td>\n",
       "      <td>20.7</td>\n",
       "      <td>NaN</td>\n",
       "      <td>3.0</td>\n",
       "      <td>strong emission in H-gamma</td>\n",
       "    </tr>\n",
       "    <tr>\n",
       "      <th>11</th>\n",
       "      <td>Ber86</td>\n",
       "      <td>149.0</td>\n",
       "      <td>181.0</td>\n",
       "      <td>10.0</td>\n",
       "      <td>-17.7</td>\n",
       "      <td>-48.9</td>\n",
       "      <td>NaN</td>\n",
       "      <td>2.7</td>\n",
       "      <td>SB1</td>\n",
       "    </tr>\n",
       "    <tr>\n",
       "      <th>12</th>\n",
       "      <td>Ber86</td>\n",
       "      <td>214.0</td>\n",
       "      <td>276.0</td>\n",
       "      <td>17.0</td>\n",
       "      <td>-10.5</td>\n",
       "      <td>-9.8</td>\n",
       "      <td>NaN</td>\n",
       "      <td>11.0</td>\n",
       "      <td>two nights differ, SB2?</td>\n",
       "    </tr>\n",
       "    <tr>\n",
       "      <th>13</th>\n",
       "      <td>Ber86</td>\n",
       "      <td>235.0</td>\n",
       "      <td>325.0</td>\n",
       "      <td>12.0</td>\n",
       "      <td>-25.1</td>\n",
       "      <td>-23.1</td>\n",
       "      <td>NaN</td>\n",
       "      <td>4.7</td>\n",
       "      <td>NaN</td>\n",
       "    </tr>\n",
       "    <tr>\n",
       "      <th>14</th>\n",
       "      <td>Ber86</td>\n",
       "      <td>261.0</td>\n",
       "      <td>251.0</td>\n",
       "      <td>11.0</td>\n",
       "      <td>-22.2</td>\n",
       "      <td>-25.7</td>\n",
       "      <td>NaN</td>\n",
       "      <td>5.7</td>\n",
       "      <td>NaN</td>\n",
       "    </tr>\n",
       "    <tr>\n",
       "      <th>15</th>\n",
       "      <td>Ber86</td>\n",
       "      <td>288.0</td>\n",
       "      <td>184.0</td>\n",
       "      <td>9.0</td>\n",
       "      <td>-12.1</td>\n",
       "      <td>-11.8</td>\n",
       "      <td>NaN</td>\n",
       "      <td>8.0</td>\n",
       "      <td>NaN</td>\n",
       "    </tr>\n",
       "    <tr>\n",
       "      <th>16</th>\n",
       "      <td>Ber86</td>\n",
       "      <td>291.0</td>\n",
       "      <td>87.0</td>\n",
       "      <td>14.0</td>\n",
       "      <td>-16.8</td>\n",
       "      <td>-15.3</td>\n",
       "      <td>NaN</td>\n",
       "      <td>7.0</td>\n",
       "      <td>NaN</td>\n",
       "    </tr>\n",
       "    <tr>\n",
       "      <th>17</th>\n",
       "      <td>IC1805</td>\n",
       "      <td>72.0</td>\n",
       "      <td>266.0</td>\n",
       "      <td>12.0</td>\n",
       "      <td>-62.7</td>\n",
       "      <td>-58.8</td>\n",
       "      <td>NaN</td>\n",
       "      <td>8.0</td>\n",
       "      <td>NaN</td>\n",
       "    </tr>\n",
       "    <tr>\n",
       "      <th>18</th>\n",
       "      <td>IC1805</td>\n",
       "      <td>82.0</td>\n",
       "      <td>191.0</td>\n",
       "      <td>11.0</td>\n",
       "      <td>4.4</td>\n",
       "      <td>-41.4</td>\n",
       "      <td>NaN</td>\n",
       "      <td>4.3</td>\n",
       "      <td>SB1, He I LP varying a bit night to night</td>\n",
       "    </tr>\n",
       "    <tr>\n",
       "      <th>19</th>\n",
       "      <td>IC1805</td>\n",
       "      <td>103.0</td>\n",
       "      <td>179.0</td>\n",
       "      <td>14.0</td>\n",
       "      <td>55.8</td>\n",
       "      <td>-52.8</td>\n",
       "      <td>NaN</td>\n",
       "      <td>2.0</td>\n",
       "      <td>SB2</td>\n",
       "    </tr>\n",
       "    <tr>\n",
       "      <th>20</th>\n",
       "      <td>IC1805</td>\n",
       "      <td>111.0</td>\n",
       "      <td>160.0</td>\n",
       "      <td>12.0</td>\n",
       "      <td>-1.1</td>\n",
       "      <td>-98.2</td>\n",
       "      <td>NaN</td>\n",
       "      <td>4.3</td>\n",
       "      <td>SB1</td>\n",
       "    </tr>\n",
       "    <tr>\n",
       "      <th>21</th>\n",
       "      <td>IC1805</td>\n",
       "      <td>113.0</td>\n",
       "      <td>218.0</td>\n",
       "      <td>16.0</td>\n",
       "      <td>-20.2</td>\n",
       "      <td>-12.5</td>\n",
       "      <td>NaN</td>\n",
       "      <td>0.3</td>\n",
       "      <td>strong emission in H-gamma. P Cyg He I profile...</td>\n",
       "    </tr>\n",
       "    <tr>\n",
       "      <th>22</th>\n",
       "      <td>IC1805</td>\n",
       "      <td>118.0</td>\n",
       "      <td>18.0</td>\n",
       "      <td>29.0</td>\n",
       "      <td>-66.0</td>\n",
       "      <td>-41.3</td>\n",
       "      <td>NaN</td>\n",
       "      <td>2.0</td>\n",
       "      <td>NaN</td>\n",
       "    </tr>\n",
       "    <tr>\n",
       "      <th>23</th>\n",
       "      <td>IC1805</td>\n",
       "      <td>121.0</td>\n",
       "      <td>61.0</td>\n",
       "      <td>12.0</td>\n",
       "      <td>-27.5</td>\n",
       "      <td>-15.0</td>\n",
       "      <td>NaN</td>\n",
       "      <td>3.0</td>\n",
       "      <td>NaN</td>\n",
       "    </tr>\n",
       "    <tr>\n",
       "      <th>24</th>\n",
       "      <td>IC1805</td>\n",
       "      <td>130.0</td>\n",
       "      <td>133.0</td>\n",
       "      <td>15.0</td>\n",
       "      <td>-32.3</td>\n",
       "      <td>-60.9</td>\n",
       "      <td>NaN</td>\n",
       "      <td>9.0</td>\n",
       "      <td>SB1</td>\n",
       "    </tr>\n",
       "    <tr>\n",
       "      <th>25</th>\n",
       "      <td>IC1805</td>\n",
       "      <td>143.0</td>\n",
       "      <td>320.0</td>\n",
       "      <td>10.0</td>\n",
       "      <td>-53.8</td>\n",
       "      <td>-59.9</td>\n",
       "      <td>NaN</td>\n",
       "      <td>3.0</td>\n",
       "      <td>NaN</td>\n",
       "    </tr>\n",
       "    <tr>\n",
       "      <th>26</th>\n",
       "      <td>IC1805</td>\n",
       "      <td>149.0</td>\n",
       "      <td>86.0</td>\n",
       "      <td>17.0</td>\n",
       "      <td>-21.9</td>\n",
       "      <td>-39.7</td>\n",
       "      <td>NaN</td>\n",
       "      <td>4.0</td>\n",
       "      <td>NaN</td>\n",
       "    </tr>\n",
       "    <tr>\n",
       "      <th>27</th>\n",
       "      <td>IC1805</td>\n",
       "      <td>157.0</td>\n",
       "      <td>51.0</td>\n",
       "      <td>19.0</td>\n",
       "      <td>-8.3</td>\n",
       "      <td>-10.3</td>\n",
       "      <td>NaN</td>\n",
       "      <td>10.3</td>\n",
       "      <td>NaN</td>\n",
       "    </tr>\n",
       "    <tr>\n",
       "      <th>28</th>\n",
       "      <td>IC1805</td>\n",
       "      <td>158.0</td>\n",
       "      <td>162.0</td>\n",
       "      <td>17.0</td>\n",
       "      <td>-69.9</td>\n",
       "      <td>-41.3</td>\n",
       "      <td>NaN</td>\n",
       "      <td>4.0</td>\n",
       "      <td>NaN</td>\n",
       "    </tr>\n",
       "    <tr>\n",
       "      <th>29</th>\n",
       "      <td>IC1805</td>\n",
       "      <td>161.0</td>\n",
       "      <td>178.0</td>\n",
       "      <td>8.0</td>\n",
       "      <td>-81.6</td>\n",
       "      <td>-51.6</td>\n",
       "      <td>NaN</td>\n",
       "      <td>2.3</td>\n",
       "      <td>NaN</td>\n",
       "    </tr>\n",
       "    <tr>\n",
       "      <th>...</th>\n",
       "      <td>...</td>\n",
       "      <td>...</td>\n",
       "      <td>...</td>\n",
       "      <td>...</td>\n",
       "      <td>...</td>\n",
       "      <td>...</td>\n",
       "      <td>...</td>\n",
       "      <td>...</td>\n",
       "      <td>...</td>\n",
       "    </tr>\n",
       "    <tr>\n",
       "      <th>70</th>\n",
       "      <td>IC2944</td>\n",
       "      <td>25.0</td>\n",
       "      <td>133.0</td>\n",
       "      <td>27.0</td>\n",
       "      <td>4.2</td>\n",
       "      <td>-16.9</td>\n",
       "      <td>6.8</td>\n",
       "      <td>12.5</td>\n",
       "      <td>weak emission in H-gamma? varying night to night</td>\n",
       "    </tr>\n",
       "    <tr>\n",
       "      <th>71</th>\n",
       "      <td>IC2944</td>\n",
       "      <td>27.0</td>\n",
       "      <td>52.0</td>\n",
       "      <td>9.0</td>\n",
       "      <td>-14.1</td>\n",
       "      <td>-32.7</td>\n",
       "      <td>-14.9</td>\n",
       "      <td>17.0</td>\n",
       "      <td>NaN</td>\n",
       "    </tr>\n",
       "    <tr>\n",
       "      <th>72</th>\n",
       "      <td>IC2944</td>\n",
       "      <td>29.0</td>\n",
       "      <td>84.0</td>\n",
       "      <td>15.0</td>\n",
       "      <td>-14.6</td>\n",
       "      <td>-7.5</td>\n",
       "      <td>-17.8</td>\n",
       "      <td>3.0</td>\n",
       "      <td>NaN</td>\n",
       "    </tr>\n",
       "    <tr>\n",
       "      <th>73</th>\n",
       "      <td>IC2944</td>\n",
       "      <td>33.0</td>\n",
       "      <td>0.0</td>\n",
       "      <td>18.0</td>\n",
       "      <td>-17.3</td>\n",
       "      <td>-6.0</td>\n",
       "      <td>-10.9</td>\n",
       "      <td>2.0</td>\n",
       "      <td>NaN</td>\n",
       "    </tr>\n",
       "    <tr>\n",
       "      <th>74</th>\n",
       "      <td>IC2944</td>\n",
       "      <td>34.0</td>\n",
       "      <td>70.0</td>\n",
       "      <td>11.0</td>\n",
       "      <td>-3.4</td>\n",
       "      <td>2.0</td>\n",
       "      <td>14.2</td>\n",
       "      <td>5.0</td>\n",
       "      <td>NaN</td>\n",
       "    </tr>\n",
       "    <tr>\n",
       "      <th>75</th>\n",
       "      <td>IC2944</td>\n",
       "      <td>36.0</td>\n",
       "      <td>196.0</td>\n",
       "      <td>9.0</td>\n",
       "      <td>21.9</td>\n",
       "      <td>-13.4</td>\n",
       "      <td>-17.6</td>\n",
       "      <td>1.3</td>\n",
       "      <td>SB1</td>\n",
       "    </tr>\n",
       "    <tr>\n",
       "      <th>76</th>\n",
       "      <td>IC2944</td>\n",
       "      <td>41.0</td>\n",
       "      <td>251.0</td>\n",
       "      <td>9.0</td>\n",
       "      <td>-15.8</td>\n",
       "      <td>-68.4</td>\n",
       "      <td>-36.2</td>\n",
       "      <td>11.3</td>\n",
       "      <td>SB1, weak emission in H-gamma</td>\n",
       "    </tr>\n",
       "    <tr>\n",
       "      <th>77</th>\n",
       "      <td>IC2944</td>\n",
       "      <td>48.0</td>\n",
       "      <td>225.0</td>\n",
       "      <td>10.0</td>\n",
       "      <td>-13.5</td>\n",
       "      <td>-7.5</td>\n",
       "      <td>-10.9</td>\n",
       "      <td>8.5</td>\n",
       "      <td>NaN</td>\n",
       "    </tr>\n",
       "    <tr>\n",
       "      <th>78</th>\n",
       "      <td>IC2944</td>\n",
       "      <td>71.0</td>\n",
       "      <td>153.0</td>\n",
       "      <td>11.0</td>\n",
       "      <td>-6.1</td>\n",
       "      <td>-6.8</td>\n",
       "      <td>6.1</td>\n",
       "      <td>13.0</td>\n",
       "      <td>very weak emission in H-gamma</td>\n",
       "    </tr>\n",
       "    <tr>\n",
       "      <th>79</th>\n",
       "      <td>IC2944</td>\n",
       "      <td>83.0</td>\n",
       "      <td>285.0</td>\n",
       "      <td>13.0</td>\n",
       "      <td>-115.6</td>\n",
       "      <td>-15.7</td>\n",
       "      <td>-14.4</td>\n",
       "      <td>13.7</td>\n",
       "      <td>SB1, narrow and deep absorp. in H-gamma</td>\n",
       "    </tr>\n",
       "    <tr>\n",
       "      <th>80</th>\n",
       "      <td>IC2944</td>\n",
       "      <td>88.0</td>\n",
       "      <td>122.0</td>\n",
       "      <td>10.0</td>\n",
       "      <td>-13.9</td>\n",
       "      <td>-27.7</td>\n",
       "      <td>-27.1</td>\n",
       "      <td>10.0</td>\n",
       "      <td>NaN</td>\n",
       "    </tr>\n",
       "    <tr>\n",
       "      <th>81</th>\n",
       "      <td>IC2944</td>\n",
       "      <td>90.0</td>\n",
       "      <td>195.0</td>\n",
       "      <td>9.0</td>\n",
       "      <td>2.8</td>\n",
       "      <td>-4.7</td>\n",
       "      <td>-0.0</td>\n",
       "      <td>9.0</td>\n",
       "      <td>NaN</td>\n",
       "    </tr>\n",
       "    <tr>\n",
       "      <th>82</th>\n",
       "      <td>IC2944</td>\n",
       "      <td>91.0</td>\n",
       "      <td>187.0</td>\n",
       "      <td>14.0</td>\n",
       "      <td>-21.0</td>\n",
       "      <td>-9.4</td>\n",
       "      <td>-14.9</td>\n",
       "      <td>2.0</td>\n",
       "      <td>NaN</td>\n",
       "    </tr>\n",
       "    <tr>\n",
       "      <th>83</th>\n",
       "      <td>IC2944</td>\n",
       "      <td>93.0</td>\n",
       "      <td>92.0</td>\n",
       "      <td>9.0</td>\n",
       "      <td>-19.0</td>\n",
       "      <td>-11.6</td>\n",
       "      <td>-10.9</td>\n",
       "      <td>14.0</td>\n",
       "      <td>NaN</td>\n",
       "    </tr>\n",
       "    <tr>\n",
       "      <th>84</th>\n",
       "      <td>IC2944</td>\n",
       "      <td>96.0</td>\n",
       "      <td>55.0</td>\n",
       "      <td>19.0</td>\n",
       "      <td>-18.0</td>\n",
       "      <td>-20.3</td>\n",
       "      <td>-16.0</td>\n",
       "      <td>3.0</td>\n",
       "      <td>NaN</td>\n",
       "    </tr>\n",
       "    <tr>\n",
       "      <th>85</th>\n",
       "      <td>IC2944</td>\n",
       "      <td>98.0</td>\n",
       "      <td>1.0</td>\n",
       "      <td>39.0</td>\n",
       "      <td>-12.8</td>\n",
       "      <td>-3.8</td>\n",
       "      <td>-10.8</td>\n",
       "      <td>2.0</td>\n",
       "      <td>NaN</td>\n",
       "    </tr>\n",
       "    <tr>\n",
       "      <th>86</th>\n",
       "      <td>IC2944</td>\n",
       "      <td>102.0</td>\n",
       "      <td>93.0</td>\n",
       "      <td>14.0</td>\n",
       "      <td>-37.6</td>\n",
       "      <td>-28.1</td>\n",
       "      <td>-20.5</td>\n",
       "      <td>13.3</td>\n",
       "      <td>NaN</td>\n",
       "    </tr>\n",
       "    <tr>\n",
       "      <th>87</th>\n",
       "      <td>IC2944</td>\n",
       "      <td>105.0</td>\n",
       "      <td>86.0</td>\n",
       "      <td>18.0</td>\n",
       "      <td>-20.3</td>\n",
       "      <td>-15.6</td>\n",
       "      <td>-13.5</td>\n",
       "      <td>1.5</td>\n",
       "      <td>NaN</td>\n",
       "    </tr>\n",
       "    <tr>\n",
       "      <th>88</th>\n",
       "      <td>IC2944</td>\n",
       "      <td>106.0</td>\n",
       "      <td>99.0</td>\n",
       "      <td>7.0</td>\n",
       "      <td>-36.2</td>\n",
       "      <td>-20.1</td>\n",
       "      <td>-18.8</td>\n",
       "      <td>9.0</td>\n",
       "      <td>NaN</td>\n",
       "    </tr>\n",
       "    <tr>\n",
       "      <th>89</th>\n",
       "      <td>IC2944</td>\n",
       "      <td>109.0</td>\n",
       "      <td>79.0</td>\n",
       "      <td>14.0</td>\n",
       "      <td>6.1</td>\n",
       "      <td>1.4</td>\n",
       "      <td>2.7</td>\n",
       "      <td>3.0</td>\n",
       "      <td>NaN</td>\n",
       "    </tr>\n",
       "    <tr>\n",
       "      <th>90</th>\n",
       "      <td>IC2944</td>\n",
       "      <td>110.0</td>\n",
       "      <td>181.0</td>\n",
       "      <td>10.0</td>\n",
       "      <td>-14.3</td>\n",
       "      <td>-40.8</td>\n",
       "      <td>-12.7</td>\n",
       "      <td>12.7</td>\n",
       "      <td>very weak emission in H-gamma</td>\n",
       "    </tr>\n",
       "    <tr>\n",
       "      <th>91</th>\n",
       "      <td>IC2944</td>\n",
       "      <td>115.0</td>\n",
       "      <td>311.0</td>\n",
       "      <td>9.0</td>\n",
       "      <td>-27.9</td>\n",
       "      <td>-94.0</td>\n",
       "      <td>-13.5</td>\n",
       "      <td>10.5</td>\n",
       "      <td>SB1, emission in H-gamma</td>\n",
       "    </tr>\n",
       "    <tr>\n",
       "      <th>92</th>\n",
       "      <td>IC2944</td>\n",
       "      <td>119.0</td>\n",
       "      <td>118.0</td>\n",
       "      <td>11.0</td>\n",
       "      <td>-22.4</td>\n",
       "      <td>-33.2</td>\n",
       "      <td>-22.4</td>\n",
       "      <td>9.5</td>\n",
       "      <td>very weak emission in H-gamma</td>\n",
       "    </tr>\n",
       "    <tr>\n",
       "      <th>93</th>\n",
       "      <td>IC2944</td>\n",
       "      <td>120.0</td>\n",
       "      <td>22.0</td>\n",
       "      <td>26.0</td>\n",
       "      <td>-12.2</td>\n",
       "      <td>-11.5</td>\n",
       "      <td>-11.5</td>\n",
       "      <td>4.0</td>\n",
       "      <td>NaN</td>\n",
       "    </tr>\n",
       "    <tr>\n",
       "      <th>94</th>\n",
       "      <td>IC2944</td>\n",
       "      <td>122.0</td>\n",
       "      <td>271.0</td>\n",
       "      <td>11.0</td>\n",
       "      <td>-25.0</td>\n",
       "      <td>-7.3</td>\n",
       "      <td>-13.5</td>\n",
       "      <td>3.0</td>\n",
       "      <td>very weak emission in H-gamma</td>\n",
       "    </tr>\n",
       "    <tr>\n",
       "      <th>95</th>\n",
       "      <td>IC2944</td>\n",
       "      <td>134.0</td>\n",
       "      <td>198.0</td>\n",
       "      <td>7.0</td>\n",
       "      <td>3.7</td>\n",
       "      <td>13.2</td>\n",
       "      <td>-14.1</td>\n",
       "      <td>10.0</td>\n",
       "      <td>NaN</td>\n",
       "    </tr>\n",
       "    <tr>\n",
       "      <th>96</th>\n",
       "      <td>IC2944  1</td>\n",
       "      <td>2.0</td>\n",
       "      <td>231.0</td>\n",
       "      <td>20.0</td>\n",
       "      <td>-60.5</td>\n",
       "      <td>51.8</td>\n",
       "      <td>-9.0</td>\n",
       "      <td>10.7</td>\n",
       "      <td>SB1, CD-62 549C, 11:38:09.2  -63:12:00, weak e...</td>\n",
       "    </tr>\n",
       "    <tr>\n",
       "      <th>97</th>\n",
       "      <td>IC2944  1</td>\n",
       "      <td>3.0</td>\n",
       "      <td>28.0</td>\n",
       "      <td>31.0</td>\n",
       "      <td>-4.7</td>\n",
       "      <td>-7.4</td>\n",
       "      <td>-5.4</td>\n",
       "      <td>12.0</td>\n",
       "      <td>HD 308805;  11:39:26.103 -63:07:32.01, strong ...</td>\n",
       "    </tr>\n",
       "    <tr>\n",
       "      <th>98</th>\n",
       "      <td>IC2944  1</td>\n",
       "      <td>4.0</td>\n",
       "      <td>32.0</td>\n",
       "      <td>15.0</td>\n",
       "      <td>10.2</td>\n",
       "      <td>-2.0</td>\n",
       "      <td>0.7</td>\n",
       "      <td>9.0</td>\n",
       "      <td>GSC 0897604709; 11:37:43.17 -63:13:07.6</td>\n",
       "    </tr>\n",
       "    <tr>\n",
       "      <th>99</th>\n",
       "      <td>IC2944  1</td>\n",
       "      <td>45.0</td>\n",
       "      <td>155.0</td>\n",
       "      <td>15.0</td>\n",
       "      <td>-22.3</td>\n",
       "      <td>-27.8</td>\n",
       "      <td>-18.9</td>\n",
       "      <td>2.0</td>\n",
       "      <td>GSC 0897601783; 11:38:41.29 -63:11:05.60</td>\n",
       "    </tr>\n",
       "  </tbody>\n",
       "</table>\n",
       "<p>100 rows × 9 columns</p>\n",
       "</div>"
      ],
      "text/plain": [
       "         name  WEBDA  vsini  vsini_error    Vr1    Vr2   Vr3  SpType  \\\n",
       "0       Ber86    1.0  184.0          7.0   30.3   30.8   NaN     1.3   \n",
       "1       Ber86    3.0  192.0         10.0  -24.6    7.5   NaN     4.0   \n",
       "2       Ber86    4.0  178.0          8.0   17.2   45.2   NaN     1.0   \n",
       "3       Ber86    9.0  362.0         21.0   -7.6  -15.7   NaN     3.3   \n",
       "4       Ber86   12.0  309.0         11.0   -6.8    8.0   NaN    10.0   \n",
       "5       Ber86   13.0  182.0          6.0   49.9   48.3   NaN     0.7   \n",
       "6       Ber86   14.0  133.0         16.0 -131.7 -142.5   NaN     1.3   \n",
       "7       Ber86   15.0   23.0         15.0  -13.9  -15.8   NaN     5.0   \n",
       "8       Ber86   17.0   79.0          8.0  -41.4  -43.2   NaN     2.0   \n",
       "9       Ber86   30.0  103.0         12.0   -7.7   -7.7   NaN     6.3   \n",
       "10      Ber86   34.0  241.0         16.0    4.1   20.7   NaN     3.0   \n",
       "11      Ber86  149.0  181.0         10.0  -17.7  -48.9   NaN     2.7   \n",
       "12      Ber86  214.0  276.0         17.0  -10.5   -9.8   NaN    11.0   \n",
       "13      Ber86  235.0  325.0         12.0  -25.1  -23.1   NaN     4.7   \n",
       "14      Ber86  261.0  251.0         11.0  -22.2  -25.7   NaN     5.7   \n",
       "15      Ber86  288.0  184.0          9.0  -12.1  -11.8   NaN     8.0   \n",
       "16      Ber86  291.0   87.0         14.0  -16.8  -15.3   NaN     7.0   \n",
       "17     IC1805   72.0  266.0         12.0  -62.7  -58.8   NaN     8.0   \n",
       "18     IC1805   82.0  191.0         11.0    4.4  -41.4   NaN     4.3   \n",
       "19     IC1805  103.0  179.0         14.0   55.8  -52.8   NaN     2.0   \n",
       "20     IC1805  111.0  160.0         12.0   -1.1  -98.2   NaN     4.3   \n",
       "21     IC1805  113.0  218.0         16.0  -20.2  -12.5   NaN     0.3   \n",
       "22     IC1805  118.0   18.0         29.0  -66.0  -41.3   NaN     2.0   \n",
       "23     IC1805  121.0   61.0         12.0  -27.5  -15.0   NaN     3.0   \n",
       "24     IC1805  130.0  133.0         15.0  -32.3  -60.9   NaN     9.0   \n",
       "25     IC1805  143.0  320.0         10.0  -53.8  -59.9   NaN     3.0   \n",
       "26     IC1805  149.0   86.0         17.0  -21.9  -39.7   NaN     4.0   \n",
       "27     IC1805  157.0   51.0         19.0   -8.3  -10.3   NaN    10.3   \n",
       "28     IC1805  158.0  162.0         17.0  -69.9  -41.3   NaN     4.0   \n",
       "29     IC1805  161.0  178.0          8.0  -81.6  -51.6   NaN     2.3   \n",
       "..        ...    ...    ...          ...    ...    ...   ...     ...   \n",
       "70     IC2944   25.0  133.0         27.0    4.2  -16.9   6.8    12.5   \n",
       "71     IC2944   27.0   52.0          9.0  -14.1  -32.7 -14.9    17.0   \n",
       "72     IC2944   29.0   84.0         15.0  -14.6   -7.5 -17.8     3.0   \n",
       "73     IC2944   33.0    0.0         18.0  -17.3   -6.0 -10.9     2.0   \n",
       "74     IC2944   34.0   70.0         11.0   -3.4    2.0  14.2     5.0   \n",
       "75     IC2944   36.0  196.0          9.0   21.9  -13.4 -17.6     1.3   \n",
       "76     IC2944   41.0  251.0          9.0  -15.8  -68.4 -36.2    11.3   \n",
       "77     IC2944   48.0  225.0         10.0  -13.5   -7.5 -10.9     8.5   \n",
       "78     IC2944   71.0  153.0         11.0   -6.1   -6.8   6.1    13.0   \n",
       "79     IC2944   83.0  285.0         13.0 -115.6  -15.7 -14.4    13.7   \n",
       "80     IC2944   88.0  122.0         10.0  -13.9  -27.7 -27.1    10.0   \n",
       "81     IC2944   90.0  195.0          9.0    2.8   -4.7  -0.0     9.0   \n",
       "82     IC2944   91.0  187.0         14.0  -21.0   -9.4 -14.9     2.0   \n",
       "83     IC2944   93.0   92.0          9.0  -19.0  -11.6 -10.9    14.0   \n",
       "84     IC2944   96.0   55.0         19.0  -18.0  -20.3 -16.0     3.0   \n",
       "85     IC2944   98.0    1.0         39.0  -12.8   -3.8 -10.8     2.0   \n",
       "86     IC2944  102.0   93.0         14.0  -37.6  -28.1 -20.5    13.3   \n",
       "87     IC2944  105.0   86.0         18.0  -20.3  -15.6 -13.5     1.5   \n",
       "88     IC2944  106.0   99.0          7.0  -36.2  -20.1 -18.8     9.0   \n",
       "89     IC2944  109.0   79.0         14.0    6.1    1.4   2.7     3.0   \n",
       "90     IC2944  110.0  181.0         10.0  -14.3  -40.8 -12.7    12.7   \n",
       "91     IC2944  115.0  311.0          9.0  -27.9  -94.0 -13.5    10.5   \n",
       "92     IC2944  119.0  118.0         11.0  -22.4  -33.2 -22.4     9.5   \n",
       "93     IC2944  120.0   22.0         26.0  -12.2  -11.5 -11.5     4.0   \n",
       "94     IC2944  122.0  271.0         11.0  -25.0   -7.3 -13.5     3.0   \n",
       "95     IC2944  134.0  198.0          7.0    3.7   13.2 -14.1    10.0   \n",
       "96  IC2944  1    2.0  231.0         20.0  -60.5   51.8  -9.0    10.7   \n",
       "97  IC2944  1    3.0   28.0         31.0   -4.7   -7.4  -5.4    12.0   \n",
       "98  IC2944  1    4.0   32.0         15.0   10.2   -2.0   0.7     9.0   \n",
       "99  IC2944  1   45.0  155.0         15.0  -22.3  -27.8 -18.9     2.0   \n",
       "\n",
       "                                                Notes  \n",
       "0                                                 NaN  \n",
       "1                                                 SB2  \n",
       "2                                                 SB2  \n",
       "3                                                 NaN  \n",
       "4                                                 NaN  \n",
       "5                                                 NaN  \n",
       "6                                                 SB2  \n",
       "7                                                 NaN  \n",
       "8                                                 NaN  \n",
       "9                                                 NaN  \n",
       "10                         strong emission in H-gamma  \n",
       "11                                                SB1  \n",
       "12                            two nights differ, SB2?  \n",
       "13                                                NaN  \n",
       "14                                                NaN  \n",
       "15                                                NaN  \n",
       "16                                                NaN  \n",
       "17                                                NaN  \n",
       "18          SB1, He I LP varying a bit night to night  \n",
       "19                                                SB2  \n",
       "20                                                SB1  \n",
       "21  strong emission in H-gamma. P Cyg He I profile...  \n",
       "22                                                NaN  \n",
       "23                                                NaN  \n",
       "24                                                SB1  \n",
       "25                                                NaN  \n",
       "26                                                NaN  \n",
       "27                                                NaN  \n",
       "28                                                NaN  \n",
       "29                                                NaN  \n",
       "..                                                ...  \n",
       "70   weak emission in H-gamma? varying night to night  \n",
       "71                                                NaN  \n",
       "72                                                NaN  \n",
       "73                                                NaN  \n",
       "74                                                NaN  \n",
       "75                                                SB1  \n",
       "76                      SB1, weak emission in H-gamma  \n",
       "77                                                NaN  \n",
       "78                      very weak emission in H-gamma  \n",
       "79            SB1, narrow and deep absorp. in H-gamma  \n",
       "80                                                NaN  \n",
       "81                                                NaN  \n",
       "82                                                NaN  \n",
       "83                                                NaN  \n",
       "84                                                NaN  \n",
       "85                                                NaN  \n",
       "86                                                NaN  \n",
       "87                                                NaN  \n",
       "88                                                NaN  \n",
       "89                                                NaN  \n",
       "90                      very weak emission in H-gamma  \n",
       "91                           SB1, emission in H-gamma  \n",
       "92                      very weak emission in H-gamma  \n",
       "93                                                NaN  \n",
       "94                      very weak emission in H-gamma  \n",
       "95                                                NaN  \n",
       "96  SB1, CD-62 549C, 11:38:09.2  -63:12:00, weak e...  \n",
       "97  HD 308805;  11:39:26.103 -63:07:32.01, strong ...  \n",
       "98            GSC 0897604709; 11:37:43.17 -63:13:07.6  \n",
       "99           GSC 0897601783; 11:38:41.29 -63:11:05.60  \n",
       "\n",
       "[100 rows x 9 columns]"
      ]
     },
     "execution_count": 43,
     "metadata": {},
     "output_type": "execute_result"
    }
   ],
   "source": [
    "col_names=['name', 'WEBDA', 'vsini', 'vsini_error', 'Vr1', 'Vr2', 'Vr3', 'SpType', 'Notes']\n",
    "#~ 1-  7 A7     ---     Name    Cluster name\n",
    "   #~ 9- 13 I5     ---     WEBDA   Webda ID (http://obswww.unige.ch/web) (1)\n",
    "  #~ 15- 17 I3     km/s    vsini   Derived projected rotational velocity \n",
    "  #~ 19- 20 I2     km/s  e_vsini   Measurement error in vsini \n",
    "  #~ 22- 27 F6.1   km/s    Vr(N1)  Radial velocity from first night (2)\n",
    "  #~ 29- 34 F6.1   km/s    Vr(N2)  ? Radial velocity from second night if available\n",
    "                                 #~ (2)\n",
    "  #~ 36- 41 F6.1   km/s    Vr(N3)  ? Radial velocity from third night if available\n",
    "                                 #~ (2)\n",
    "  #~ 43- 46 F4.1   ---     SpType  Index of estimated pseudo-spectral type (3)\n",
    "  #~ 48-142 A95    ---     Notes   Additional notes \n",
    "\n",
    "df=pd.read_fwf('./Huang2006_rotdist (copy).dat',  skiprows=74,\n",
    "                names=col_names, widths=[9,4,4,3,7,7,7,6, 70 ])\n",
    "\n",
    "df.head(100)"
   ]
  },
  {
   "cell_type": "code",
   "execution_count": 45,
   "metadata": {
    "collapsed": false,
    "deletable": true,
    "editable": true
   },
   "outputs": [
    {
     "data": {
      "image/png": "[encoded data removed]",
      "text/plain": [
       "<matplotlib.figure.Figure at 0x7f12cb1ce610>"
      ]
     },
     "metadata": {},
     "output_type": "display_data"
    }
   ],
   "source": [
    "df=df.dropna(subset=['vsini']) # remove data with no vsini value eg last row of dataframe \n",
    "#print df['vsini']\n",
    "plt.hist(df['vsini'])\n",
    "plt.show()"
   ]
  },
  {
   "cell_type": "markdown",
   "metadata": {
    "deletable": true,
    "editable": true
   },
   "source": [
    "# find CDF of data # "
   ]
  },
  {
   "cell_type": "code",
   "execution_count": 47,
   "metadata": {
    "collapsed": false,
    "deletable": true,
    "editable": true
   },
   "outputs": [
    {
     "name": "stdout",
     "output_type": "stream",
     "text": [
      "max vsini =  389.0\n",
      "   level_0  index     name   WEBDA  vsini  vsini_error   Vr1   Vr2   Vr3  \\\n",
      "0        0    471     TR16    15.0    0.0         15.0 -14.4   NaN   NaN   \n",
      "1        1     73   IC2944    33.0    0.0         18.0 -17.3  -6.0 -10.9   \n",
      "2        2     85   IC2944    98.0    1.0         39.0 -12.8  -3.8 -10.8   \n",
      "3        3    282  NGC2244  1034.0    3.0         12.0  78.2  15.3  87.8   \n",
      "4        4    340  NGC2422    71.0    3.0         12.0  29.4  34.0   NaN   \n",
      "\n",
      "   SpType                Notes  unit  \n",
      "0     2.3  emission in H-gamma   1.0  \n",
      "1     2.0                  NaN   1.0  \n",
      "2     2.0                  NaN   1.0  \n",
      "3    14.0                  SB1   1.0  \n",
      "4    13.0                  NaN   1.0  \n"
     ]
    },
    {
     "data": {
      "image/png": "[encoded data removed]",
      "text/plain": [
       "<matplotlib.figure.Figure at 0x7f12cae730d0>"
      ]
     },
     "metadata": {},
     "output_type": "display_data"
    }
   ],
   "source": [
    "df=df.sort_values('vsini') # sort data by vsini \n",
    "\n",
    "df=df.reset_index() # reset indexes \n",
    "df['unit'] =np.ones(len(df)) # create col consisting of always 1 to perform cumulative sum over \n",
    "\n",
    "print \"max vsini = \", df['vsini'].max()\n",
    "print df.head()\n",
    "\n",
    "#do cum sum and normalize \n",
    "q= df['unit'].cumsum()\n",
    "q=q/q.max()\n",
    "\n",
    "\n",
    "#plot\n",
    "plt.plot(df['vsini'], q, '-')\n",
    "plt.ylabel('cum frac')\n",
    "plt.xlabel('Vsini')\n",
    "plt.show()"
   ]
  },
  {
   "cell_type": "markdown",
   "metadata": {
    "deletable": true,
    "editable": true
   },
   "source": [
    "# perform fit on cum distribution # "
   ]
  },
  {
   "cell_type": "code",
   "execution_count": 69,
   "metadata": {
    "collapsed": false,
    "deletable": true,
    "editable": true
   },
   "outputs": [
    {
     "name": "stdout",
     "output_type": "stream",
     "text": [
      "389.0\n",
      "fitted polynomial coefficients ; \n",
      "[ 3.90331832e-11 -4.22100420e-08  8.90681698e-06  3.19785129e-03\n",
      " -4.59405193e-03]\n"
     ]
    },
    {
     "data": {
      "image/png": "[encoded data removed]",
      "text/plain": [
       "<matplotlib.figure.Figure at 0x7f12ca9be190>"
      ]
     },
     "metadata": {},
     "output_type": "display_data"
    },
    {
     "name": "stdout",
     "output_type": "stream",
     "text": [
      "0      0.002016\n",
      "1      0.004032\n",
      "2      0.006048\n",
      "3      0.008065\n",
      "4      0.010081\n",
      "5      0.012097\n",
      "6      0.014113\n",
      "7      0.016129\n",
      "8      0.018145\n",
      "9      0.020161\n",
      "10     0.022177\n",
      "11     0.024194\n",
      "12     0.026210\n",
      "13     0.028226\n",
      "14     0.030242\n",
      "15     0.032258\n",
      "16     0.034274\n",
      "17     0.036290\n",
      "18     0.038306\n",
      "19     0.040323\n",
      "20     0.042339\n",
      "21     0.044355\n",
      "22     0.046371\n",
      "23     0.048387\n",
      "24     0.050403\n",
      "25     0.052419\n",
      "26     0.054435\n",
      "27     0.056452\n",
      "28     0.058468\n",
      "29     0.060484\n",
      "         ...   \n",
      "466    0.941532\n",
      "467    0.943548\n",
      "468    0.945565\n",
      "469    0.947581\n",
      "470    0.949597\n",
      "471    0.951613\n",
      "472    0.953629\n",
      "473    0.955645\n",
      "474    0.957661\n",
      "475    0.959677\n",
      "476    0.961694\n",
      "477    0.963710\n",
      "478    0.965726\n",
      "479    0.967742\n",
      "480    0.969758\n",
      "481    0.971774\n",
      "482    0.973790\n",
      "483    0.975806\n",
      "484    0.977823\n",
      "485    0.979839\n",
      "486    0.981855\n",
      "487    0.983871\n",
      "488    0.985887\n",
      "489    0.987903\n",
      "490    0.989919\n",
      "491    0.991935\n",
      "492    0.993952\n",
      "493    0.995968\n",
      "494    0.997984\n",
      "495    1.000000\n",
      "Name: unit, dtype: float64\n"
     ]
    }
   ],
   "source": [
    "#4th order polynomial fit to cum data\n",
    "%matplotlib inline\n",
    "p4=np.poly1d(np.polyfit(df['vsini'], q, 4))\n",
    "\n",
    "print df['vsini'].max()\n",
    "\n",
    "x_vals=np.linspace(0,df['vsini'].max(),400)\n",
    "\n",
    "print \"fitted polynomial coefficients ; \\n\" , p4.c\n",
    "\n",
    "plt.plot(x_vals, p4(x_vals))\n",
    "plt.plot(df['vsini'], q, '.', markersize=4)\n",
    "plt.plot(tail_vals, p_tail(tail_vals))\n",
    "\n",
    "plt.axhline(1, color='r', linestyle='--')\n",
    "\n",
    "\n",
    "plt.ylim(0,1.02)\n",
    "plt.ylabel('cum frac')\n",
    "plt.xlabel('Vsini')\n",
    "plt.show()\n",
    "\n",
    "p_tail=np.poly1d(1)\n",
    "\n",
    "tail_vals= np.linspace(x_vals[-1], 600, 100)\n"
   ]
  },
  {
   "cell_type": "markdown",
   "metadata": {
    "deletable": true,
    "editable": true
   },
   "source": [
    "# perform differentiation of fit to get PDF #\n"
   ]
  },
  {
   "cell_type": "code",
   "execution_count": 62,
   "metadata": {
    "collapsed": false,
    "deletable": true,
    "editable": true
   },
   "outputs": [
    {
     "data": {
      "image/png": "[encoded data removed]",
      "text/plain": [
       "<matplotlib.figure.Figure at 0x7f12eb6a4b90>"
      ]
     },
     "metadata": {},
     "output_type": "display_data"
    },
    {
     "name": "stdout",
     "output_type": "stream",
     "text": [
      "           3             2\n",
      "1.561e-10 x - 1.266e-07 x + 1.781e-05 x + 0.003198\n",
      "integral over whole distribution =  1.00088980567\n"
     ]
    }
   ],
   "source": [
    "%matplotlib inline\n",
    "\n",
    "#differentiate polynomial object \n",
    "Pdf_vsini = np.polyder(p4)\n",
    "\n",
    "#plot pdf \n",
    "plt.plot(x_vals, Pdf_vsini(x_vals)/1e-3)\n",
    "\n",
    "plt.title(\"probability density function of vsini\")\n",
    "plt.ylabel('prob. density/1e-3')\n",
    "plt.xlabel('Vsini')\n",
    "plt.axhline(0, color='r')\n",
    "plt.show()\n",
    "\n",
    "print Pdf_vsini\n",
    "\n",
    "\n",
    "# check integral over pdf equals unity\n",
    "\n",
    "print \"integral over whole distribution = \",integrate.quad( Pdf_vsini, 0, x_vals.max())[0]"
   ]
  },
  {
   "cell_type": "markdown",
   "metadata": {
    "deletable": true,
    "editable": true
   },
   "source": [
    "# deconvolve vsini PDF to get v CDF #"
   ]
  },
  {
   "cell_type": "code",
   "execution_count": 102,
   "metadata": {
    "collapsed": false,
    "deletable": true,
    "editable": true
   },
   "outputs": [
    {
     "data": {
      "image/png": "[encoded data removed]",
      "text/plain": [
       "<matplotlib.figure.Figure at 0x7f12caa7af50>"
      ]
     },
     "metadata": {},
     "output_type": "display_data"
    },
    {
     "name": "stdout",
     "output_type": "stream",
     "text": [
      "0.99728148544\n"
     ]
    }
   ],
   "source": [
    "# do deconvolution according to https://www.aanda.org/articles/aa/pdf/2014/05/aa23344-13.pdf\n",
    "\n",
    "\n",
    "\n",
    "def integrand(y,x):\n",
    "    #print x\n",
    "    return (x/np.sqrt(y**2 - x**2) + np.arccos(x/y))*Pdf_vsini(y)\n",
    "\n",
    "\n",
    "def I(x):\n",
    "    i=integrate.quad( integrand, x, x_vals.max()+1, args=(x,)) # integration limit must be larger than max x value to avoid sqrt errors\n",
    "    return i\n",
    "#integrate.quad_explain()\n",
    "\n",
    "\n",
    "# calculate cdf of v \n",
    "v_vals=np.linspace(0, 1.0*x_vals.max(), 200)\n",
    "Cdf_v=[]\n",
    "for x in v_vals:\n",
    "    F=1- (2*I(x)[0]/np.pi)\n",
    "    Cdf_v.append( F)\n",
    "        \n",
    "plt.plot(v_vals, Cdf_v, 'g.', markersize=1)\n",
    "plt.axhline(1, color='r', linestyle='--')\n",
    "plt.show()\n",
    "\n",
    "print Cdf_v[-1]"
   ]
  },
  {
   "cell_type": "markdown",
   "metadata": {
    "collapsed": false,
    "deletable": true,
    "editable": true
   },
   "source": [
    "# fit polynomial to v CDF #"
   ]
  },
  {
   "cell_type": "code",
   "execution_count": 111,
   "metadata": {
    "collapsed": false,
    "deletable": true,
    "editable": true
   },
   "outputs": [
    {
     "name": "stdout",
     "output_type": "stream",
     "text": [
      "fitted polynomial coefficients ; \n",
      "[ 8.94048891e-14 -9.91881111e-11  2.10848209e-08  3.06737689e-06\n",
      "  1.97045479e-03 -6.35210029e-04]\n"
     ]
    },
    {
     "data": {
      "image/png": "[encoded data removed]",
      "text/plain": [
       "<matplotlib.figure.Figure at 0x7f12ca711dd0>"
      ]
     },
     "metadata": {},
     "output_type": "display_data"
    }
   ],
   "source": [
    "# fit polynomial to v cdf \n",
    "\n",
    "#4th order polynomial fit to cum data\n",
    "p4_v=np.poly1d(np.polyfit(v_vals, Cdf_v, 5))\n",
    "\n",
    "\n",
    "print \"fitted polynomial coefficients ; \\n\" , p4_v.c\n",
    "\n",
    "plt.plot(np.linspace(0,395,100), p4_v(np.linspace(0,395,100)))\n",
    "plt.plot(v_vals, Cdf_v, 'k.', markersize=2)\n",
    "plt.axhline(1, color='r', linestyle='--')\n",
    "\n",
    "\n",
    "#plt.ylim(0,1.05)\n",
    "plt.ylabel('cum frac')\n",
    "plt.xlabel('Vsini')\n",
    "#plt.xlim(350,400)\n",
    "plt.ylim(0.99,1.02)\n",
    "plt.show()"
   ]
  },
  {
   "cell_type": "code",
   "execution_count": 90,
   "metadata": {
    "collapsed": false
   },
   "outputs": [
    {
     "data": {
      "image/png": "[encoded data removed]",
      "text/plain": [
       "<matplotlib.figure.Figure at 0x7f12ca476d10>"
      ]
     },
     "metadata": {},
     "output_type": "display_data"
    },
    {
     "name": "stdout",
     "output_type": "stream",
     "text": [
      "0.9983225309214042\n"
     ]
    }
   ],
   "source": [
    "v_cdf= np.gradient( Cdf_v, v_vals)\n",
    "\n",
    "plt.plot(v_vals, v_cdf)\n",
    "plt.axhline(0, color='r', linestyle='--')\n",
    "plt.show()\n",
    "\n",
    "print  integrate.cumtrapz(v_cdf, v_vals, initial=0)[-1]"
   ]
  },
  {
   "cell_type": "code",
   "execution_count": null,
   "metadata": {
    "collapsed": true
   },
   "outputs": [],
   "source": []
  },
  {
   "cell_type": "code",
   "execution_count": null,
   "metadata": {
    "collapsed": true
   },
   "outputs": [],
   "source": []
  },
  {
   "cell_type": "markdown",
   "metadata": {
    "deletable": true,
    "editable": true
   },
   "source": [
    "# differentiate v CDF to get v PDF # "
   ]
  },
  {
   "cell_type": "code",
   "execution_count": 84,
   "metadata": {
    "collapsed": false,
    "deletable": true,
    "editable": true
   },
   "outputs": [
    {
     "data": {
      "image/png": "[encoded data removed]",
      "text/plain": [
       "<matplotlib.figure.Figure at 0x7f12cae14990>"
      ]
     },
     "metadata": {},
     "output_type": "display_data"
    },
    {
     "name": "stdout",
     "output_type": "stream",
     "text": [
      "           3             2\n",
      "1.561e-10 x - 1.266e-07 x + 1.781e-05 x + 0.003198\n",
      "integral over whole v distribution =  0.996945453119\n",
      "integral over whole vsini distribution =  1.00088980567\n"
     ]
    }
   ],
   "source": [
    "# differentiate polynomial to get pdf \n",
    "Pdf_v = np.polyder(p4_v)\n",
    "\n",
    "#plot v pdf and compare with vsini pdf \n",
    "plt.plot(x_vals, Pdf_vsini(x_vals)/1e-3, label='vsini')\n",
    "plt.plot(np.linspace(0,400,100), Pdf_v(np.linspace(0,400,100))/1e-3 , label='v')\n",
    "\n",
    "\n",
    "plt.title(\"probability density function of vsini and v \")\n",
    "plt.ylabel('prob. density/1e-3')\n",
    "plt.xlabel('v')\n",
    "plt.legend()\n",
    "plt.axhline(0, color='r', linestyle='--')\n",
    "plt.show()\n",
    "\n",
    "print Pdf_vsini\n",
    "\n",
    "\n",
    "# check integral over pdf equals unity\n",
    "\n",
    "print \"integral over whole v distribution = \",integrate.quad( Pdf_v, 0, x_vals.max())[0]\n",
    "print \"integral over whole vsini distribution = \",integrate.quad( Pdf_vsini, 0, x_vals.max())[0]"
   ]
  },
  {
   "cell_type": "markdown",
   "metadata": {
    "deletable": true,
    "editable": true
   },
   "source": [
    "# export v and vsini distributions # \n"
   ]
  },
  {
   "cell_type": "code",
   "execution_count": 89,
   "metadata": {
    "collapsed": false,
    "deletable": true,
    "editable": true
   },
   "outputs": [],
   "source": [
    "\n",
    "v_dist=pd.DataFrame({'v':v_vals, 'pdf':np.gradient( Cdf_v, v_vals) })\n",
    "\n",
    "vsini_dist=pd.DataFrame({'vsini':x_vals, 'pdf':Pdf_vsini(x_vals) })\n",
    "\n",
    "v_dist.to_pickle('./v_dist.pk')#, protocol=2)\n",
    "\n",
    "vsini_dist.to_pickle('./vsini_dist.pk')#, protocol=2)\n"
   ]
  },
  {
   "cell_type": "markdown",
   "metadata": {
    "deletable": true,
    "editable": true
   },
   "source": [
    "# TESTINGS #"
   ]
  },
  {
   "cell_type": "code",
   "execution_count": 113,
   "metadata": {
    "collapsed": false,
    "deletable": true,
    "editable": true
   },
   "outputs": [],
   "source": [
    "def polyfit_with_fixed_points(n, x, y, xf, yf) :\n",
    "    \"\"\"n= order of polynomial\n",
    "        x=x values to be fitted \n",
    "        y= y values to be fitted\n",
    "        x= fixed x points\n",
    "        y=fixed y points\"\"\"\n",
    "    mat = np.empty((n + 1 + len(xf),) * 2)\n",
    "    vec = np.empty((n + 1 + len(xf),))\n",
    "    x_n = x**np.arange(2 * n + 1)[:, None]\n",
    "    yx_n = np.sum(x_n[:n + 1] * y, axis=1)\n",
    "    x_n = np.sum(x_n, axis=1)\n",
    "    idx = np.arange(n + 1) + np.arange(n + 1)[:, None]\n",
    "    mat[:n + 1, :n + 1] = np.take(x_n, idx)\n",
    "    xf_n = xf**np.arange(n + 1)[:, None]\n",
    "    mat[:n + 1, n + 1:] = xf_n / 2\n",
    "    mat[n + 1:, :n + 1] = xf_n.T\n",
    "    mat[n + 1:, n + 1:] = 0\n",
    "    vec[:n + 1] = yx_n\n",
    "    vec[n + 1:] = yf\n",
    "    params = np.linalg.solve(mat, vec)\n",
    "    return params[:n + 1]"
   ]
  },
  {
   "cell_type": "code",
   "execution_count": 154,
   "metadata": {
    "collapsed": false,
    "deletable": true,
    "editable": true
   },
   "outputs": [
    {
     "name": "stdout",
     "output_type": "stream",
     "text": [
      "<type 'numpy.ndarray'>\n",
      "<type 'numpy.ndarray'>\n",
      "[0.37717158 0.38969756 0.80912947]\n",
      "[4.18137352 3.12012349 0.46551582]\n"
     ]
    },
    {
     "data": {
      "image/png": "[encoded data removed]",
      "text/plain": [
       "<matplotlib.figure.Figure at 0x7f12ca8013d0>"
      ]
     },
     "metadata": {},
     "output_type": "display_data"
    },
    {
     "name": "stdout",
     "output_type": "stream",
     "text": [
      "0.9999999999999999\n"
     ]
    }
   ],
   "source": [
    "\n",
    "\n",
    "\n",
    "n, d, f = 50, 8, 3\n",
    "x = np.random.rand(n)\n",
    "xf = np.random.rand(f)\n",
    "poly = np.polynomial.Polynomial(np.random.rand(d + 1))\n",
    "y = poly(x) + np.random.rand(n) - 0.5\n",
    "yf = np.random.uniform(np.min(y), np.max(y), size=(f,))\n",
    "params = polyfit_with_fixed_points(d, x , y, xf, yf)\n",
    "poly = np.polynomial.Polynomial(params)\n",
    "xx = np.linspace(0, 1, 1000)\n",
    "print type(x)\n",
    "print type(np.array(q))\n",
    "print xf\n",
    "print yf\n",
    "\n",
    "#plt.plot(x, y, 'bo')\n",
    "#plt.plot(xf, yf, 'ro')\n",
    "#plt.plot(xx, poly(xx), '-')\n",
    "#plt.show()\n",
    "\n",
    "xf=[0,df['vsini'].max()]\n",
    "yf=[0,1]\n",
    "\n",
    "\n",
    "\n",
    "r=polyfit_with_fixed_points(4, np.array(df['vsini']), np.array(q) , xf, yf)\n",
    "poly = np.polynomial.Polynomial(r)\n",
    "\n",
    "xx = np.linspace(0, df['vsini'].max(), 100)\n",
    "plt.plot(xx, poly(xx), '-')\n",
    "plt.plot(xf, yf, 'ro')\n",
    "plt.show()\n",
    "\n",
    "print poly(df['vsini'].max())"
   ]
  },
  {
   "cell_type": "code",
   "execution_count": 150,
   "metadata": {
    "collapsed": false
   },
   "outputs": [
    {
     "data": {
      "image/png": "[encoded data removed]",
      "text/plain": [
       "<matplotlib.figure.Figure at 0x7f12cb004b90>"
      ]
     },
     "metadata": {},
     "output_type": "display_data"
    },
    {
     "data": {
      "image/png": "[encoded data removed]",
      "text/plain": [
       "<matplotlib.figure.Figure at 0x7f12ca5f7ad0>"
      ]
     },
     "metadata": {},
     "output_type": "display_data"
    }
   ],
   "source": [
    "%matplotlib inline\n",
    "p_tail=np.poly1d(1)\n",
    "tail_vals= np.linspace(xx[-1], 600, 100)\n",
    "#plt.plot(tail_vals, p_tail(tail_vals))\n",
    "\n",
    "#plt.plot(xx, poly(xx), '-')\n",
    "\n",
    "\n",
    "#plt.show()\n",
    "\n",
    "vsini_cdf= np.append(poly(xx), p_tail(tail_vals))\n",
    "vsini_vals= np.append((xx), (tail_vals))\n",
    "\n",
    "plt.plot(vsini_vals, vsini_cdf)\n",
    "plt.title('vsini cdf')\n",
    "plt.show()\n",
    "\n",
    "vsini_pdf= np.gradient(vsini_cdf, vsini_vals)\n",
    "plt.plot(vsini_vals, vsini_pdf)\n",
    "plt.show()\n"
   ]
  },
  {
   "cell_type": "code",
   "execution_count": 140,
   "metadata": {
    "collapsed": false,
    "deletable": true,
    "editable": true
   },
   "outputs": [
    {
     "data": {
      "image/png": "[encoded data removed]",
      "text/plain": [
       "<matplotlib.figure.Figure at 0x7fb933406290>"
      ]
     },
     "metadata": {},
     "output_type": "display_data"
    }
   ],
   "source": [
    "# do deconvolution according to https://www.aanda.org/articles/aa/pdf/2014/05/aa23344-13.pdf\n",
    "\n",
    "%matplotlib inline\n",
    "\n",
    "\n",
    "def integrand(y,x):\n",
    "    #print x\n",
    "    return (x/np.sqrt(y**2 - x**2) + np.arccos(x/y))*Pdf_vsini(y)\n",
    "\n",
    "\n",
    "def I(x):\n",
    "    i=integrate.quad( integrand, x, 390.0, args=(x,))\n",
    "    return i\n",
    "#integrate.quad_explain()\n",
    "\n",
    "\n",
    "# calculate cdf of v \n",
    "Cdf_v=[]\n",
    "for x in x_vals:\n",
    "    F=1- (2*I(x)[0]/np.pi)\n",
    "    Cdf_v.append( F)\n",
    "        \n",
    "plt.plot(x_vals, Cdf_v, 'g.', markersize=1)\n",
    "plt.show()\n",
    "\n",
    "\n"
   ]
  },
  {
   "cell_type": "code",
   "execution_count": 133,
   "metadata": {
    "collapsed": false,
    "deletable": true,
    "editable": true
   },
   "outputs": [
    {
     "name": "stdout",
     "output_type": "stream",
     "text": [
      "F(0)=  1.57226347042\n",
      "1.57079632679\n"
     ]
    }
   ],
   "source": [
    "print \"F(0)= \", I(0)[0]\n",
    "print 0.5*np.pi"
   ]
  },
  {
   "cell_type": "code",
   "execution_count": 141,
   "metadata": {
    "collapsed": false,
    "deletable": true,
    "editable": true
   },
   "outputs": [
    {
     "name": "stdout",
     "output_type": "stream",
     "text": [
      "fitted polynomial coefficients ; \n",
      "[ -9.79964819e-12  -1.11431030e-08   8.01078812e-06   1.68827271e-03\n",
      "   2.95270898e-03]\n"
     ]
    },
    {
     "data": {
      "image/png": "[encoded data removed]",
      "text/plain": [
       "<matplotlib.figure.Figure at 0x7fb9331db950>"
      ]
     },
     "metadata": {},
     "output_type": "display_data"
    }
   ],
   "source": [
    "# fit polynomial to v cdf \n",
    "\n",
    "#4th order polynomial fit to cum data\n",
    "p4_v=np.poly1d(np.polyfit(x_vals, Cdf_v, 4))\n",
    "\n",
    "\n",
    "print \"fitted polynomial coefficients ; \\n\" , p4_v.c\n",
    "\n",
    "plt.plot(x_vals, p4_v(x_vals))\n",
    "plt.axhline(1, color='r', linestyle='--')\n",
    "\n",
    "\n",
    "#plt.ylim(0,1.05)\n",
    "plt.ylabel('cum frac')\n",
    "plt.xlabel('Vsini')\n",
    "plt.show()"
   ]
  },
  {
   "cell_type": "code",
   "execution_count": 142,
   "metadata": {
    "collapsed": false,
    "deletable": true,
    "editable": true
   },
   "outputs": [
    {
     "name": "stdout",
     "output_type": "stream",
     "text": [
      "{0: 0.0016882727146357926, 1: 1.6021576232680473e-05, 2: -3.3429308875831273e-08, 3: -3.919859274644569e-11}\n"
     ]
    },
    {
     "data": {
      "image/png": "[encoded data removed]",
      "text/plain": [
       "<matplotlib.figure.Figure at 0x7fb9324e0a10>"
      ]
     },
     "metadata": {},
     "output_type": "display_data"
    },
    {
     "name": "stdout",
     "output_type": "stream",
     "text": [
      "           3             2\n",
      "1.653e-10 x - 1.317e-07 x + 1.852e-05 x + 0.003182\n",
      "{0: 0.0031815583489201958, 1: 1.8520859819835209e-05, 2: -1.3170737656592523e-07, 3: 1.6527152827299824e-10}\n",
      "integral over whole v distribution =  0.988619616174\n"
     ]
    }
   ],
   "source": [
    "# differentiate polynomial to get pdf \n",
    "\n",
    "polyn_v={} # dict with key being order of term, and key being multplicative coefficient\n",
    "for c, n in zip(p4_v.c, reversed(range(1,5))):\n",
    "    diffd= c*n \n",
    "    polyn_v[n-1]= diffd \n",
    "        \n",
    "print polyn_v\n",
    "\n",
    "\n",
    "# make numpy polynomial object\n",
    "Pdf_v= np.poly1d([polyn_v[3], polyn_v[2], polyn_v[1], polyn_v[0]])\n",
    "\n",
    "#plot pdf \n",
    "plt.plot(x_vals, Pdf_vsini(x_vals)/1e-3, label='vsini')\n",
    "plt.plot(x_vals, Pdf_v(x_vals)/1e-3 , label='v')\n",
    "\n",
    "\n",
    "plt.title(\"probability density function of vsini and v \")\n",
    "plt.ylabel('prob. density/1e-3')\n",
    "plt.xlabel('v')\n",
    "plt.legend()\n",
    "plt.show()\n",
    "\n",
    "print Pdf_vsini\n",
    "print polyn\n",
    "\n",
    "# check integral over pdf equals unity\n",
    "\n",
    "print \"integral over whole v distribution = \",integrate.quad( Pdf_v, 0, x_vals.max())[0]"
   ]
  },
  {
   "cell_type": "code",
   "execution_count": null,
   "metadata": {
    "collapsed": false,
    "deletable": true,
    "editable": true
   },
   "outputs": [],
   "source": []
  },
  {
   "cell_type": "code",
   "execution_count": 89,
   "metadata": {
    "collapsed": false,
    "deletable": true,
    "editable": true
   },
   "outputs": [
    {
     "data": {
      "text/plain": [
       "[<matplotlib.lines.Line2D at 0x7f0c089c0d90>]"
      ]
     },
     "execution_count": 89,
     "metadata": {},
     "output_type": "execute_result"
    },
    {
     "data": {
      "image/png": "[encoded data removed]",
      "text/plain": [
       "<matplotlib.figure.Figure at 0x7f0c08be2290>"
      ]
     },
     "metadata": {},
     "output_type": "display_data"
    }
   ],
   "source": []
  },
  {
   "cell_type": "code",
   "execution_count": 142,
   "metadata": {
    "collapsed": false,
    "deletable": true,
    "editable": true
   },
   "outputs": [
    {
     "name": "stdout",
     "output_type": "stream",
     "text": [
      "0.0130329074485\n"
     ]
    },
    {
     "data": {
      "image/png": "[encoded data removed]",
      "text/plain": [
       "<matplotlib.figure.Figure at 0x7f0c08841810>"
      ]
     },
     "metadata": {},
     "output_type": "display_data"
    }
   ],
   "source": [
    "import numpy as np\n",
    "import scipy.signal\n",
    "import matplotlib.pyplot as plt\n",
    "\n",
    "# let the signal be box-like\n",
    "signal = np.repeat([0., 1., 0.], 100)\n",
    "# and use a gaussian filter\n",
    "# the filter should be shorter than the signal\n",
    "# the filter should be such that it's much bigger then zero everywhere\n",
    "gauss = #np.exp(-( (np.linspace(0,50)-25.)/float(12))**2 )\n",
    "print gauss.min()  # = 0.013 >> 0\n",
    "\n",
    "# calculate the convolution (np.convolve and scipy.signal.convolve identical)\n",
    "# the keywordargument mode=\"same\" ensures that the convolution spans the same\n",
    "#   shape as the input array.\n",
    "filtered = scipy.signal.convolve(signal, gauss, mode='same') \n",
    "filtered =  np.convolve(signal, gauss, mode='same') \n",
    "\n",
    "\n",
    "deconv,  _ = scipy.signal.deconvolve( filtered, gauss )\n",
    "#the deconvolution has n = len(signal) - len(gauss) + 1 points\n",
    "n = len(signal)-len(gauss)+1\n",
    "# so we need to expand it by \n",
    "s = (len(signal)-n)/2\n",
    "#on both sides.\n",
    "deconv_res = np.zeros(len(signal))\n",
    "deconv_res[s:len(signal)-s-1] = deconv\n",
    "deconv = deconv_res\n",
    "# now deconv contains the deconvolution \n",
    "# expanded to the original shape (filled with zeros) \n",
    "\n",
    "\n",
    "#### Plot #### \n",
    "fig , ax = plt.subplots(nrows=4, figsize=(6,7))\n",
    "\n",
    "ax[0].plot(signal,            color=\"#907700\", label=\"original\",     lw=3 ) \n",
    "ax[1].plot(gauss,          color=\"#68934e\", label=\"gauss filter\", lw=3 )\n",
    "# we need to divide by the sum of the filter window to get the convolution normalized to 1\n",
    "ax[2].plot(filtered/np.sum(gauss), color=\"#325cab\", label=\"convoluted\" ,  lw=3 )\n",
    "ax[3].plot(deconv,         color=\"#ab4232\", label=\"deconvoluted\", lw=3 ) \n",
    "\n",
    "for i in range(len(ax)):\n",
    "    ax[i].set_xlim([0, len(signal)])\n",
    "    ax[i].set_ylim([0, max(signal)])\n",
    "    ax[i].legend(loc=1, fontsize=11)\n",
    "    if i != len(ax)-1 :\n",
    "        ax[i].set_xticklabels([])\n",
    "\n",
    "#plt.savefig(__file__ + \".png\")\n",
    "plt.show()    "
   ]
  },
  {
   "cell_type": "code",
   "execution_count": 112,
   "metadata": {
    "collapsed": false,
    "deletable": true,
    "editable": true
   },
   "outputs": [
    {
     "ename": "NameError",
     "evalue": "name 'filt' is not defined",
     "output_type": "error",
     "traceback": [
      "\u001b[0;31m---------------------------------------------------------------------------\u001b[0m",
      "\u001b[0;31mNameError\u001b[0m                                 Traceback (most recent call last)",
      "\u001b[0;32m<ipython-input-112-a613274b63c2>\u001b[0m in \u001b[0;36m<module>\u001b[0;34m()\u001b[0m\n\u001b[1;32m      1\u001b[0m \u001b[0;34m\u001b[0m\u001b[0m\n\u001b[1;32m      2\u001b[0m \u001b[0;34m\u001b[0m\u001b[0m\n\u001b[0;32m----> 3\u001b[0;31m \u001b[0mtail\u001b[0m\u001b[0;34m=\u001b[0m \u001b[0mnp\u001b[0m\u001b[0;34m.\u001b[0m\u001b[0mappend\u001b[0m\u001b[0;34m(\u001b[0m\u001b[0mnp\u001b[0m\u001b[0;34m.\u001b[0m\u001b[0mzeros\u001b[0m\u001b[0;34m(\u001b[0m\u001b[0;36m50\u001b[0m\u001b[0;34m)\u001b[0m\u001b[0;34m,\u001b[0m \u001b[0mfilt\u001b[0m\u001b[0;34m[\u001b[0m\u001b[0mnp\u001b[0m\u001b[0;34m.\u001b[0m\u001b[0misfinite\u001b[0m\u001b[0;34m(\u001b[0m\u001b[0mfilt\u001b[0m\u001b[0;34m)\u001b[0m\u001b[0;34m]\u001b[0m\u001b[0;34m.\u001b[0m\u001b[0mmax\u001b[0m\u001b[0;34m(\u001b[0m\u001b[0;34m)\u001b[0m\u001b[0;34m)\u001b[0m\u001b[0;34m\u001b[0m\u001b[0m\n\u001b[0m\u001b[1;32m      4\u001b[0m \u001b[0mtail0\u001b[0m\u001b[0;34m=\u001b[0m \u001b[0mnp\u001b[0m\u001b[0;34m.\u001b[0m\u001b[0mappend\u001b[0m\u001b[0;34m(\u001b[0m \u001b[0mfilt\u001b[0m\u001b[0;34m[\u001b[0m\u001b[0mnp\u001b[0m\u001b[0;34m.\u001b[0m\u001b[0misfinite\u001b[0m\u001b[0;34m(\u001b[0m\u001b[0mfilt\u001b[0m\u001b[0;34m)\u001b[0m\u001b[0;34m]\u001b[0m\u001b[0;34m.\u001b[0m\u001b[0mmax\u001b[0m\u001b[0;34m(\u001b[0m\u001b[0;34m)\u001b[0m \u001b[0;34m,\u001b[0m\u001b[0mnp\u001b[0m\u001b[0;34m.\u001b[0m\u001b[0mzeros\u001b[0m\u001b[0;34m(\u001b[0m\u001b[0;36m50\u001b[0m\u001b[0;34m)\u001b[0m\u001b[0;34m)\u001b[0m\u001b[0;34m\u001b[0m\u001b[0m\n\u001b[1;32m      5\u001b[0m \u001b[0;34m\u001b[0m\u001b[0m\n",
      "\u001b[0;31mNameError\u001b[0m: name 'filt' is not defined"
     ]
    }
   ],
   "source": [
    "\n",
    "\n",
    "tail= np.append(np.zeros(50), filt[np.isfinite(filt)].max())\n",
    "tail0= np.append( filt[np.isfinite(filt)].max() ,np.zeros(50))\n",
    "\n",
    "\n",
    "kernel = np.concatenate((tail , filt), axis=0)\n",
    "kernel = np.concatenate((kernel, tail0), axis=0)\n",
    "\n",
    "plt.plot(kernel, label='sini')\n",
    "plt.show()"
   ]
  },
  {
   "cell_type": "code",
   "execution_count": 160,
   "metadata": {
    "collapsed": false,
    "deletable": true,
    "editable": true
   },
   "outputs": [
    {
     "name": "stdout",
     "output_type": "stream",
     "text": [
      "<type 'numpy.ndarray'> <type 'numpy.ndarray'>\n"
     ]
    },
    {
     "data": {
      "image/png": "[encoded data removed]",
      "text/plain": [
       "<matplotlib.figure.Figure at 0x7f0c0a8a8650>"
      ]
     },
     "metadata": {},
     "output_type": "display_data"
    },
    {
     "name": "stdout",
     "output_type": "stream",
     "text": [
      "[ 1.  1.  1.  2.  3.  4.]\n",
      "[        inf  1.59163063  1.13123924  0.9284512   0.80828315  0.72678574\n",
      "  0.66701903  0.62088675  0.58396879  0.55362133  0.5281537   0.50642793\n",
      "  0.48764646  0.47123162  0.45675346  0.44388458  0.43237073  0.42201116\n",
      "  0.41264498  0.40414158  0.39639374  0.38931253  0.38282353  0.37686396\n",
      "  0.37138048  0.36632745  0.36166562  0.35736103  0.35338421  0.3497094\n",
      "  0.34631408  0.34317846  0.3402851   0.33761862  0.33516541  0.33291343\n",
      "  0.33085203  0.32897176  0.32726428  0.32572223  0.32433911  0.32310926\n",
      "  0.32202772  0.32109023  0.32029314  0.31963343  0.31910858  0.31871663\n",
      "  0.31845613  0.31832613  0.31832613  0.31845613  0.31871663  0.31910858\n",
      "  0.31963343  0.32029314  0.32109023  0.32202772  0.32310926  0.32433911\n",
      "  0.32572223  0.32726428  0.32897176  0.33085203  0.33291343  0.33516541\n",
      "  0.33761862  0.3402851   0.34317846  0.34631408  0.3497094   0.35338421\n",
      "  0.35736103  0.36166562  0.36632745  0.37138048  0.37686396  0.38282353\n",
      "  0.38931253  0.39639374  0.40414158  0.41264498  0.42201116  0.43237073\n",
      "  0.44388458  0.45675346  0.47123162  0.48764646  0.50642793  0.5281537\n",
      "  0.55362133  0.58396879  0.62088675  0.66701903  0.72678574  0.80828315\n",
      "  0.9284512   1.13123924  1.59163063         inf]\n"
     ]
    },
    {
     "data": {
      "image/png": "[encoded data removed]",
      "text/plain": [
       "<matplotlib.figure.Figure at 0x7f0c08b55e10>"
      ]
     },
     "metadata": {},
     "output_type": "display_data"
    },
    {
     "data": {
      "image/png": "[encoded data removed]",
      "text/plain": [
       "<matplotlib.figure.Figure at 0x7f0c083e8350>"
      ]
     },
     "metadata": {},
     "output_type": "display_data"
    },
    {
     "name": "stdout",
     "output_type": "stream",
     "text": [
      "nan\n"
     ]
    }
   ],
   "source": []
  },
  {
   "cell_type": "code",
   "execution_count": 6,
   "metadata": {
    "collapsed": false,
    "deletable": true,
    "editable": true
   },
   "outputs": [
    {
     "name": "stdout",
     "output_type": "stream",
     "text": [
      "\r",
      "0\r",
      "1\r",
      "2\r",
      "3\r",
      "4\r",
      "5\r",
      "6\r",
      "7\r",
      "8\r",
      "9"
     ]
    }
   ],
   "source": [
    "import sys\n",
    "sys.stdout.flush()\n",
    "\n",
    "\n",
    "for i in range(0,10):\n",
    "    sys.stdout.write ('\\r'+str(i))"
   ]
  },
  {
   "cell_type": "code",
   "execution_count": 14,
   "metadata": {
    "collapsed": false,
    "deletable": true,
    "editable": true
   },
   "outputs": [
    {
     "name": "stdout",
     "output_type": "stream",
     "text": [
      "0 1 2 3 4\n"
     ]
    }
   ],
   "source": [
    "import time\n",
    "import sys\n",
    "\n",
    "for i in range(5):\n",
    "    print i,\n",
    "    #sys.stdout.flush()\n",
    "    time.sleep(1)"
   ]
  },
  {
   "cell_type": "code",
   "execution_count": 27,
   "metadata": {
    "collapsed": false,
    "deletable": true,
    "editable": true
   },
   "outputs": [
    {
     "name": "stdout",
     "output_type": "stream",
     "text": [
      "1 2 3 4\n"
     ]
    }
   ],
   "source": [
    "count=1\n",
    "import numpy as np\n",
    "import time , sys\n",
    "start_time = time.time()\n",
    "import warnings\n",
    "warnings.filterwarnings('ignore')\n",
    "\n",
    "import os\n",
    "beep = lambda x: os.system(\"echo -n '\\a';sleep 0.2;\" * x)\n",
    "beep(5)\n",
    "#loop over time values (units in yr)\n",
    "#takes ~30s for 10 loops\n",
    "for t_val in np.linspace(0,100e6, 4): \n",
    "    \n",
    "    #message=  \"working on loop \"+ str(count) + \" /100\"\n",
    "    #sys.stdout.write ('\\r'+ message)\n",
    "    print count,\n",
    "    #sys.stdout.flush()\n",
    "    count+=1\n",
    "    "
   ]
  },
  {
   "cell_type": "code",
   "execution_count": null,
   "metadata": {
    "collapsed": true,
    "deletable": true,
    "editable": true
   },
   "outputs": [],
   "source": []
  }
 ],
 "metadata": {
  "kernelspec": {
   "display_name": "Python 2",
   "language": "python",
   "name": "python2"
  },
  "language_info": {
   "codemirror_mode": {
    "name": "ipython",
    "version": 2
   },
   "file_extension": ".py",
   "mimetype": "text/x-python",
   "name": "python",
   "nbconvert_exporter": "python",
   "pygments_lexer": "ipython2",
   "version": "2.7.14"
  }
 },
 "nbformat": 4,
 "nbformat_minor": 0
}
