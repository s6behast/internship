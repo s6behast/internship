{
 "cells": [
  {
   "cell_type": "code",
   "execution_count": 1,
   "metadata": {
    "collapsed": false,
    "deletable": true,
    "editable": true
   },
   "outputs": [],
   "source": [
    "import numpy as np\n",
    "import pandas as pd \n",
    "import matplotlib.pyplot as plt\n",
    "from pylab import rcParams\n",
    "rcParams['figure.figsize'] = 8, 6\n",
    "import glob\n",
    "import sys\n",
    "import pickle\n",
    "from scipy import interpolate ,optimize\n",
    "from scipy.interpolate import UnivariateSpline\n",
    "from tqdm import tqdm_notebook as tqdm#from tqdm import tqdm\n",
    "#look at fixing later \n",
    "import warnings\n",
    "warnings.filterwarnings('ignore')\n",
    "\n",
    "#import functions from file in path \n",
    "sys.path.insert(0, '/home/ben/Documents/Bonn-uni/internship/python_code/functions')\n",
    "#from functions2 import MS_finder2\n",
    "from data_loading import load_masses, load_models\n",
    "#sys.path.insert(0, '/home/ben/Documents/Bonn-uni/internship/python_code/Interpolation')\n",
    "from interpolation import M_V_T_interp, MVT_interp_setup, v_over_vcrit_interp\n",
    "\n",
    "data_dir='/home/ben/Documents/Bonn-uni/internship/takeaway_data/' #'/users/bhastings/internship/data/MW/' # #\n",
    "\n",
    "file_ext= '.dat2'"
   ]
  },
  {
   "cell_type": "code",
   "execution_count": 2,
   "metadata": {
    "collapsed": false,
    "deletable": true,
    "editable": true
   },
   "outputs": [
    {
     "ename": "NameError",
     "evalue": "name 'a' is not defined",
     "output_type": "error",
     "traceback": [
      "\u001b[0;31m---------------------------------------------------------------------------\u001b[0m",
      "\u001b[0;31mNameError\u001b[0m                                 Traceback (most recent call last)",
      "\u001b[0;32m<ipython-input-2-0fc8f04f85e3>\u001b[0m in \u001b[0;36m<module>\u001b[0;34m()\u001b[0m\n\u001b[1;32m      1\u001b[0m \u001b[0;31m#a=pickle.load(open('crit_rot_dataM3-25.pk', 'rb'))\u001b[0m\u001b[0;34m\u001b[0m\u001b[0;34m\u001b[0m\u001b[0m\n\u001b[0;32m----> 2\u001b[0;31m \u001b[0;32mprint\u001b[0m \u001b[0mnp\u001b[0m\u001b[0;34m.\u001b[0m\u001b[0munique\u001b[0m\u001b[0;34m(\u001b[0m\u001b[0ma\u001b[0m\u001b[0;34m.\u001b[0m\u001b[0mkeys\u001b[0m\u001b[0;34m(\u001b[0m\u001b[0;34m)\u001b[0m\u001b[0;34m)\u001b[0m\u001b[0;34m\u001b[0m\u001b[0m\n\u001b[0m\u001b[1;32m      3\u001b[0m \u001b[0;31m#print a[12.0]\u001b[0m\u001b[0;34m\u001b[0m\u001b[0;34m\u001b[0m\u001b[0m\n\u001b[1;32m      4\u001b[0m \u001b[0;34m\u001b[0m\u001b[0m\n\u001b[1;32m      5\u001b[0m \u001b[0;32mfor\u001b[0m \u001b[0mh\u001b[0m \u001b[0;32min\u001b[0m \u001b[0ma\u001b[0m\u001b[0;34m.\u001b[0m\u001b[0mkeys\u001b[0m\u001b[0;34m(\u001b[0m\u001b[0;34m)\u001b[0m\u001b[0;34m:\u001b[0m\u001b[0;34m\u001b[0m\u001b[0m\n",
      "\u001b[0;31mNameError\u001b[0m: name 'a' is not defined"
     ]
    }
   ],
   "source": [
    "#a=pickle.load(open('crit_rot_dataM3-25.pk', 'rb'))\n",
    "print np.unique(a.keys())\n",
    "#print a[12.0]\n",
    "\n",
    "for h in a.keys():\n",
    "    print h , a[h]"
   ]
  },
  {
   "cell_type": "code",
   "execution_count": null,
   "metadata": {
    "collapsed": false,
    "deletable": true,
    "editable": true
   },
   "outputs": [],
   "source": [
    "#a=pickle.load(open('crit_rot_dataM3-25.pk', 'rb'))\n",
    "\n",
    "for M in (a.keys())[1:]:\n",
    "    #print M\n",
    "\n",
    "    crit_rots_df= a[M]\n",
    "    \n",
    "    v_grid= np.unique(crit_rots_df['V_init'])\n",
    "    t_grid= np.unique(crit_rots_df['t'])\n",
    "    \n",
    "    for vi in np.unique(crit_rots_df['V_init']):\n",
    "        di=crit_rots_df[crit_rots_df['V_init'] == vi ]\n",
    "        x=di['t/T']\n",
    "        y=di['V_init']\n",
    "\n",
    "        ix=x.argmax()\n",
    "        im= x.argmin()\n",
    "\n",
    "        plt.plot(x, y, 'ks', markersize=3)\n",
    "        \n",
    "        \n",
    "    plt.title(str(M)+'---'+str(0.99))\n",
    "    plt.show()\n",
    "            \n",
    "            "
   ]
  },
  {
   "cell_type": "code",
   "execution_count": null,
   "metadata": {
    "collapsed": true,
    "deletable": true,
    "editable": true
   },
   "outputs": [],
   "source": []
  },
  {
   "cell_type": "code",
   "execution_count": null,
   "metadata": {
    "collapsed": false,
    "deletable": true,
    "editable": true
   },
   "outputs": [],
   "source": [
    "#v_crit_min_master=pickle.load(open('crit_rot_data2.pk', 'rb'))\n",
    "print v_crit_min_master.keys()\n",
    "\n",
    "\n",
    "for M in (np.flip(mass_list))[0:1]:#np.sort(v_crit_min_master[B].keys()):\n",
    "    plt.clf()\n",
    "    for B in np.sort(v_crit_min_master.keys()):\n",
    "        \n",
    "        if M in v_crit_min_master[B]:\n",
    "            crit_rots_df=v_crit_min_master[B][M]\n",
    "\n",
    "        else :\n",
    "            continue\n",
    "        #crit_rots_df= crit_rot_data[M]\n",
    "        #print len(np.unique(crit_rots_df['t/T']))\n",
    "        vcritmin_df=pd.DataFrame()\n",
    "        for vi in np.unique(crit_rots_df['V_init']):\n",
    "            di=crit_rots_df[crit_rots_df['V_init'] == vi ]\n",
    "            x=di['t']\n",
    "            y=di['V_init']\n",
    "\n",
    "            #ix=x.argmax()\n",
    "            #im= x.argmin()\n",
    "\n",
    "            plt.plot(x/1e6, y, 'ks', markersize=2)\n",
    "        \n",
    "            for ti in np.unique(di['t']):\n",
    "                plot_arr_df=plot_arr_df.append(pd.DataFrame([[ti,vi,1]], columns=['t','v','a']))\n",
    "       \n",
    "        plt.title(str(M) + str('$M_{\\odot}$') +' $V/V_{crit}$ > '+ str(B))\n",
    "        #plt.legend(loc='lower left')\n",
    "        plt.xlabel('t/Myr')\n",
    "        plt.ylabel('V/$kms^{-1}$')\n",
    "        plt.savefig(str(M)+'-'+str(B)+'.png', dpi=300)\n",
    "        #plt.show()"
   ]
  },
  {
   "cell_type": "code",
   "execution_count": null,
   "metadata": {
    "collapsed": false,
    "deletable": true,
    "editable": true
   },
   "outputs": [],
   "source": [
    "\n",
    "\n",
    "data_files, mass_list= load_masses(data_dir, 25)\n",
    "\n",
    "data_df=load_models(data_files)\n",
    "\n",
    "vmax_dict={}\n",
    "for m in mass_list:\n",
    "    di=data_df[data_df.M == m ]\n",
    "    vmax=np.unique(di['V']).max()\n",
    "    #print di['V_init'][di['V']== vmax].iloc[0], m\n",
    "    vmax_dict[m]=di['V_init'][di['V']== vmax].iloc[0]"
   ]
  },
  {
   "cell_type": "code",
   "execution_count": null,
   "metadata": {
    "collapsed": false,
    "deletable": true,
    "editable": true
   },
   "outputs": [],
   "source": [
    "B=0.9\n",
    "print str(int(100*B))"
   ]
  },
  {
   "cell_type": "markdown",
   "metadata": {
    "collapsed": false,
    "deletable": true,
    "editable": true
   },
   "source": [
    "# Interpolate V-M-T # "
   ]
  },
  {
   "cell_type": "code",
   "execution_count": null,
   "metadata": {
    "collapsed": false,
    "deletable": true,
    "editable": true
   },
   "outputs": [],
   "source": [
    "def MVT_interp_setup(data_df, mass_list):\n",
    "    df=data_df[data_df['1:t[s]']== 0]\n",
    "\n",
    "    v_T_interp={}\n",
    "    for m in mass_list: \n",
    "        x=np.array(df['V_init'][df.M==m])#[-20:]\n",
    "        y=np.array(df['M'][df.M==m])#[-20:]\n",
    "        z=np.array(df['T_MS'][df.M==m])#[-20:]\n",
    "\n",
    "        func=interpolate.interp1d(x,z,bounds_error=False, assume_sorted=True)\n",
    "        v_T_interp[m]=func\n",
    "    return v_T_interp, mass_list\n",
    "\n",
    "def M_V_T_interp(M, V, v_T_interp_obj):\n",
    "    v_T_interp=v_T_interp_obj[0]\n",
    "    mass_list= v_T_interp_obj[1]\n",
    "    x= mass_list\n",
    "    y=map((lambda u: v_T_interp[u](V)),x)#v_T_interp[m](v)\n",
    "\n",
    "    func2=interpolate.interp1d(x,y,bounds_error=False, assume_sorted=True)\n",
    "\n",
    "    return func2(M)\n",
    "\n",
    "v_T_interp= MVT_interp_setup(data_df, mass_list)\n",
    "print M_V_T_interp(4,450, v_T_interp)"
   ]
  },
  {
   "cell_type": "code",
   "execution_count": null,
   "metadata": {
    "collapsed": false,
    "deletable": true,
    "editable": true
   },
   "outputs": [],
   "source": [
    "df=data_df[data_df['1:t[s]']== 0]\n",
    "\n",
    "v_T_interp={}\n",
    "for m in mass_list: \n",
    "    x=np.array(df['V_init'][df.M==m])#[-20:]\n",
    "    y=np.array(df['M'][df.M==m])#[-20:]\n",
    "    z=np.array(df['T_MS'][df.M==m])#[-20:]\n",
    "    \n",
    "    func=interpolate.interp1d(x,z,bounds_error=False, assume_sorted=True)\n",
    "    v_T_interp[m]=func\n",
    "    \n",
    "def M_V_T_interp(M, V):\n",
    "    x= mass_list\n",
    "    y=map((lambda u: v_T_interp[u](V)),x)#v_T_interp[m](v)\n",
    "    \n",
    "    func=interpolate.interp1d(x,y,bounds_error=False, assume_sorted=True)\n",
    "    \n",
    "    return func(M)\n",
    "   \n"
   ]
  },
  {
   "cell_type": "code",
   "execution_count": null,
   "metadata": {
    "collapsed": false,
    "deletable": true,
    "editable": true
   },
   "outputs": [],
   "source": [
    "t=0\n",
    "m_i=15\n",
    "Be_value=0.7\n",
    "\n",
    "    \n",
    "plot_df=pd.DataFrame()\n",
    "for Be_value in (0.6,0.7,0.8,0.9,0.99):\n",
    "    plot_arr=np.array([])\n",
    "    for m_i in [15]:#mass_list:\n",
    "        sys.stdout.write ('\\r'+ str(Be_value)+'--'+str(m_i))\n",
    "        dm=data_df[data_df.M ==m_i]\n",
    "        #v_crit_min_arr=np.array([[]])\n",
    "\n",
    "        #for t in np.linspace(0,100, 100): # times in Myr \n",
    "        #    t=t*1e6\n",
    "        dg=pd.DataFrame()\n",
    "        for vi in np.unique(dm['V_init'])[1:]:\n",
    "            di= dm[(dm['V_init']==vi) & (dm['t/Tms']<0.99)  ]\n",
    "            ti=((di['V/Vcrit']-(Be_value)).abs()).argmin()\n",
    "            \n",
    "            if di['V/Vcrit'].iloc[ti]> 0.99*Be_value:\n",
    "                dn= di.iloc[ti]\n",
    "                dg=dg.append(dn)\n",
    "\n",
    "            \n",
    "        plt.plot(dg['1:t[s]']/1e6, dg['V_init'], 'ko')\n",
    "        plt.show()\n",
    "        straight_line1=interpolate.interp1d(dg['V_init'], dg['V/Vcrit'],\n",
    "                                                   bounds_error=False, assume_sorted=True)\n",
    "      \n",
    "\n",
    "#print plot_df.to_string()\n",
    "print 'DONE'\n",
    "#plot_df.to_pickle('./plot_df.pk')"
   ]
  },
  {
   "cell_type": "code",
   "execution_count": null,
   "metadata": {
    "collapsed": false,
    "deletable": true,
    "editable": true
   },
   "outputs": [],
   "source": [
    "print len(np.arange(0,0.99,0.002))\n",
    "print np.linspace(0,0.99,496)"
   ]
  },
  {
   "cell_type": "code",
   "execution_count": null,
   "metadata": {
    "collapsed": false,
    "deletable": true,
    "editable": true
   },
   "outputs": [],
   "source": [
    "def v_over_vcrit_interp2(m_i, vfrac, v_T_interp_obj, plot):\n",
    "    '''takes a m_i on the grid and a fraction of critical velocity v_init not on the grid and produces by \n",
    "    interpolation the v/vcrit against t or t/T curve'''\n",
    "    v_T_interp=v_T_interp_obj[0]\n",
    "    mass_list= v_T_interp_obj[1]\n",
    "    plot_df=pd.DataFrame()\n",
    "    dm=data_df[data_df.M ==m_i]\n",
    "   \n",
    "\n",
    "    for t_frac in np.linspace(0,0.99, 9):\n",
    "        dg=pd.DataFrame()\n",
    "        for vi in np.unique(dm['V/Vc_initial'])[1:]:\n",
    "            di= dm[(dm['V/Vc_initial']==vi)  ]\n",
    "            ti=((di['t/Tms']-(t_frac)).abs()).argmin()\n",
    "            dn= di.iloc[ti]\n",
    "            dg=dg.append(dn)\n",
    "\n",
    "            \n",
    "                #straight_line1=interpolate.interp1d( dg['V/Vcrit'],dg['V_init'],\n",
    "                #                                       bounds_error=False, assume_sorted=True)\n",
    "        straight_line1=interpolate.interp1d(dg['V/Vc_initial'], dg['V/Vcrit'],\n",
    "                                                       bounds_error=True, assume_sorted=True)\n",
    "\n",
    "        plt.plot(dg['V/Vc_initial'], dg['V/Vcrit'], 'o')\n",
    "        plt.plot(vfrac,straight_line1(vfrac), 'ro' )\n",
    "        plt.show()\n",
    "        v_over_vcrit=straight_line1(vfrac)\n",
    "        \n",
    "        \n",
    "\n",
    "        plot_df=plot_df.append(pd.DataFrame([[m_i,vfrac,t_frac,v_over_vcrit]], \n",
    "                                               columns=['M','Vfrac_init', 't/T', 'V/Vcrit']))\n",
    "\n",
    "        \n",
    "    plot_df.reset_index(drop=True, inplace=True)\n",
    "    \n",
    "    \n",
    "    #interpolate MS lifetime of star \n",
    "    #T= M_V_T_interp(m_i, v_init, v_T_interp_obj)\n",
    "    \n",
    "    # insert real time into dataframe \n",
    "    #plot_df['t']= plot_df['t/T']* T\n",
    "    \n",
    "    #plot=False\n",
    "    if plot== True:\n",
    "        plt.plot( plot_df['t/T'],plot_df['V/Vcrit'], 'r-')\n",
    "        plt.title(str(vfrac)+'   '+str(m_i))\n",
    "        plt.xlabel('t/T')\n",
    "        plt.ylabel('V/Vcrit')\n",
    "        plt.show()\n",
    "\n",
    "    return plot_df\n",
    "\n",
    "s=v_over_vcrit_interp2(20, 0.15, v_T_interp, True)"
   ]
  },
  {
   "cell_type": "code",
   "execution_count": null,
   "metadata": {
    "collapsed": false,
    "deletable": true,
    "editable": true
   },
   "outputs": [],
   "source": [
    "\n",
    "def v_over_vcrit_interp(m_i, v_init, v_T_interp_obj, plot):\n",
    "    '''takes a m_i on the grid and a velocity v_init not on the grid and produces by \n",
    "    interpolation the v/vcrit against t or t/T curve'''\n",
    "    v_T_interp=v_T_interp_obj[0]\n",
    "    mass_list= v_T_interp_obj[1]\n",
    "    plot_df=pd.DataFrame()\n",
    "    dm=data_df[data_df.M ==m_i]\n",
    "   \n",
    "\n",
    "    for t_frac in np.linspace(0,0.99, 99):\n",
    "        dg=pd.DataFrame()\n",
    "        for vi in np.unique(dm['V_init'])[1:]:\n",
    "            di= dm[(dm['V_init']==vi)  ]\n",
    "            ti=((di['t/Tms']-(t_frac)).abs()).argmin()\n",
    "            dn= di.iloc[ti]\n",
    "            dg=dg.append(dn)\n",
    "\n",
    "            \n",
    "                #straight_line1=interpolate.interp1d( dg['V/Vcrit'],dg['V_init'],\n",
    "                #                                       bounds_error=False, assume_sorted=True)\n",
    "        straight_line1=interpolate.interp1d(dg['V_init'], dg['V/Vcrit'],\n",
    "                                                       bounds_error=False, assume_sorted=True)\n",
    "\n",
    "        v_over_vcrit=straight_line1(v_init)\n",
    "        \n",
    "        \n",
    "\n",
    "        plot_df=plot_df.append(pd.DataFrame([[m_i,v_init,t_frac,v_over_vcrit]], \n",
    "                                               columns=['M','V_init', 't/T', 'V/Vcrit']))\n",
    "\n",
    "        \n",
    "    plot_df.reset_index(drop=True, inplace=True)\n",
    "    \n",
    "    \n",
    "    #interpolate MS lifetime of star \n",
    "    T= M_V_T_interp(m_i, v_init, v_T_interp_obj)\n",
    "    \n",
    "    # insert real time into dataframe \n",
    "    plot_df['t']= plot_df['t/T']* T\n",
    "    \n",
    "    #plot=False\n",
    "    if plot== True:\n",
    "        plt.plot( plot_df['t/T'],plot_df['V/Vcrit'], 'r-')\n",
    "        plt.title(str(v_init)+'   '+str(m_i))\n",
    "        plt.xlabel('t/T')\n",
    "        plt.ylabel('V/Vcrit')\n",
    "        plt.show()\n",
    "\n",
    "    return plot_df\n",
    "\n",
    "s=v_over_vcrit_interp(20, 200, v_T_interp, True)\n"
   ]
  },
  {
   "cell_type": "code",
   "execution_count": null,
   "metadata": {
    "collapsed": false,
    "deletable": true,
    "editable": true
   },
   "outputs": [],
   "source": [
    "\n",
    "plot_df=pd.read_pickle('./plot_df.pk')\n",
    "grouped = plot_df.groupby(['Be_value','M'])\n",
    "\n",
    "vcritmin_dict={}\n",
    "\n",
    "for g,group in grouped: \n",
    "    x=group['M']\n",
    "    y=group['V_critmin'].min(skipna=True)\n",
    "    #print g, y\n",
    "    vcritmin_dict[g[0], g[1]]= y\n",
    "    \n",
    "#print vcritmin_dict\n",
    "\n"
   ]
  },
  {
   "cell_type": "code",
   "execution_count": null,
   "metadata": {
    "collapsed": false,
    "deletable": true,
    "editable": true
   },
   "outputs": [],
   "source": []
  },
  {
   "cell_type": "code",
   "execution_count": null,
   "metadata": {
    "collapsed": false,
    "deletable": true,
    "editable": true
   },
   "outputs": [],
   "source": [
    "B_vals=[0.6,0.7,0.8,0.9,0.99]\n",
    "v_crit_min_master={}\n",
    "for B in B_vals[0:3]:\n",
    "    crit_rot_data={'B':B}\n",
    "    for M in mass_list[0:3]:\n",
    "        message=str(B)+ '---'+ str(M)\n",
    "        sys.stdout.write ('\\r'+ message)\n",
    "        \n",
    "        v_minM=vcritmin_dict[B,M]\n",
    "        v_maxM=vmax_dict[M]\n",
    "        v_vals=tqdm(np.linspace(v_minM,v_maxM, 100))\n",
    "        crit_times=map(lambda v: v_over_vcrit_interp(M, v, v_T_interp, False), v_vals)\n",
    "        crit_rots_df=pd.DataFrame()\n",
    "        for r in  crit_times:\n",
    "            #first time star is faster than B\n",
    "            crit_rotators=r[r['V/Vcrit']>B]\n",
    "\n",
    "            if crit_rotators.empty == False:\n",
    "                v_i=r['V_init'][0]\n",
    "                t_1=r[r['V/Vcrit']>B]#.iloc[0]['t']\n",
    "                #t_2=r[r['V/Vcrit']>B].iloc[-1]['t']\n",
    "                #print 'V_i=',np.round(v_i,2),'t_1=' , np.round(t_1/1e6,3) , 't_2=', np.round( t_2/1e6,3)\n",
    "\n",
    "                crit_rots_df=crit_rots_df.append(t_1)\n",
    "                #crit_rots_df=crit_rots_df.append(pd.DataFrame([[M,v_i,t_1,t_2]], \n",
    "                #                                       columns=['M','V_init', 't1', 't2']))\n",
    "\n",
    "        crit_rots_df.reset_index(drop=True, inplace=True)\n",
    "        crit_rot_data[M]= crit_rots_df\n",
    "        v_crit_min_master[B]= crit_rot_data\n",
    "        \n",
    "        #plt.plot( crit_rots_df['t']/1e6,crit_rots_df['V_init'], 'o')\n",
    "        #plt.plot( crit_rots_df['t2']/1e6,crit_rots_df['V_init'], 'o')\n",
    "        #plt.title(M)\n",
    "        #plt.show()\n",
    "\n",
    "\n",
    "#pickle.dump( crit_rot_data, open( \"crit_rot_data.pk\", \"wb\" ) )"
   ]
  },
  {
   "cell_type": "code",
   "execution_count": null,
   "metadata": {
    "collapsed": false,
    "deletable": true,
    "editable": true
   },
   "outputs": [],
   "source": []
  },
  {
   "cell_type": "code",
   "execution_count": null,
   "metadata": {
    "collapsed": false,
    "deletable": true,
    "editable": true
   },
   "outputs": [],
   "source": [
    "v_critmin_boundary={}\n",
    "for M in mass_list[0:3]:#np.sort(v_crit_min_master[B].keys()):\n",
    "\n",
    "    for B in np.sort(v_crit_min_master.keys()):\n",
    "        crit_rots_df=v_crit_min_master[B][M]\n",
    "\n",
    "        #crit_rots_df= crit_rot_data[M]\n",
    "        vcritmin_df=pd.DataFrame()\n",
    "        for vi in np.unique(crit_rots_df['V_init']):\n",
    "            di=crit_rots_df[crit_rots_df['V_init'] == vi ]\n",
    "            x=di['t']\n",
    "            y=di['V_init']\n",
    "\n",
    "            ix=x.argmax()\n",
    "            im= x.argmin()\n",
    "\n",
    "            #plt.plot(x.loc[ix], y.loc[ix], 'r.')\n",
    "            #plt.plot(x.loc[im], y.loc[im], 'g.')\n",
    "\n",
    "            \n",
    "            if np.isnan(ix) == False:\n",
    "                vcritmin_df=vcritmin_df.append(pd.DataFrame([[x.loc[ix], y.loc[ix], di['t/T'].loc[ix]]], \n",
    "                                                            columns=['t', 'Vcrit_min', 't/T']))\n",
    "            if np.isnan(im) ==False :\n",
    "                vcritmin_df=vcritmin_df.append(pd.DataFrame([[x.loc[im], y.loc[im], di['t/T'].loc[im]]], \n",
    "                                                            columns=['t', 'Vcrit_min', 't/T']))\n",
    "\n",
    "\n",
    "        vcritmin_df=vcritmin_df.sort_values('t')\n",
    "        vcritmin_df.reset_index(drop=True, inplace=True)\n",
    "        \n",
    "        v_critmin_boundary[B,M]= vcritmin_df\n",
    "        \n",
    "        x=vcritmin_df['t']\n",
    "        y=vcritmin_df['Vcrit_min']\n",
    "        plt.fill_between( x/1e6, y,crit_rots_df['V_init'].max(), alpha=0.8, label=B)\n",
    "        #plt.plot(x,y, '-')\n",
    "        plt.title(str(M) + str('$M_{\\odot}$'))\n",
    "        plt.legend(loc='lower left')\n",
    "        plt.xlabel('t/Myr')\n",
    "        plt.ylabel('V/$kms^{-1}$')\n",
    "    plt.show()\n",
    "    \n"
   ]
  },
  {
   "cell_type": "code",
   "execution_count": null,
   "metadata": {
    "collapsed": false,
    "deletable": true,
    "editable": true
   },
   "outputs": [],
   "source": [
    "t=3e6\n",
    "m_i=4.5\n",
    "for t_frac in np.linspace(0,0.99,10):#np.linspace(0, M_V_T_interp(m_i, 400, v_T_interp), 1000):\n",
    "    x_arr=[]\n",
    "    y_arr=[]\n",
    "    for M in mass_list[0:3]:\n",
    "        dc=v_critmin_boundary[0.7,M]\n",
    "        dc.reset_index(drop=True, inplace=True)\n",
    "        ix=(dc['t/T']-t_frac).abs().argmin()\n",
    "        x=M\n",
    "        y=dc['Vcrit_min'].iloc[ix].min()\n",
    "        #print dc.to_string()\n",
    "        #print dc['t/T'].iloc[ix], t_frac, y\n",
    "        x_arr=np.append(x_arr, x)\n",
    "        y_arr=np.append(y_arr, y)\n",
    "\n",
    "\n",
    "    straight_line1=interpolate.interp1d(x_arr, y_arr,\n",
    "                                            bounds_error=True, assume_sorted=True)\n",
    "\n",
    "\n",
    "\n",
    "    #plt.plot(x_arr,y_arr, 'ko-')\n",
    "    #plt.plot(m_i, straight_line1(m_i), 'ro')\n",
    "    V_minMt=straight_line1(m_i)\n",
    "    plt.plot(t_frac, V_minMt, 'r.')\n",
    "plt.title(m_i)\n",
    "plt.show()\n"
   ]
  },
  {
   "cell_type": "code",
   "execution_count": null,
   "metadata": {
    "collapsed": false,
    "deletable": true,
    "editable": true
   },
   "outputs": [],
   "source": []
  },
  {
   "cell_type": "code",
   "execution_count": null,
   "metadata": {
    "collapsed": false,
    "deletable": true,
    "editable": true
   },
   "outputs": [],
   "source": [
    "s1=v_over_vcrit_interp(20, 200, v_T_interp, False)\n",
    "s2=v_over_vcrit_interp(15, 200, v_T_interp, False)\n",
    "print s1.columns.tolist()\n",
    "plt.plot(s2['t/T'], s2['V/Vcrit'], label= s2['M'].iloc[0])\n",
    "plt.plot(s1['t/T'], s1['V/Vcrit'], label= s1['M'].iloc[0])\n",
    "plt.show()"
   ]
  },
  {
   "cell_type": "code",
   "execution_count": null,
   "metadata": {
    "collapsed": false,
    "deletable": true,
    "editable": true
   },
   "outputs": [],
   "source": [
    "#plot V_critmin against m for a point in time \n",
    "#crit_rot_data= pickle.load('./crit_rot_data.pk')\n",
    "t=5e6\n",
    "def V_critmin_interp(t, m_i):\n",
    "    m_V_critmin_df=pd.DataFrame()\n",
    "    for m in np.sort(crit_rot_data.keys()):\n",
    "        di= crit_rot_data[m]\n",
    "\n",
    "        di.reset_index(drop=True, inplace=True)\n",
    "\n",
    "        ti=((di['t1']-(t)).abs()).argmin()\n",
    "        v_critmin= di.iloc[ti]['V_init']\n",
    "\n",
    "\n",
    "        m_V_critmin_df=m_V_critmin_df.append(pd.DataFrame([[m,v_critmin]], columns=['M', 'V_critmin']))\n",
    "\n",
    "        #ti=((di['t2']-(t)).abs()).argmin()\n",
    "        #v_critmin= di.iloc[ti]['V_init']\n",
    "        #plt.plot(m, v_critmin, 'go')\n",
    "\n",
    "    straight_line1=interpolate.interp1d(x=m_V_critmin_df['M'], y=m_V_critmin_df['V_critmin'],\n",
    "                                                       bounds_error=True, assume_sorted=True)\n",
    "\n",
    "    m_arr=np.linspace(10,12,50)\n",
    "    plt.plot(m_arr, straight_line1(m_arr))\n",
    "    plt.plot(m_V_critmin_df['M'], m_V_critmin_df['V_critmin'], 'ko')  \n",
    "    plt.show()\n",
    "    \n",
    "    #print straight_line1(14)\n",
    "    \n",
    "    return straight_line1(m_i)\n",
    "\n",
    "print V_critmin_interp(11e6, 10.5)"
   ]
  },
  {
   "cell_type": "code",
   "execution_count": null,
   "metadata": {
    "collapsed": false,
    "deletable": true,
    "editable": true
   },
   "outputs": [],
   "source": [
    "print m_V_critmin_df"
   ]
  },
  {
   "cell_type": "code",
   "execution_count": 3,
   "metadata": {
    "collapsed": false,
    "deletable": true,
    "editable": true
   },
   "outputs": [
    {
     "ename": "TypeError",
     "evalue": "v_over_vcrit_interp() takes exactly 5 arguments (2 given)",
     "output_type": "error",
     "traceback": [
      "\u001b[0;31m---------------------------------------------------------------------------\u001b[0m",
      "\u001b[0;31mTypeError\u001b[0m                                 Traceback (most recent call last)",
      "\u001b[0;32m<ipython-input-3-685ad4b0520e>\u001b[0m in \u001b[0;36m<module>\u001b[0;34m()\u001b[0m\n\u001b[0;32m----> 1\u001b[0;31m \u001b[0ma\u001b[0m\u001b[0;34m=\u001b[0m\u001b[0mv_over_vcrit_interp\u001b[0m\u001b[0;34m(\u001b[0m\u001b[0;36m12\u001b[0m\u001b[0;34m,\u001b[0m \u001b[0;36m364\u001b[0m\u001b[0;34m)\u001b[0m \u001b[0;31m#12M initially at v/vcrit=0.5\u001b[0m\u001b[0;34m\u001b[0m\u001b[0m\n\u001b[0m\u001b[1;32m      2\u001b[0m \u001b[0mb\u001b[0m\u001b[0;34m=\u001b[0m\u001b[0mv_over_vcrit_interp\u001b[0m\u001b[0;34m(\u001b[0m\u001b[0;36m15\u001b[0m\u001b[0;34m,\u001b[0m \u001b[0;36m376\u001b[0m\u001b[0;34m)\u001b[0m \u001b[0;31m# initially at v/vcrit=0.5\u001b[0m\u001b[0;34m\u001b[0m\u001b[0m\n\u001b[1;32m      3\u001b[0m \u001b[0mc\u001b[0m\u001b[0;34m=\u001b[0m\u001b[0mv_over_vcrit_interp\u001b[0m\u001b[0;34m(\u001b[0m\u001b[0;36m20\u001b[0m\u001b[0;34m,\u001b[0m \u001b[0;36m393\u001b[0m\u001b[0;34m)\u001b[0m\u001b[0;31m# initially at v/vcrit=0.5\u001b[0m\u001b[0;34m\u001b[0m\u001b[0m\n\u001b[1;32m      4\u001b[0m \u001b[0;34m\u001b[0m\u001b[0m\n\u001b[1;32m      5\u001b[0m \u001b[0mplt\u001b[0m\u001b[0;34m.\u001b[0m\u001b[0mplot\u001b[0m\u001b[0;34m(\u001b[0m \u001b[0ma\u001b[0m\u001b[0;34m[\u001b[0m\u001b[0;34m't/T'\u001b[0m\u001b[0;34m]\u001b[0m\u001b[0;34m,\u001b[0m\u001b[0ma\u001b[0m\u001b[0;34m[\u001b[0m\u001b[0;34m'V/Vcrit'\u001b[0m\u001b[0;34m]\u001b[0m\u001b[0;34m,\u001b[0m \u001b[0;34m'r-'\u001b[0m\u001b[0;34m,\u001b[0m \u001b[0mlabel\u001b[0m\u001b[0;34m=\u001b[0m\u001b[0ma\u001b[0m\u001b[0;34m.\u001b[0m\u001b[0mM\u001b[0m\u001b[0;34m[\u001b[0m\u001b[0;36m0\u001b[0m\u001b[0;34m]\u001b[0m\u001b[0;34m)\u001b[0m\u001b[0;34m\u001b[0m\u001b[0m\n",
      "\u001b[0;31mTypeError\u001b[0m: v_over_vcrit_interp() takes exactly 5 arguments (2 given)"
     ]
    }
   ],
   "source": [
    "a=v_over_vcrit_interp(12, 364) #12M initially at v/vcrit=0.5\n",
    "b=v_over_vcrit_interp(15, 376) # initially at v/vcrit=0.5\n",
    "c=v_over_vcrit_interp(20, 393)# initially at v/vcrit=0.5\n",
    "\n",
    "plt.plot( a['t/T'],a['V/Vcrit'], 'r-', label=a.M[0])\n",
    "plt.plot( b['t/T'],b['V/Vcrit'], 'k-', label=b.M[0])\n",
    "plt.plot( c['t/T'],c['V/Vcrit'], label=c.M[0])\n",
    "plt.legend()\n",
    "plt.xlabel('t/T')\n",
    "plt.ylabel('km/s')\n",
    "plt.show()"
   ]
  },
  {
   "cell_type": "code",
   "execution_count": null,
   "metadata": {
    "collapsed": false,
    "deletable": true,
    "editable": true
   },
   "outputs": [],
   "source": [
    "\n",
    "plot_df=pd.read_pickle('./plot_df.pk')\n",
    "\n",
    "\n",
    "\n",
    "\n",
    "#print plot_df.head(100)"
   ]
  },
  {
   "cell_type": "code",
   "execution_count": null,
   "metadata": {
    "collapsed": true,
    "deletable": true,
    "editable": true
   },
   "outputs": [],
   "source": []
  },
  {
   "cell_type": "code",
   "execution_count": null,
   "metadata": {
    "collapsed": false,
    "deletable": true,
    "editable": true
   },
   "outputs": [],
   "source": [
    "grouped = plot_df.groupby(['Be_value','M'])\n",
    "\n",
    "plot2=pd.DataFrame()\n",
    "\n",
    "for g,group in grouped: \n",
    "    y_vals=[]\n",
    "    #print group\n",
    "    x=group['M']\n",
    "    y=group['V_critmin'].min(skipna=True)\n",
    "    y_vals=y_vals.append(y)\n",
    "    plot2=plot2.append(pd.DataFrame([[g[1], y, g[0]]], columns=['M', 'V_critmin', 'Be_value']))\n",
    "    \n",
    "#print plot_df\n",
    "#print plot2\n",
    "grouped = plot2.groupby(['Be_value'])\n",
    "for g,group in grouped: \n",
    "    x=group.M\n",
    "    y=group['V_critmin']\n",
    "    \n",
    "    plt.plot(x,y,'o-', label=g)\n",
    "    \n",
    "    \n",
    "plt.xlabel(r'$M_{\\odot}$')\n",
    "plt.ylabel(r'$V_{init}/kms^{-1}$')\n",
    "plt.title('Min. $V_{init}$ for $V/V_{crit}$ to reach certain value')\n",
    "\n",
    "plt.legend()\n",
    "#plt.savefig('V_crit-min_plot4.png', dpi=300)\n",
    "plt.show()\n",
    "\n"
   ]
  },
  {
   "cell_type": "code",
   "execution_count": null,
   "metadata": {
    "collapsed": false,
    "deletable": true,
    "editable": true
   },
   "outputs": [],
   "source": []
  },
  {
   "cell_type": "code",
   "execution_count": null,
   "metadata": {
    "collapsed": false,
    "deletable": true,
    "editable": true
   },
   "outputs": [],
   "source": [
    "interp_df=pd.DataFrame()\n",
    "v_crit_interpolation={}\n",
    "for m in  mass_list:\n",
    "    dx=data_df[data_df.M ==m]\n",
    "    for vi in np.unique(dx['V_init'])[1:]:\n",
    "        dl=dx[(dx['V_init']==vi)]\n",
    "        x=dl['V_crit'][0:10].mean()\n",
    "        y=dl['V_init']\n",
    "        #print m, vi,x\n",
    "        #plt.plot(vi,x, 'o')\n",
    "        interp_df=interp_df.append(pd.DataFrame([[m,vi,x]], columns=['M', 'V_init', 'V_crit_init']))\n",
    "        \n",
    "    #plt.title(m)    \n",
    "    #plt.ylim(0,1.05)\n",
    "    #plt.axhline(0.9)\n",
    "    #plt.xlabel('V initial')\n",
    "    #plt.ylabel('V_crit initial')\n",
    "    #plt.show()\n",
    "interp_df.head()\n",
    "\n",
    "grouped = interp_df.groupby(['M'])\n",
    "for g,group in grouped: \n",
    "    x=group['V_init']\n",
    "    y=group['V_crit_init']\n",
    "    straight_line1=interpolate.interp1d(x,y,\n",
    "                                        bounds_error=False, assume_sorted=True)\n",
    "    \n",
    "    vs=np.linspace(0,600,100)\n",
    "    v_crit_interpolation[g]= straight_line1\n",
    "    plt.plot(vs, straight_line1(vs))\n",
    "    plt.title(g)\n",
    "    plt.show()\n",
    "    \n",
    "    \n",
    "print v_crit_interpolation"
   ]
  },
  {
   "cell_type": "code",
   "execution_count": null,
   "metadata": {
    "collapsed": false,
    "deletable": true,
    "editable": true
   },
   "outputs": [],
   "source": []
  },
  {
   "cell_type": "code",
   "execution_count": null,
   "metadata": {
    "collapsed": false,
    "deletable": true,
    "editable": true
   },
   "outputs": [],
   "source": []
  },
  {
   "cell_type": "code",
   "execution_count": null,
   "metadata": {
    "collapsed": false,
    "deletable": true,
    "editable": true
   },
   "outputs": [],
   "source": [
    "\n",
    "interp_vcrit= lambda x: v_crit_interpolation[x['M']](x['V_critmin'])\n",
    "plot_df.reset_index(inplace=True)\n",
    "for index, row in plot_df.iterrows():\n",
    "    #print index\n",
    "    #print v_crit_interpolation[row.M](row['V_critmin'])\n",
    "    #row['Vcrit_init']= v_crit_interpolation[row.M](row['V_critmin'])\n",
    "    plot_df.set_value(index,'Vcrit_init', v_crit_interpolation[row.M](row['V_critmin']))\n",
    "    \n",
    "print plot_df.to_string()"
   ]
  },
  {
   "cell_type": "code",
   "execution_count": null,
   "metadata": {
    "collapsed": false,
    "deletable": true,
    "editable": true
   },
   "outputs": [],
   "source": [
    "grouped = plot_df.groupby(['Be_value','M'])\n",
    "\n",
    "plot2=pd.DataFrame()\n",
    "\n",
    "for g,group in grouped: \n",
    "    x=group['M']\n",
    "    idx=group['V_critmin'].argmin(skipna=True)\n",
    "    if np.isfinite(idx):\n",
    "        Vi=group['V_critmin'].loc[idx]\n",
    "        Vc=group['Vcrit_init'].loc[idx]\n",
    "        y=Vi/Vc\n",
    "    else:\n",
    "        y=np.nan\n",
    "        \n",
    "    plot2=plot2.append(pd.DataFrame([[g[1], y, g[0]]], columns=['M', 'V/V_critmin', 'Be_value']))\n",
    "\n",
    "#print plot_df\n",
    "#print plot2.to_string()\n",
    "grouped = plot2.groupby(['Be_value'])\n",
    "for g,group in grouped: \n",
    "    x=group.M\n",
    "    y=group['V/V_critmin']\n",
    "    \n",
    "    plt.plot(x,y,'o-', label=g)\n",
    "    \n",
    "    \n",
    "plt.xlabel(r'$M_{\\odot}$')\n",
    "plt.ylabel(r'$V/V_{crit}$')\n",
    "plt.title('Min. initial critical fraction for $V/V_{crit}$ to reach certain value')\n",
    "\n",
    "plt.legend()\n",
    "#plt.savefig('V_crit-min_plot3.png', dpi=300)\n",
    "plt.show()\n"
   ]
  },
  {
   "cell_type": "code",
   "execution_count": null,
   "metadata": {
    "collapsed": false,
    "deletable": true,
    "editable": true
   },
   "outputs": [],
   "source": [
    "for vi in np.unique(data_df['V'])[1:]:\n",
    "    for m in  mass_list:\n",
    "        dx=data_df[data_df.M ==m]\n",
    "    \n",
    "        dl=dx[(dx['V']==vi)]\n",
    "        y=dl['V_crit'][0:10].mean()\n",
    "        x=m\n",
    "        #print m, vi,x\n",
    "        plt.plot(x,y, 'o')\n",
    "        \n",
    "    plt.title(vi)    \n",
    "    #plt.ylim(0,1.05)\n",
    "    #plt.axhline(0.9)\n",
    "    #plt.xlabel('V initial')\n",
    "    #plt.ylabel('V_crit initial')\n",
    "    plt.show()"
   ]
  },
  {
   "cell_type": "code",
   "execution_count": null,
   "metadata": {
    "collapsed": false,
    "deletable": true,
    "editable": true
   },
   "outputs": [],
   "source": [
    "print data_df.head()"
   ]
  },
  {
   "cell_type": "code",
   "execution_count": null,
   "metadata": {
    "collapsed": false,
    "deletable": true,
    "editable": true
   },
   "outputs": [],
   "source": [
    "#print MS_finder2('/home/ben/Documents/Bonn-uni/internship/takeaway_data/f10-50.mw.dat2')\n",
    "print data_df.columns.tolist()\n",
    "plt.clf()\n",
    "for m in np.unique(data_df.M):\n",
    "    \n",
    "    dx=data_df[data_df.M ==m]\n",
    "    for vi in np.unique(dx['V_init'])[1::4]:\n",
    "        dl=dx[(dx['V_init']==vi) & (dx['t/Tms'] <0.99)]\n",
    "        x=dl['t/Tms']\n",
    "        y=dl['2:M/Msun'] *dl['5:R/Rsun']**2 #  /dl['2:M/Msun'].iloc[0]\n",
    "        plt.plot(x,y, label=str(int(vi)) +' km/s')\n",
    "        plt.title(m)    \n",
    "        \n",
    "    #plt.ylim(0,1.05)\n",
    "    plt.xlabel(r'$t/T_{MS}$')\n",
    "    plt.ylabel(r'$I$')\n",
    "    plt.legend(loc='upper center', bbox_to_anchor=(0.5, -0.15),ncol=5)\n",
    "    \n",
    "    plt.savefig('/home/ben/Documents/Bonn-uni/internship/plots/I/'+str(m)+'.png', dpi=300,bbox_inches='tight')\n",
    "    plt.show()\n",
    "    plt.clf()"
   ]
  },
  {
   "cell_type": "code",
   "execution_count": null,
   "metadata": {
    "collapsed": true,
    "deletable": true,
    "editable": true
   },
   "outputs": [],
   "source": []
  }
 ],
 "metadata": {
  "kernelspec": {
   "display_name": "Python 2",
   "language": "python",
   "name": "python2"
  },
  "language_info": {
   "codemirror_mode": {
    "name": "ipython",
    "version": 2
   },
   "file_extension": ".py",
   "mimetype": "text/x-python",
   "name": "python",
   "nbconvert_exporter": "python",
   "pygments_lexer": "ipython2",
   "version": "2.7.14"
  }
 },
 "nbformat": 4,
 "nbformat_minor": 2
}
