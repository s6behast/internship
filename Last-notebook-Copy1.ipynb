{
 "cells": [
  {
   "cell_type": "code",
   "execution_count": 1,
   "metadata": {
    "collapsed": false,
    "deletable": true,
    "editable": true
   },
   "outputs": [
    {
     "name": "stdout",
     "output_type": "stream",
     "text": [
      "0.18.1\n"
     ]
    }
   ],
   "source": [
    "import pandas as pd\n",
    "import matplotlib.pyplot as plt\n",
    "%matplotlib inline\n",
    "from pylab import rcParams\n",
    "rcParams['figure.figsize'] = 8, 6\n",
    "import numpy as np \n",
    "import pickle\n",
    "import glob \n",
    "import os \n",
    "import time , sys\n",
    "from scipy import integrate\n",
    "from scipy import interpolate\n",
    "from scipy.interpolate import griddata\n",
    "from scipy.interpolate import RegularGridInterpolator\n",
    "from cycler import cycler\n",
    "from mpl_toolkits.mplot3d import Axes3D\n",
    "import vegas\n",
    "#look at fixing later \n",
    "import warnings\n",
    "warnings.filterwarnings('ignore')\n",
    "\n",
    "from functions2 import * \n",
    "\n",
    "data_dir='/home/ben/Documents/Bonn-uni/internship/takeaway_data/' #'/users/bhastings/internship/data/MW/' # #\n",
    "metallicity='mw'\n",
    "file_ext= '.dat2'\n",
    "\n",
    "import scipy\n",
    "print scipy.__version__"
   ]
  },
  {
   "cell_type": "code",
   "execution_count": 2,
   "metadata": {
    "collapsed": false,
    "deletable": true,
    "editable": true
   },
   "outputs": [
    {
     "name": "stdout",
     "output_type": "stream",
     "text": [
      "masses of models :\n",
      "[ 3.  5.  7.  9. 10. 12. 15. 20. 25.]\n"
     ]
    }
   ],
   "source": [
    "# sort file names so that they are listed by mass, then rotation velocity \n",
    "m_val=lambda x : int(x.split('/')[-1].split('.')[0].split('-')[0][1:])\n",
    "v_val= lambda x : int(x.split('/')[-1].split('.')[0].split('-')[1])\n",
    "\n",
    "s1=sorted(glob.glob(data_dir +'*'+ file_ext), key=v_val)\n",
    "data_files=sorted(s1, key= m_val)\n",
    "\n",
    "\n",
    "#cut stars heavier than 40M, at they do not contribute to Be\n",
    "data_files=filter(lambda x: m_val(x) < 30, data_files)\n",
    "#print data_files\n",
    "\n",
    "mass_list=[]\n",
    "for f in data_files:\n",
    "    mass_list=np.append(mass_list, int(m_val(f)))\n",
    "    \n",
    "mass_list=np.unique(mass_list)\n",
    "\n",
    "\n",
    "print 'masses of models :\\n',mass_list"
   ]
  },
  {
   "cell_type": "code",
   "execution_count": 3,
   "metadata": {
    "collapsed": true,
    "deletable": true,
    "editable": true
   },
   "outputs": [],
   "source": [
    "#load in velocity dstribution \n",
    "v_dist=np.poly1d([ 4.96085349e-13, -4.27023037e-10,  6.65435944e-08,  6.46442910e-06\n",
    "  ,1.93953157e-03])\n",
    "v_max_val=430\n",
    "\n",
    "#set Be threshold \n",
    "Be_value=0.7"
   ]
  },
  {
   "cell_type": "code",
   "execution_count": 4,
   "metadata": {
    "collapsed": false,
    "deletable": true,
    "editable": true
   },
   "outputs": [
    {
     "name": "stdout",
     "output_type": "stream",
     "text": [
      "integral of IMF between  3 and 25 ,eta0 =  5.79034154251 :\n",
      "1.0\n"
     ]
    }
   ],
   "source": [
    "#set up IMF\n",
    "#check that total CDF between mass limits is 1. If not eta0 value needs to be tweaked! \n",
    "global alpha, eta0\n",
    "alpha=2.3\n",
    "lower= 3\n",
    "upper =25\n",
    "eta0=1 / integrate_imf(lower,upper, alpha,1)\n",
    "\n",
    "\n",
    "print \"integral of IMF between \", lower,'and', upper, ',eta0 = ', eta0, \":\"\n",
    "print integrate_imf(lower , upper , alpha , eta0)"
   ]
  },
  {
   "cell_type": "markdown",
   "metadata": {
    "deletable": true,
    "editable": true
   },
   "source": [
    "# load data from models #"
   ]
  },
  {
   "cell_type": "code",
   "execution_count": 5,
   "metadata": {
    "collapsed": false,
    "deletable": true,
    "editable": true
   },
   "outputs": [
    {
     "name": "stdout",
     "output_type": "stream",
     "text": [
      "working on file 111 / 112"
     ]
    }
   ],
   "source": [
    "data_df=pd.DataFrame()\n",
    "i=0\n",
    "for fil in data_files:\n",
    "    message=\"working on file \" +str(i) + \" / \"+ str(len(data_files)) #+ \" :time loop \"+str(i2) + \" / \"+ str(n_vals)\n",
    "    sys.stdout.write ('\\r'+ message)\n",
    "    i=i+1\n",
    "    df_ms, T_ms= MS_finder2(fil)\n",
    "    \n",
    "\n",
    "        # index of time closest to t \n",
    "        #T_indx=(df_ms['1:t[s]']-t).abs().argmin()\n",
    "        #t_i=df_ms['1:t[s]'].loc[T_indx]\n",
    "        #V= df_ms['9:v_surf[km/s]'].loc[T_indx] \n",
    "        #if star is rotating \n",
    "    if v_val(fil) != 0:\n",
    "        V_over_Vcrit=df_ms['9:v_surf[km/s]']/ df_ms['8:v_crit[km/s]']\n",
    "        #print V_over_Vcrit\n",
    "        V_initial=df_ms['9:v_surf[km/s]'][0:100].mean()\n",
    "    else:\n",
    "        V_over_Vcrit=0\n",
    "        V_initial=0\n",
    "        V=0\n",
    "\n",
    "    ti_over_tms=df_ms['1:t[s]']/T_ms\n",
    "\n",
    "    #df_ms=df_ms.append(pd.DataFrame([[f_name,m,V_initial,V, T_ms,V_over_Vcrit, ti_over_tms]],\n",
    "                                                      #columns=['f-name','M','V_initial', 'V', 'T_MS', 'V/Vcrit', 't_i/T_MS']))\n",
    "\n",
    "    df_ms['V/Vcrit']=V_over_Vcrit\n",
    "    df_ms['t/Tms']=ti_over_tms\n",
    "    df_ms['V_init']=V_initial\n",
    "    df_ms['M']= m_val(fil)\n",
    "    df_ms['V']=v_val(fil)\n",
    "    df_ms['T_MS']= T_ms\n",
    "    \n",
    "    data_df=data_df.append(df_ms)"
   ]
  },
  {
   "cell_type": "markdown",
   "metadata": {
    "deletable": true,
    "editable": true
   },
   "source": [
    "# find interpolation between T_MS, V_init and M #"
   ]
  },
  {
   "cell_type": "code",
   "execution_count": 6,
   "metadata": {
    "collapsed": true,
    "deletable": true,
    "editable": true
   },
   "outputs": [],
   "source": [
    "df=data_df[data_df['1:t[s]']== 0]\n",
    "\n",
    "\n",
    "#print df\n",
    "x=np.array(df['V_init'])#[-20:]\n",
    "y=np.array(df['M'])#[-20:]\n",
    "z=np.array(df['T_MS'])#[-20:]\n",
    "\n",
    "        #print x,y,z\n",
    "f = interpolate.interp2d(x, y, z, kind='linear')"
   ]
  },
  {
   "cell_type": "code",
   "execution_count": null,
   "metadata": {
    "collapsed": true,
    "deletable": true,
    "editable": true
   },
   "outputs": [],
   "source": []
  },
  {
   "cell_type": "code",
   "execution_count": 8,
   "metadata": {
    "collapsed": false,
    "deletable": true,
    "editable": true
   },
   "outputs": [
    {
     "name": "stdout",
     "output_type": "stream",
     "text": [
      "\n",
      "time taken (mins)=  1.96439773242 for 1000.0 iterations\n"
     ]
    }
   ],
   "source": [
    "def V_min_Calc(m_i):\n",
    "    b=np.array(map(lambda x: [x,t/f(x,m_i)[0]] , np.linspace(0,v_max_val,1e3)))\n",
    "\n",
    "    V_min= b[(np.abs(b[:,1]-1)).argmin()]\n",
    "    if V_min[1] > 0.99 and V_min[1] <1.01:\n",
    "        V_min=V_min[0]\n",
    "            \n",
    "    elif V_min[1] >1.01:\n",
    "        V_min=v_max_val\n",
    "    elif V_min[1] <0.99:\n",
    "        V_min=0\n",
    "    return V_min\n",
    "\n",
    "def V_critmin_Calc(m_i):\n",
    "\n",
    "    #find masses in grid between m_i \n",
    "    m1= data_df[data_df['M'] <=  m_i].M.max()\n",
    "    m2= data_df[data_df['M'] >  m_i].M.min()\n",
    "    d11=data_df[(data_df['M'] == m1) ]\n",
    "    d22=data_df[(data_df['M'] == m2) ]\n",
    "\n",
    "    db=d11.append(d22)\n",
    "\n",
    "    \n",
    "\n",
    "    V_min= V_min_Calc(m_i)\n",
    "    \n",
    "    T=f(V_min,m_i)[0]\n",
    "    \n",
    "    if t/T >= 0.99: \n",
    "        return v_max_val\n",
    "    \n",
    "     #print m1, m2\n",
    "    #for vi in np.unique(d22['V_init'])[1:]:\n",
    "    #    dx=d22[d22['V_init']==vi]\n",
    "    #    dx=dx[dx['V/Vcrit'] >= 0.05]\n",
    "        #print dx['1:t[s]'].max()\n",
    "    #    x=dx['1:t[s]']/dx['1:t[s]'].max()\n",
    "    #    y=dx['V/Vcrit']\n",
    "        #print x\n",
    "        #plt.plot(dx['1:t[s]']/dx['1:t[s]'].max(), dx['V/Vcrit'], 'k-')\n",
    "        \n",
    "    #plt.title(m2)\n",
    "    #plt.axvline(t/T)\n",
    "    #plt.show()\n",
    "\n",
    "    dm=pd.DataFrame()\n",
    "    \n",
    "    for vi in np.unique(db['V_init'])[1:]:\n",
    "        di= db[(db['V_init']==vi)   ]\n",
    "        #di=di[di['V/Vcrit'] >= 0.05]\n",
    "        #di['t/tms']= (di['1:t[s]']/(di['1:t[s]'].max()))\n",
    "        ti=((di['t/Tms']-(t/T)).abs()).argmin()\n",
    "        #print 't/T' ,(t/T), di['1:t[s]']/(di['1:t[s]'].max())\n",
    "        #print len((di['t/tms']-(t/T)).abs()), vi, len(di), t/T, ti\n",
    "        #print  di[di['t/Tms'] == 0.0]\n",
    "        dn= di.iloc[ti]#di[di['t/Tms'] == ti]\n",
    "        dm=dm.append(dn)\n",
    "        #plt.plot( dm['V_init'],dm['V/Vcrit'], 'ro')\n",
    "    \n",
    "    #plt.show()\n",
    "    #df=dm[dm['t/Tms'] <= 1]\n",
    "    df=dm\n",
    "\n",
    "    #print df\n",
    "    z=np.array(df['V_init'])#[-20:]\n",
    "    x=np.array(df['M'])#[-20:]\n",
    "    y=np.array(df['V/Vcrit'])#[-20:]\n",
    "\n",
    "    #f_n = interpolate.interp2d(x, y, z, kind='linear')\n",
    "    #m_list=np.linspace(m1,m2,500)\n",
    "    #for i in m_list:\n",
    "    #    plt.plot(i, (f_n(i, 0.7)), 'k.' )\n",
    "\n",
    "    #plt.show()\n",
    "    #print f_n(5, 0.7)\n",
    "    \n",
    "    straight_line1=interpolate.interp1d( df['V/Vcrit'][df.M ==m1],df['V_init'][df.M ==m1],\n",
    "                                        fill_value=\"extrapolate\", assume_sorted=True)\n",
    "    straight_line2=interpolate.interp1d( df['V/Vcrit'][df.M ==m2],df['V_init'][df.M ==m2],\n",
    "                                        fill_value=\"extrapolate\", assume_sorted=True)\n",
    "\n",
    "    plot= False#True \n",
    "    if plot==True :\n",
    "    \n",
    "        plt.plot( df['V_init'][df.M ==m1],df['V/Vcrit'][df.M ==m1], 'ro')\n",
    "        plt.plot( df['V_init'][df.M ==m2],df['V/Vcrit'][df.M ==m2], 'go')\n",
    "        plt.plot(straight_line1(np.linspace(0,1,20)), np.linspace(0,1,20), 'k-')\n",
    "        plt.plot(straight_line2(np.linspace(0,1,20)), np.linspace(0,1,20), 'k-')\n",
    "        plt.axhline(Be_value)\n",
    "        plt.title(m_i)\n",
    "        plt.show()\n",
    "    \n",
    "   \n",
    "        for m in [m1,m2]:\n",
    "            dx=data_df[data_df.M ==m]\n",
    "            for vi in np.unique(dx['V_init'])[1:]:\n",
    "                dl=dx[(dx['V_init']==vi)]\n",
    "                #dx=dx[dx['V/Vcrit'] >= 0.05]\n",
    "                #print dx['1:t[s]'].max()\n",
    "                x=dl['t/Tms']\n",
    "                y=dl['V/Vcrit']\n",
    "                #print x\n",
    "                plt.plot(x,y)\n",
    "            plt.title(m)    \n",
    "            plt.axvline(t/T)\n",
    "            plt.show()\n",
    "    \n",
    "    #print m_i, t/T, t/1e6\n",
    "    final_interp=interpolate.interp1d([m1,m2], \n",
    "                                [straight_line1(Be_value), straight_line2(Be_value)], \n",
    "                                fill_value=\"extrapolate\") #, T/1e6, V_min\n",
    "    \n",
    "    return final_interp(m_i)\n",
    "\n",
    "def M_MAX_calc2(data_df, t_val, v_max_value):\n",
    "    dm=pd.DataFrame()\n",
    "    d22t=pd.DataFrame()\n",
    "    for mi in np.unique(data_df['M']):\n",
    "        d=data_df[data_df['M']==mi]\n",
    "        for vi in np.unique(d['V']):\n",
    "            di= d[d['V']==vi]\n",
    "            #ti=(di['t/Tms']-(1)).abs().argmin()\n",
    "            #print ti, vi, len(di)\n",
    "            #print di.iloc[-1]\n",
    "            #print  di[di['t/Tms'] == 0.0]\n",
    "            dn= di.iloc[-1]#di[di['t/Tms'] == ti]\n",
    "            dm=dm.append(dn)\n",
    "    #if ms lifetime of largest mass in dataframe rotating at highest velocity is less than time, give the largest mass\n",
    "    \n",
    "    #print f(v_max_value, dm['M'].max())\n",
    "    if f(v_max_value, dm['M'].max()) >=t_val:\n",
    "        return dm['M'].max()\n",
    "\n",
    "    df=dm\n",
    "\n",
    "    grid_x, grid_y = np.mgrid[0:t_val:1000j, 0: v_max_value:1000j]\n",
    "    values = np.array(df['M'].astype(float))\n",
    "    points=np.array(df[['1:t[s]','V_init' ]])\n",
    "\n",
    "\n",
    "    grid_z0 = griddata(points, values, (grid_x, grid_y), method='linear')\n",
    "\n",
    "    #print grid_y[0][950]\n",
    "    #print grid_x[900][0]\n",
    "\n",
    "    #look for values in range t/Tms >0.95 and v > 0.5 v_max \n",
    "    M_min_candidates=[]\n",
    "    for x in range(995,1000-1):\n",
    "        for y in range(995,1000-1):\n",
    "            M_min_candidates=np.append(M_min_candidates,grid_z0[x][y])\n",
    "\n",
    "\n",
    "    return M_min_candidates.max()\n",
    "        #plot interpolation\n",
    "    #plt.imshow(grid_z0, extent=(0.9,1,0.9,1), origin='lower')\n",
    "    #plt.colorbar()\n",
    "    #plt.title(str(t_val/1e6) +'Myr')\n",
    "    #plt.xlabel('t/Tms')\n",
    "    #plt.ylabel('V/max')\n",
    "    #plt.show()\n",
    "    \n",
    "t=10e6\n",
    "#M_max=M_MAX_calc2(data_df, t, 430)\n",
    "#print 'M_MAX',M_max\n",
    "\n",
    "start_time=time.time()\n",
    "Q=1e3\n",
    "for m_i in np.linspace(3,M_max,Q):\n",
    "    V_critmin_Calc(m_i)\n",
    "    #print m_i, V_critmin_Calc(m_i), V_min_Calc(m_i)\n",
    "    \n",
    "print '\\ntime taken (mins)= ',   (time.time()- start_time)/60, 'for', Q, 'iterations'"
   ]
  },
  {
   "cell_type": "markdown",
   "metadata": {
    "deletable": true,
    "editable": true
   },
   "source": [
    "# define integrals #"
   ]
  },
  {
   "cell_type": "code",
   "execution_count": null,
   "metadata": {
    "collapsed": true,
    "deletable": true,
    "editable": true
   },
   "outputs": [],
   "source": []
  },
  {
   "cell_type": "code",
   "execution_count": 16,
   "metadata": {
    "collapsed": false,
    "deletable": true,
    "editable": true
   },
   "outputs": [],
   "source": [
    "def integrand_n(x):\n",
    "        m_i=x[0]\n",
    "        V_i=x[1]\n",
    "        \n",
    "        \n",
    "        Vc_min= V_critmin_Calc(m_i)\n",
    "        #print Vc_min\n",
    "        \n",
    "        i=integrate_vdist(Vc_min ,v_max_val, v_dist,v_max_val)/integrate_vdist(0 ,v_max_val, v_dist,v_max_val)\n",
    "        \n",
    "        i1=eta0 * m_i**-alpha\n",
    "        #print 'Vc_min=', Vc_min, 'm=',np.round(m_i, 2), 't=', np.round(t/1e6,2), 'TMS=', np.round(T/1e6, 2)\n",
    "        return i*i1\n",
    "        \n",
    "def integrand_N(x):\n",
    "        #print t\n",
    "        m_i=x[0]\n",
    "        V_i=x[1]\n",
    "        \n",
    "        V_min= V_min_Calc(m_i)\n",
    "        \n",
    "        i=integrate_vdist(V_min ,v_max_val, v_dist,v_max_val)/integrate_vdist(0 ,v_max_val, v_dist,v_max_val)\n",
    "        \n",
    "        i1=eta0 * m_i**-alpha\n",
    "        #print 'integrands',i, i1\n",
    "        #print 'V_min=', V_min,'i',i, 'm=',np.round(m_i, 2), 't/TMS=',np.round(t/T,4), 't=', np.round(t/1e6,2), 'TMS=', np.round(T/1e6, 2)\n",
    "        return i*i1\n",
    "    "
   ]
  },
  {
   "cell_type": "markdown",
   "metadata": {
    "deletable": true,
    "editable": true
   },
   "source": [
    "# compute integrals # "
   ]
  },
  {
   "cell_type": "code",
   "execution_count": null,
   "metadata": {
    "collapsed": true,
    "deletable": true,
    "editable": true
   },
   "outputs": [],
   "source": [
    "print 'STARTING'\n",
    "df_N=pd.DataFrame()\n",
    "start_time=time.time()\n",
    "for t in (0,2,5,8,10,15,20,30,40,50,60,70,80,100,120,150, 200, 250,300,400,500):\n",
    "    t=t*1e6\n",
    "    M_max=M_MAX_calc2(t, v_max_val, 3,25 )\n",
    "    integ = vegas.Integrator([[3,M_max], [0, 1]])\n",
    "    result_N = integ(integrand_N, nitn=10, neval=1e3)\n",
    "    print t/1e6,np.round(M_max,3), np.round(result_N.val,5)\n",
    "    df_N=df_N.append(pd.DataFrame([[t,result_N.val]], columns=['t', 'f']))\n",
    "print '\\ntime taken (mins)= ',   (time.time()- start_time)/60"
   ]
  },
  {
   "cell_type": "code",
   "execution_count": null,
   "metadata": {
    "collapsed": false,
    "deletable": true,
    "editable": true
   },
   "outputs": [
    {
     "name": "stdout",
     "output_type": "stream",
     "text": [
      "STARTING\n"
     ]
    }
   ],
   "source": [
    "print 'STARTING'\n",
    "df_n=pd.DataFrame()\n",
    "\n",
    "start_time=time.time()\n",
    "for t in (0,2,5,8,10,15,20,30,40,50,60,70,80,100,120,150, 200, 250,300,400,500):\n",
    "    t=t*1e6\n",
    "    M_max=M_MAX_calc2(data_df, t, v_max_val)\n",
    "    integ = vegas.Integrator([[3,M_max], [0, 1]])\n",
    "    result_n = integ(integrand_n, nitn=10 ,neval=1e3)\n",
    "    print t/1e6,np.round(M_max,3), np.round(result_n.val,5)\n",
    "    df_n=df_n.append(pd.DataFrame([[t,result_n.val, Be_value]], columns=['t', 'f', 'Be_value']))\n",
    "    \n",
    "print '\\ntime taken (mins)= ',   (time.time()- start_time)/60"
   ]
  },
  {
   "cell_type": "code",
   "execution_count": null,
   "metadata": {
    "collapsed": false,
    "deletable": true,
    "editable": true
   },
   "outputs": [],
   "source": [
    "df_n.to_pickle('./n_res.pk')\n",
    "#df_N.to_pickle('./N_res.pk')\n"
   ]
  },
  {
   "cell_type": "code",
   "execution_count": null,
   "metadata": {
    "collapsed": false,
    "deletable": true,
    "editable": true
   },
   "outputs": [],
   "source": []
  },
  {
   "cell_type": "code",
   "execution_count": null,
   "metadata": {
    "collapsed": true,
    "deletable": true,
    "editable": true
   },
   "outputs": [],
   "source": []
  },
  {
   "cell_type": "code",
   "execution_count": null,
   "metadata": {
    "collapsed": true,
    "deletable": true,
    "editable": true
   },
   "outputs": [],
   "source": []
  }
 ],
 "metadata": {
  "kernelspec": {
   "display_name": "Python 2",
   "language": "python",
   "name": "python2"
  },
  "language_info": {
   "codemirror_mode": {
    "name": "ipython",
    "version": 2
   },
   "file_extension": ".py",
   "mimetype": "text/x-python",
   "name": "python",
   "nbconvert_exporter": "python",
   "pygments_lexer": "ipython2",
   "version": "2.7.14"
  }
 },
 "nbformat": 4,
 "nbformat_minor": 2
}
